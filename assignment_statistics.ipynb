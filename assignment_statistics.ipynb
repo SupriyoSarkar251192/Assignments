{
 "cells": [
  {
   "cell_type": "code",
   "execution_count": 2,
   "metadata": {},
   "outputs": [],
   "source": [
    "import numpy as np\n",
    "import pandas as pd\n",
    "import statistics\n",
    "import matplotlib.pyplot as plt\n",
    "import seaborn as sns\n",
    "import collections\n",
    "from scipy.stats.mstats import gmean\n",
    "import scipy.stats as scs"
   ]
  },
  {
   "cell_type": "markdown",
   "metadata": {},
   "source": [
    "1. Generate a list of 100 integers containing values between 90 and 130 and store it in a variable 'int_list'. After generating the list, find the following:\n",
    "\n",
    "i. Write a python function to calculate the mean of the given list of numbers. Create a function to find the median of a list of numbers.\n",
    "\n",
    "ii. Develop a program to compute the mode of a list of integers.\n",
    "\n",
    "iii. Implement a function to calculatr the weighted mean of a list of values and also their corresponding weight.\n",
    "\n",
    "iv. Write a python function to calculate the geometric mean of a list of positive numbers.\n",
    "\n",
    "v. Create a function to calculate the hermonic mean of a list of values.\n",
    "\n",
    "vi. Build a function to determine the midrange of a list of values(average of the min and max).\n",
    "\n",
    "vii. Implement a python program to find the trimmed mean of a list, excluding a certain percentage of outliers."
   ]
  },
  {
   "cell_type": "code",
   "execution_count": 4,
   "metadata": {},
   "outputs": [],
   "source": [
    "int_list = np.random.randint(90, 130, (1,100)).tolist()[0]"
   ]
  },
  {
   "cell_type": "code",
   "execution_count": 6,
   "metadata": {},
   "outputs": [
    {
     "name": "stdout",
     "output_type": "stream",
     "text": [
      "Mean of the integers in the list: 110.22\n",
      "Median of the integers in the list: 111.0\n"
     ]
    }
   ],
   "source": [
    "def mean_median(x):\n",
    "    print(f\"Mean of the integers in the list: {np.mean(int_list)}\")\n",
    "    print(f\"Median of the integers in the list: {np.median(int_list)}\")\n",
    "mean_median(int_list)"
   ]
  },
  {
   "cell_type": "code",
   "execution_count": 40,
   "metadata": {},
   "outputs": [
    {
     "name": "stdout",
     "output_type": "stream",
     "text": [
      "Mode of the numbers in the list: 114\n"
     ]
    }
   ],
   "source": [
    "print(f\"Mode of the numbers in the list: {statistics.mode(int_list)}\")"
   ]
  },
  {
   "cell_type": "code",
   "execution_count": 29,
   "metadata": {},
   "outputs": [
    {
     "data": {
      "text/plain": [
       "110.22"
      ]
     },
     "execution_count": 29,
     "metadata": {},
     "output_type": "execute_result"
    }
   ],
   "source": [
    "\n",
    "def weighted_mean(x):\n",
    "    x_table = dict(collections.Counter(x))\n",
    "    x_var = list(x_table.keys())\n",
    "    x_freq = list(x_table.values())\n",
    "    return np.average(x_var, weights= x_freq)\n",
    "weighted_mean(int_list)"
   ]
  },
  {
   "cell_type": "code",
   "execution_count": 37,
   "metadata": {},
   "outputs": [
    {
     "data": {
      "text/plain": [
       "109.62923934896313"
      ]
     },
     "execution_count": 37,
     "metadata": {},
     "output_type": "execute_result"
    }
   ],
   "source": [
    "\n",
    "def geometric_mean(x):\n",
    "    return gmean(x)\n",
    "geometric_mean(int_list)"
   ]
  },
  {
   "cell_type": "code",
   "execution_count": 41,
   "metadata": {},
   "outputs": [
    {
     "data": {
      "text/plain": [
       "109.03587451360465"
      ]
     },
     "execution_count": 41,
     "metadata": {},
     "output_type": "execute_result"
    }
   ],
   "source": [
    "def harmonic_mean(x):\n",
    "    return statistics.harmonic_mean(x)\n",
    "harmonic_mean(int_list)"
   ]
  },
  {
   "cell_type": "code",
   "execution_count": 44,
   "metadata": {},
   "outputs": [
    {
     "data": {
      "text/plain": [
       "110.0"
      ]
     },
     "execution_count": 44,
     "metadata": {},
     "output_type": "execute_result"
    }
   ],
   "source": [
    "def midrange(x):\n",
    "    return (max(x) + min(x)) / 2\n",
    "midrange(int_list)"
   ]
  },
  {
   "cell_type": "code",
   "execution_count": 50,
   "metadata": {},
   "outputs": [],
   "source": [
    "q1 = np.percentile(int_list, 25)\n",
    "q3 = np.percentile(int_list, 75)\n",
    "iqr = q3 - q1\n",
    "lf = np.median(int_list) - 1.5 * iqr\n",
    "uf = np.median(int_list) + 1.5 * iqr\n",
    "int_list_trimmed = [x for x in int_list if x > lf and x < uf]"
   ]
  },
  {
   "cell_type": "code",
   "execution_count": 53,
   "metadata": {},
   "outputs": [
    {
     "data": {
      "text/plain": [
       "110.22"
      ]
     },
     "execution_count": 53,
     "metadata": {},
     "output_type": "execute_result"
    }
   ],
   "source": [
    "def trimmed_mean(x):\n",
    "    q1 = np.percentile(x, 25)\n",
    "    q3 = np.percentile(x, 75)\n",
    "    iqr = q3 - q1\n",
    "    lf = np.median(x) - 1.5 * iqr\n",
    "    uf = np.median(x) + 1.5 * iqr\n",
    "    x_trimmed = [i for i in x if i > lf and i < uf]\n",
    "    return np.mean(x_trimmed)\n",
    "trimmed_mean(int_list)"
   ]
  },
  {
   "cell_type": "markdown",
   "metadata": {},
   "source": [
    "2. Generate a list of 500 integers containing values between 200 and 300 and store it in the variable 'int_list2'. After generating the list, find the following:\n",
    "\n",
    "i. Compare the given list of visualization for the given data:\n",
    "\n",
    "    a. Frequency and Gaussian Distribution.\n",
    "\n",
    "    b. Frequency smoothened KDE plot.\n",
    "    \n",
    "    c. Gaussian distribution and smoothened KDE plot.\n",
    "\n",
    "ii. Write a python function to calculate the range of given list of numbers.\n",
    "\n",
    "iii. Create a program to find the variance and standard deviation of a list of numbers.\n",
    "\n",
    "iv. Implement a function to compute the inter quartile range(IQR) of a list of values.\n",
    "\n",
    "v. Build a program to calculate the coefficient of variation for a dataset.\n",
    "\n",
    "vi. Write a python function to find out the mean absolute daviation(MAD) of a list of numbers.\n",
    "\n",
    "vii. Write a program to calculate the quartile daviation of a list of values.\n",
    "\n",
    "viii. Implement a function to find out the range-based coefficient of dispersion of a dataset."
   ]
  },
  {
   "cell_type": "code",
   "execution_count": 4,
   "metadata": {},
   "outputs": [],
   "source": [
    "int_list2 = np.random.randint(200, 300, (1, 500)).tolist()[0]"
   ]
  },
  {
   "cell_type": "code",
   "execution_count": 5,
   "metadata": {},
   "outputs": [],
   "source": [
    "il2_mean = np.mean(int_list2)\n",
    "il2_std = np.std(int_list2)\n",
    "il2_normalized = np.random.normal(il2_mean, il2_std, 500)"
   ]
  },
  {
   "cell_type": "code",
   "execution_count": 21,
   "metadata": {},
   "outputs": [
    {
     "data": {
      "text/plain": [
       "<seaborn.axisgrid.FacetGrid at 0x1db7fec0080>"
      ]
     },
     "execution_count": 21,
     "metadata": {},
     "output_type": "execute_result"
    },
    {
     "data": {
      "image/png": "[encoded data removed]",
      "text/plain": [
       "<Figure size 500x500 with 1 Axes>"
      ]
     },
     "metadata": {},
     "output_type": "display_data"
    }
   ],
   "source": [
    "sns.displot(il2_normalized, kde= True)"
   ]
  },
  {
   "cell_type": "code",
   "execution_count": 17,
   "metadata": {},
   "outputs": [
    {
     "data": {
      "text/plain": [
       "<Axes: ylabel='Density'>"
      ]
     },
     "execution_count": 17,
     "metadata": {},
     "output_type": "execute_result"
    },
    {
     "data": {
      "image/png": "[encoded data removed]",
      "text/plain": [
       "<Figure size 640x480 with 1 Axes>"
      ]
     },
     "metadata": {},
     "output_type": "display_data"
    }
   ],
   "source": [
    "sns.kdeplot(int_list2, fill=True)"
   ]
  },
  {
   "cell_type": "code",
   "execution_count": 18,
   "metadata": {},
   "outputs": [
    {
     "data": {
      "text/plain": [
       "<Axes: ylabel='Density'>"
      ]
     },
     "execution_count": 18,
     "metadata": {},
     "output_type": "execute_result"
    },
    {
     "data": {
      "image/png": "[encoded data removed]",
      "text/plain": [
       "<Figure size 640x480 with 1 Axes>"
      ]
     },
     "metadata": {},
     "output_type": "display_data"
    }
   ],
   "source": [
    "sns.kdeplot(il2_normalized, fill=True, color='r')"
   ]
  },
  {
   "cell_type": "code",
   "execution_count": 25,
   "metadata": {},
   "outputs": [
    {
     "data": {
      "text/plain": [
       "'Range of the list is 99'"
      ]
     },
     "execution_count": 25,
     "metadata": {},
     "output_type": "execute_result"
    }
   ],
   "source": [
    "def list_range(x):\n",
    "    r = max(x) - min(x)\n",
    "    return f\"Range of the list is {r}\"\n",
    "list_range(int_list2)"
   ]
  },
  {
   "cell_type": "code",
   "execution_count": 24,
   "metadata": {},
   "outputs": [
    {
     "name": "stdout",
     "output_type": "stream",
     "text": [
      "Standard Daviation:  29.423929037434824\n",
      "Variance:  865.7676000000001\n"
     ]
    }
   ],
   "source": [
    "il2_std = np.std(int_list2)\n",
    "il2_var = np.var(int_list2)\n",
    "print(\"Standard Daviation: \", il2_std)\n",
    "print(\"Variance: \", il2_var)"
   ]
  },
  {
   "cell_type": "code",
   "execution_count": 26,
   "metadata": {},
   "outputs": [
    {
     "data": {
      "text/plain": [
       "'Inter Quartile Range: 50.25'"
      ]
     },
     "execution_count": 26,
     "metadata": {},
     "output_type": "execute_result"
    }
   ],
   "source": [
    "def iqr(x):\n",
    "    r = np.percentile(x, 75) - np.percentile(x, 25)\n",
    "    return f\"Inter Quartile Range: {r}\"\n",
    "iqr(int_list2)"
   ]
  },
  {
   "cell_type": "code",
   "execution_count": 28,
   "metadata": {},
   "outputs": [
    {
     "name": "stdout",
     "output_type": "stream",
     "text": [
      "Coefficient of Variation: 11.863530778741563\n"
     ]
    }
   ],
   "source": [
    "il2_co_v = 100 * (il2_std / il2_mean)\n",
    "print(f\"Coefficient of Variation: {il2_co_v}\")"
   ]
  },
  {
   "cell_type": "code",
   "execution_count": 38,
   "metadata": {},
   "outputs": [
    {
     "data": {
      "text/plain": [
       "0.02195999999999998"
      ]
     },
     "execution_count": 38,
     "metadata": {},
     "output_type": "execute_result"
    }
   ],
   "source": [
    "def mean_abs_dev(x):\n",
    "    sum = 0\n",
    "    for i in x:\n",
    "        abs_dev = np.absolute(i - np.mean(x))\n",
    "        sum += abs_dev\n",
    "    return abs_dev / len(x)\n",
    "mean_abs_dev(int_list2)"
   ]
  },
  {
   "cell_type": "code",
   "execution_count": 40,
   "metadata": {},
   "outputs": [
    {
     "data": {
      "text/plain": [
       "25.125"
      ]
     },
     "execution_count": 40,
     "metadata": {},
     "output_type": "execute_result"
    }
   ],
   "source": [
    "qurt_dev = (np.percentile(int_list2, 75) - np.percentile(int_list2, 25)) / 2\n",
    "qurt_dev"
   ]
  },
  {
   "cell_type": "code",
   "execution_count": 41,
   "metadata": {},
   "outputs": [
    {
     "data": {
      "text/plain": [
       "0.19839679358717435"
      ]
     },
     "execution_count": 41,
     "metadata": {},
     "output_type": "execute_result"
    }
   ],
   "source": [
    "def coeff_disp_range(x):\n",
    "    return (max(x) - min(x))/(max(x) + min(x))\n",
    "coeff_disp_range(int_list2)"
   ]
  },
  {
   "cell_type": "markdown",
   "metadata": {},
   "source": [
    "3. Write a python class representing a discrete random variable with methods to calculate its expected value and variation."
   ]
  },
  {
   "cell_type": "code",
   "execution_count": 2,
   "metadata": {},
   "outputs": [],
   "source": [
    "class disc_rand_var:\n",
    "    def __init__(self, disc_var):\n",
    "        self.disc_var = disc_var\n",
    "    def expected_value(self):\n",
    "        disc_var_ftab = dict(collections.Counter(self.disc_var))\n",
    "        disc_var_x = list(disc_var_ftab.keys())\n",
    "        disc_var_f = list(disc_var_ftab.values())\n",
    "        disc_var_p = [(i / len(self.disc_var)) for i in disc_var_f]\n",
    "        ev = 0\n",
    "        for i in range(len(disc_var_x)):\n",
    "            ev = ev + disc_var_x[i] * disc_var_p [i]\n",
    "        return ev\n",
    "    def variance(self):\n",
    "        import statistics\n",
    "        return statistics.variance(self.disc_var)\n",
    "dv1 = np.random.randint(50,100,(1,500)).tolist()[0]\n",
    "drv1 = disc_rand_var(dv1)"
   ]
  },
  {
   "cell_type": "code",
   "execution_count": 3,
   "metadata": {},
   "outputs": [
    {
     "data": {
      "text/plain": [
       "73.984"
      ]
     },
     "execution_count": 3,
     "metadata": {},
     "output_type": "execute_result"
    }
   ],
   "source": [
    "drv1.expected_value()"
   ]
  },
  {
   "cell_type": "code",
   "execution_count": 4,
   "metadata": {},
   "outputs": [
    {
     "data": {
      "text/plain": [
       "203.10595591182366"
      ]
     },
     "execution_count": 4,
     "metadata": {},
     "output_type": "execute_result"
    }
   ],
   "source": [
    "drv1.variance()"
   ]
  },
  {
   "cell_type": "markdown",
   "metadata": {},
   "source": [
    "4. Implement a program to simulate the rolling of a fare six-sided dice and calculate the expected value and variance of the outcomes."
   ]
  },
  {
   "cell_type": "code",
   "execution_count": 5,
   "metadata": {},
   "outputs": [
    {
     "name": "stdout",
     "output_type": "stream",
     "text": [
      "3.0200000000000005\n",
      "2.142448979591837\n"
     ]
    }
   ],
   "source": [
    "dice = np.random.randint(1,6,(1,50)).tolist()[0]\n",
    "drv2 = disc_rand_var(dice)\n",
    "print(drv2.expected_value())\n",
    "print(drv2.variance())"
   ]
  },
  {
   "cell_type": "markdown",
   "metadata": {},
   "source": [
    "5. Create a python function to generate random samples from a given probability distribution(e.g.- binomial, poisson) and calculate their mean and variance."
   ]
  },
  {
   "cell_type": "code",
   "execution_count": 3,
   "metadata": {},
   "outputs": [
    {
     "name": "stdout",
     "output_type": "stream",
     "text": [
      "[6, 5, 3, 4, 3, 6, 4, 4, 2, 6, 4, 5, 6, 5, 5, 6, 3, 4, 6, 6, 7, 4, 4, 5, 5, 3, 7, 6, 6, 5, 3, 6, 4, 5, 6, 4, 5, 4, 5, 7, 5, 5, 4, 7, 6, 4, 6, 3, 3, 5, 6, 5, 5, 5, 6, 4, 5, 7, 6, 1, 6, 2, 6, 5, 6, 3, 4, 6, 6, 5, 4, 6, 5, 4, 3, 6, 4, 3, 4, 5, 4, 6, 5, 3, 6, 6, 4, 6, 5, 5, 4, 6, 6, 5, 4, 5, 6, 5, 6, 6]\n",
      "4.88\n",
      "1.5208080808080808\n"
     ]
    }
   ],
   "source": [
    "def random_sample(x, px):\n",
    "    import random\n",
    "    import statistics\n",
    "    rs = random.choices(x, px, k=(100))\n",
    "    mean = np.mean(rs)\n",
    "    variance = statistics.variance(rs)\n",
    "    print(rs)\n",
    "    print(mean)\n",
    "    print(variance)\n",
    "n = int(input(\"No. of occurance: \"))\n",
    "p = float(input(\"Probability: \"))\n",
    "r_val = [i for i in range(n + 1)]\n",
    "from scipy.stats import binom\n",
    "prob_dist = [binom.pmf(i, n, p) for i in r_val]\n",
    "random_sample(r_val, prob_dist)"
   ]
  },
  {
   "cell_type": "markdown",
   "metadata": {},
   "source": [
    "6. Write a python script to generate random numbers from a Gaussian(Normal) distribution and calculate mean, variance and standard daviation from the samples."
   ]
  },
  {
   "cell_type": "code",
   "execution_count": 2,
   "metadata": {},
   "outputs": [
    {
     "name": "stdout",
     "output_type": "stream",
     "text": [
      "Mean:  -0.07299389863765439\n",
      "Variance:  0.9572392604190141\n",
      "Standard Daviation:  0.9783860487655239\n"
     ]
    }
   ],
   "source": [
    "def m_v_s_ndist(x):\n",
    "    m = np.mean(x)\n",
    "    s = np.std(x)\n",
    "    rs = np.random.normal(loc=m, scale=s, size=1000)\n",
    "    mean = np.mean(rs)\n",
    "    var = np.var(rs)\n",
    "    std = np.std(rs)\n",
    "    print(\"Mean: \", mean)\n",
    "    print(\"Variance: \",var)\n",
    "    print(\"Standard Daviation: \", std)\n",
    "nd = np.random.randn(100)\n",
    "m_v_s_ndist(nd)"
   ]
  },
  {
   "cell_type": "markdown",
   "metadata": {},
   "source": [
    "7. Use seaborn library to load 'tips' dataset. Find the following from the dataset for the columns 'total_bill' and'tip':\n",
    "\n",
    "i. Write a python function that calculates their skewness. \n",
    "\n",
    "ii. Create a program that determines whether the columns exhibit positive skewness, negative skewness or is approximately symmetrical. \n",
    "\n",
    "iii. Write a function that calculates the covariance between the two columns. \n",
    "\n",
    "iv. Implement a python program that calculates the pearson correlation between two columns. \n",
    "\n",
    "v. Write a script to visualize the correlation between two specific column in a pandas dataframe using scatterplots."
   ]
  },
  {
   "cell_type": "code",
   "execution_count": 3,
   "metadata": {},
   "outputs": [],
   "source": [
    "df = sns.load_dataset('tips')"
   ]
  },
  {
   "cell_type": "code",
   "execution_count": 11,
   "metadata": {},
   "outputs": [
    {
     "data": {
      "text/plain": [
       "array([1.12623463, 1.45642669])"
      ]
     },
     "execution_count": 11,
     "metadata": {},
     "output_type": "execute_result"
    }
   ],
   "source": [
    "def skewness(x):\n",
    "    import scipy.stats as scs\n",
    "    return scs.skew(x, axis=0, bias=True)\n",
    "skewness(df[['total_bill', 'tip']])"
   ]
  },
  {
   "cell_type": "code",
   "execution_count": 4,
   "metadata": {},
   "outputs": [
    {
     "name": "stdout",
     "output_type": "stream",
     "text": [
      "Distribution is right skewed.\n",
      "Distribution is right skewed.\n"
     ]
    }
   ],
   "source": [
    "df1 = df[['total_bill', 'tip']]\n",
    "skewness = scs.skew(df1, axis=0, bias=True)\n",
    "for i in skewness:\n",
    "    if i > 0:\n",
    "        print(\"Distribution is right skewed.\")\n",
    "    elif i == 0:\n",
    "        print(\"Distribution is symmetrical.\")\n",
    "    else:\n",
    "        print(\"Distribution is left skewed.\")"
   ]
  },
  {
   "cell_type": "code",
   "execution_count": 13,
   "metadata": {},
   "outputs": [
    {
     "name": "stdout",
     "output_type": "stream",
     "text": [
      "Covariance between total_bill and tip:  8.323501629224854\n"
     ]
    }
   ],
   "source": [
    "def covariance(x):\n",
    "    col = x.columns\n",
    "    print(f\"Covariance between {col[0]} and {col[1]}: \", x[col[0]].cov(x[col[1]]))\n",
    "covariance(df1)"
   ]
  },
  {
   "cell_type": "code",
   "execution_count": 15,
   "metadata": {},
   "outputs": [
    {
     "data": {
      "text/html": [
       "<div>\n",
       "<style scoped>\n",
       "    .dataframe tbody tr th:only-of-type {\n",
       "        vertical-align: middle;\n",
       "    }\n",
       "\n",
       "    .dataframe tbody tr th {\n",
       "        vertical-align: top;\n",
       "    }\n",
       "\n",
       "    .dataframe thead th {\n",
       "        text-align: right;\n",
       "    }\n",
       "</style>\n",
       "<table border=\"1\" class=\"dataframe\">\n",
       "  <thead>\n",
       "    <tr style=\"text-align: right;\">\n",
       "      <th></th>\n",
       "      <th>total_bill</th>\n",
       "      <th>tip</th>\n",
       "    </tr>\n",
       "  </thead>\n",
       "  <tbody>\n",
       "    <tr>\n",
       "      <th>total_bill</th>\n",
       "      <td>1.000000</td>\n",
       "      <td>0.675734</td>\n",
       "    </tr>\n",
       "    <tr>\n",
       "      <th>tip</th>\n",
       "      <td>0.675734</td>\n",
       "      <td>1.000000</td>\n",
       "    </tr>\n",
       "  </tbody>\n",
       "</table>\n",
       "</div>"
      ],
      "text/plain": [
       "            total_bill       tip\n",
       "total_bill    1.000000  0.675734\n",
       "tip           0.675734  1.000000"
      ]
     },
     "execution_count": 15,
     "metadata": {},
     "output_type": "execute_result"
    }
   ],
   "source": [
    "df1.corr(method='pearson')"
   ]
  },
  {
   "cell_type": "code",
   "execution_count": 16,
   "metadata": {},
   "outputs": [
    {
     "data": {
      "text/plain": [
       "<seaborn.axisgrid.JointGrid at 0x1cb881ca420>"
      ]
     },
     "execution_count": 16,
     "metadata": {},
     "output_type": "execute_result"
    },
    {
     "data": {
      "image/png": "[encoded data removed]",
      "text/plain": [
       "<Figure size 600x600 with 3 Axes>"
      ]
     },
     "metadata": {},
     "output_type": "display_data"
    }
   ],
   "source": [
    "sns.jointplot(data=df, x= 'total_bill', y='tip', kind= 'reg')"
   ]
  },
  {
   "cell_type": "markdown",
   "metadata": {},
   "source": [
    "8. Write a python function to calculate the probability density function of a continuous random variable for a random normal distribution."
   ]
  },
  {
   "cell_type": "code",
   "execution_count": 7,
   "metadata": {},
   "outputs": [
    {
     "name": "stdout",
     "output_type": "stream",
     "text": [
      "[0.20262569 0.1407702  0.28778576 0.26389073 0.43404523 0.09470056\n",
      " 0.33124397 0.20915603 0.28764521 0.43362647 0.4185004  0.38781704\n",
      " 0.37165364 0.24927962 0.34804692 0.3133313  0.1378541  0.32518375\n",
      " 0.39747128 0.43419419 0.31081042 0.00963397 0.16626443 0.41452096\n",
      " 0.33123495 0.42492625 0.22417315 0.36491038 0.25764675 0.28303301\n",
      " 0.30326714 0.4066091  0.42477283 0.38014344 0.32792549 0.34337725\n",
      " 0.1141161  0.04497953 0.16362016 0.41827476 0.1077753  0.34241177\n",
      " 0.4334969  0.36449276 0.33375709 0.425518   0.41110167 0.40249649\n",
      " 0.36398453 0.38012207 0.19858556 0.39626234 0.27207961 0.43405904\n",
      " 0.4339365  0.37751536 0.0386387  0.42490261 0.38421155 0.43398516\n",
      " 0.43352389 0.34553136 0.09912553 0.3777034  0.32254449 0.42159004\n",
      " 0.42936173 0.06814255 0.38417777 0.17514836 0.43339022 0.43420023\n",
      " 0.21530572 0.37100993 0.08302146 0.41168264 0.43295563 0.42621648\n",
      " 0.15604027 0.35319869 0.07043109 0.02976018 0.08929714 0.19412813\n",
      " 0.30583559 0.36343535 0.14417073 0.41987197 0.36685228 0.32391359\n",
      " 0.42829568 0.2975245  0.26857717 0.43270435 0.07792602 0.3972799\n",
      " 0.17792092 0.34122319 0.39547726 0.42914122]\n"
     ]
    },
    {
     "name": "stderr",
     "output_type": "stream",
     "text": [
      "C:\\Users\\supri\\AppData\\Local\\Temp\\ipykernel_3380\\558801050.py:7: FutureWarning: \n",
      "\n",
      "`shade` is now deprecated in favor of `fill`; setting `fill=True`.\n",
      "This will become an error in seaborn v0.14.0; please update your code.\n",
      "\n",
      "  sns.kdeplot(prob_den_func(nd), shade=True)\n"
     ]
    },
    {
     "data": {
      "text/plain": [
       "<Axes: ylabel='Density'>"
      ]
     },
     "execution_count": 7,
     "metadata": {},
     "output_type": "execute_result"
    },
    {
     "data": {
      "image/png": "[encoded data removed]",
      "text/plain": [
       "<Figure size 640x480 with 1 Axes>"
      ]
     },
     "metadata": {},
     "output_type": "display_data"
    }
   ],
   "source": [
    "def prob_den_func(x):\n",
    "    m = np.mean(x)\n",
    "    std = np.std(x)\n",
    "    return scs.norm.pdf(x, m, std)\n",
    "nd = np.random.randn(100)\n",
    "print(prob_den_func(nd))\n",
    "sns.kdeplot(prob_den_func(nd), shade=True)"
   ]
  },
  {
   "cell_type": "markdown",
   "metadata": {},
   "source": [
    "9. Create a program to calculate the cumulative density function(CDF) of an exponential distribution."
   ]
  },
  {
   "cell_type": "code",
   "execution_count": 12,
   "metadata": {},
   "outputs": [
    {
     "name": "stdout",
     "output_type": "stream",
     "text": [
      "[ 0.          0.          0.09329664  0.09329664  0.45153299  0.45153299\n",
      "  0.66268318  0.66268318  0.66268318  0.90349731  0.90349731  0.90349731\n",
      "  0.90349731  0.90349731  1.12928681  1.12928681  1.12928681  1.13768911\n",
      "  1.48040793  1.48040793  1.48040793  1.48040793  1.48040793  1.48040793\n",
      "  1.48040793  1.48040793  1.48040793  1.48040793  1.48040793  1.88326288\n",
      "  2.26707864  2.26707864  2.50537388  3.06379679  3.06379679  3.06379679\n",
      "  3.06379679  3.06379679  3.06379679  3.06379679  3.06379679  3.08323048\n",
      "  3.08901666  3.08901666  3.50360111  3.58758841  4.14554313  4.14554313\n",
      "  4.23468926  4.23468926  4.61344949  4.61344949  5.07583586  5.07583586\n",
      "  5.07583586  5.07583586  5.07583586  5.48674239  5.48674239  5.48674239\n",
      "  5.74199054  5.74199054  5.74199054  5.74199054  5.74199054  6.11467577\n",
      "  6.11467577  6.11467577  6.4195571   6.4195571   6.83939644  7.07537074\n",
      "  7.20382353  7.20382353  7.20382353  7.20382353  7.43831176  7.43831176\n",
      "  7.71032347  7.71032347  8.17280795  8.4403049   8.62414043  9.15632306\n",
      "  9.15632306  9.58892049  9.78646115  9.78646115  9.78646115  9.78646115\n",
      " 10.25837491 10.25837491 10.25837491 10.52809574 10.52809574 10.98735707\n",
      " 10.98735707 11.33979597 11.33979597 11.33979597]\n"
     ]
    },
    {
     "name": "stderr",
     "output_type": "stream",
     "text": [
      "C:\\Users\\supri\\AppData\\Local\\Temp\\ipykernel_3380\\481266042.py:7: FutureWarning: \n",
      "\n",
      "`shade` is now deprecated in favor of `fill`; setting `fill=True`.\n",
      "This will become an error in seaborn v0.14.0; please update your code.\n",
      "\n",
      "  sns.kdeplot(cdf, shade=True)\n"
     ]
    },
    {
     "data": {
      "text/plain": [
       "<Axes: ylabel='Density'>"
      ]
     },
     "execution_count": 12,
     "metadata": {},
     "output_type": "execute_result"
    },
    {
     "data": {
      "image/png": "[encoded data removed]",
      "text/plain": [
       "<Figure size 640x480 with 1 Axes>"
      ]
     },
     "metadata": {},
     "output_type": "display_data"
    }
   ],
   "source": [
    "ed = np.random.exponential(scale=2, size=(100))\n",
    "m = np.mean(ed)\n",
    "std = np.std(ed)\n",
    "pdf = scs.expon.pdf(ed, m, std)\n",
    "cdf = np.cumsum(pdf)\n",
    "print(cdf)\n",
    "sns.kdeplot(cdf, shade=True)"
   ]
  },
  {
   "cell_type": "markdown",
   "metadata": {},
   "source": [
    "10. Write a python function to calculate the Probability Mass Function(PMF) of a poisson distribution."
   ]
  },
  {
   "cell_type": "code",
   "execution_count": 19,
   "metadata": {},
   "outputs": [
    {
     "name": "stdout",
     "output_type": "stream",
     "text": [
      "[0.00000000e+00 0.00000000e+00 0.00000000e+00 0.00000000e+00\n",
      " 2.06115362e-09 0.00000000e+00 4.12230724e-08 0.00000000e+00\n",
      " 4.12230724e-07 0.00000000e+00 2.74820483e-06 0.00000000e+00\n",
      " 1.37410241e-05 0.00000000e+00 5.49640966e-05 0.00000000e+00\n",
      " 1.83213655e-04 0.00000000e+00 5.23467587e-04 0.00000000e+00\n",
      " 1.30866897e-03 0.00000000e+00 2.90815326e-03 0.00000000e+00\n",
      " 5.81630652e-03 0.00000000e+00 1.05751028e-02 0.00000000e+00\n",
      " 1.76251713e-02 0.00000000e+00 2.71156481e-02 0.00000000e+00\n",
      " 3.87366401e-02 0.00000000e+00 5.16488535e-02 0.00000000e+00\n",
      " 6.45610669e-02 0.00000000e+00 7.59541964e-02 0.00000000e+00\n",
      " 8.43935515e-02 0.00000000e+00 8.88353174e-02 0.00000000e+00\n",
      " 8.88353174e-02 0.00000000e+00 8.46050642e-02 0.00000000e+00\n",
      " 7.69136947e-02 0.00000000e+00 6.68814737e-02 0.00000000e+00\n",
      " 5.57345614e-02 0.00000000e+00 4.45876491e-02 0.00000000e+00\n",
      " 3.42981916e-02 0.00000000e+00 2.54060679e-02 0.00000000e+00\n",
      " 1.81471913e-02 0.00000000e+00 1.25153044e-02 0.00000000e+00\n",
      " 8.34353625e-03 0.00000000e+00 5.38292661e-03 0.00000000e+00\n",
      " 3.36432913e-03 0.00000000e+00 2.03898735e-03 0.00000000e+00\n",
      " 1.19940432e-03 0.00000000e+00 6.85373900e-04 0.00000000e+00\n",
      " 3.80763278e-04 0.00000000e+00 2.05817988e-04 0.00000000e+00\n",
      " 1.08325257e-04 0.00000000e+00 5.55514138e-05 0.00000000e+00\n",
      " 2.77757069e-05 0.00000000e+00 1.35491253e-05 0.00000000e+00\n",
      " 6.45196443e-06 0.00000000e+00 3.00091369e-06 0.00000000e+00\n",
      " 1.36405168e-06 0.00000000e+00 6.06245190e-07 0.00000000e+00\n",
      " 2.63584865e-07 0.00000000e+00 1.12163772e-07 0.00000000e+00\n",
      " 4.67349052e-08 0.00000000e+00 1.90754715e-08 0.00000000e+00\n",
      " 7.63018860e-09 0.00000000e+00 2.99223082e-09 0.00000000e+00\n",
      " 1.15085801e-09 0.00000000e+00 4.34286041e-10 0.00000000e+00\n",
      " 1.60846682e-10 0.00000000e+00 5.84897025e-11 0.00000000e+00\n",
      " 2.08891795e-11 0.00000000e+00 7.32953665e-12 0.00000000e+00\n",
      " 2.52742643e-12 0.00000000e+00 8.56754723e-13 0.00000000e+00\n",
      " 2.85584908e-13 0.00000000e+00 9.36343959e-14 0.00000000e+00\n",
      " 3.02046438e-14 0.00000000e+00 9.58877582e-15 0.00000000e+00\n",
      " 2.99649245e-15 0.00000000e+00 9.21997675e-16 0.00000000e+00\n",
      " 2.79393235e-16 0.00000000e+00 8.34009657e-17 0.00000000e+00\n",
      " 2.45296958e-17 0.00000000e+00 7.11005675e-18 0.00000000e+00\n",
      " 2.03144479e-18 0.00000000e+00 5.72237968e-19 0.00000000e+00\n",
      " 1.58954991e-19 0.00000000e+00 4.35493126e-20 0.00000000e+00\n",
      " 1.17700845e-20 0.00000000e+00 3.13868920e-21 0.00000000e+00\n",
      " 8.25970841e-22 0.00000000e+00 2.14537881e-22 0.00000000e+00\n",
      " 5.50097130e-23 0.00000000e+00 1.39265096e-23 0.00000000e+00\n",
      " 3.48162741e-24 0.00000000e+00 8.59661088e-25 0.00000000e+00\n",
      " 2.09673436e-25 0.00000000e+00 5.05237196e-26 0.00000000e+00\n",
      " 1.20294570e-26 0.00000000e+00 2.83046048e-27 0.00000000e+00\n",
      " 6.58246623e-28 0.00000000e+00 1.51321063e-28 0.00000000e+00\n",
      " 3.43911506e-29 0.00000000e+00 7.72834846e-30 0.00000000e+00\n",
      " 1.71741077e-30 0.00000000e+00 3.77452916e-31 0.00000000e+00\n",
      " 8.20549818e-32 0.00000000e+00 1.76462326e-32 0.00000000e+00\n",
      " 3.75451758e-33 0.00000000e+00 7.90424754e-34 0.00000000e+00\n",
      " 1.64671824e-34 0.00000000e+00 3.39529534e-35 0.00000000e+00]\n"
     ]
    },
    {
     "name": "stderr",
     "output_type": "stream",
     "text": [
      "C:\\Users\\supri\\AppData\\Local\\Temp\\ipykernel_3380\\3704150629.py:5: FutureWarning: \n",
      "\n",
      "`shade` is now deprecated in favor of `fill`; setting `fill=True`.\n",
      "This will become an error in seaborn v0.14.0; please update your code.\n",
      "\n",
      "  sns.kdeplot(prob_mass_func(x1), shade=True)\n"
     ]
    },
    {
     "data": {
      "text/plain": [
       "<Axes: ylabel='Density'>"
      ]
     },
     "execution_count": 19,
     "metadata": {},
     "output_type": "execute_result"
    },
    {
     "data": {
      "image/png": "[encoded data removed]",
      "text/plain": [
       "<Figure size 640x480 with 1 Axes>"
      ]
     },
     "metadata": {},
     "output_type": "display_data"
    }
   ],
   "source": [
    "def prob_mass_func(x):\n",
    "    return scs.poisson.pmf(x, 20, 2)\n",
    "x1 = np.arange(0, 100, 0.5)\n",
    "print(prob_mass_func(x1))\n",
    "sns.kdeplot(prob_mass_func(x1), shade=True)"
   ]
  },
  {
   "cell_type": "code",
   "execution_count": 16,
   "metadata": {},
   "outputs": [
    {
     "data": {
      "text/plain": [
       "array([9.04543910e-01, 2.43546937e-01, 6.47347126e-02, 2.24963309e-01,\n",
       "       5.20428317e-01, 3.66483480e-02, 8.84867404e-01, 2.35803923e-01,\n",
       "       6.99221367e-02, 3.22055818e-01, 4.47984607e-01, 5.01971138e-01,\n",
       "       1.30126717e-01, 3.23449200e-01, 5.05020167e-01, 6.95297447e-02,\n",
       "       4.34989987e-01, 9.93397731e-03, 4.42485785e-01, 5.56994790e-02,\n",
       "       2.51447911e-01, 6.81192984e-01, 3.89344112e-01, 2.94781781e-01,\n",
       "       7.46578500e-01, 2.13328608e-01, 5.76785947e-01, 9.41149206e-02,\n",
       "       4.15250519e-01, 9.82256250e-02, 6.89436587e-04, 3.86692750e-01,\n",
       "       4.10366033e-02, 3.28324953e-01, 5.38445144e-02, 6.77340253e-01,\n",
       "       2.48902128e-01, 3.82932320e-01, 5.85420463e-01, 2.23821845e-01,\n",
       "       7.87443488e-01, 5.30843376e-02, 9.18904363e-01, 5.31527307e-01,\n",
       "       3.69502436e-01, 7.34542179e-01, 1.87133354e-01, 3.56171489e-02,\n",
       "       1.86658952e-01, 5.67274032e-01, 2.20056900e-01, 9.20927718e-02,\n",
       "       2.09705774e-01, 6.56850672e-01, 1.43228106e-01, 6.72116006e-01,\n",
       "       4.55157844e-01, 3.77244066e-02, 7.16536522e-01, 4.74939522e-01,\n",
       "       9.29398482e-01, 5.93200053e-01, 2.27896731e-01, 3.11182673e-01,\n",
       "       9.90232940e-01, 6.16820749e-01, 2.63348400e-01, 8.86611521e-01,\n",
       "       8.37445299e-01, 2.76257918e-01, 3.15896002e-01, 7.03092346e-01,\n",
       "       9.70111501e-01, 9.15356639e-01, 7.47775913e-02, 6.80785187e-01,\n",
       "       8.37104612e-02, 1.56479609e-01, 7.82032921e-01, 6.52307693e-02,\n",
       "       6.80914061e-01, 3.72330945e-01, 3.07333439e-01, 8.71073559e-01,\n",
       "       1.16044035e-01, 5.30068410e-01, 4.71974405e-02, 9.65236683e-01,\n",
       "       4.87045728e-01, 2.08426569e-01, 9.52041892e-01, 2.07303081e-01,\n",
       "       6.79028316e-01, 9.46660384e-01, 9.86819086e-01, 2.00426201e-01,\n",
       "       5.32821725e-01, 2.08699336e-01, 5.90376259e-02, 2.45657236e-01])"
      ]
     },
     "execution_count": 16,
     "metadata": {},
     "output_type": "execute_result"
    }
   ],
   "source": [
    "np.random.rand(100)"
   ]
  },
  {
   "cell_type": "code",
   "execution_count": 2,
   "metadata": {},
   "outputs": [],
   "source": [
    "from statsmodels.stats.weightstats import ztest"
   ]
  },
  {
   "cell_type": "markdown",
   "metadata": {},
   "source": [
    "11. A company wants to test a new website layout leads to a higher conversion rates(Percentage of visitors who make a purchase). They collect data from old and new layouts to compare.\n",
    "\n",
    "To generate the data use the following commands:\n",
    "\n",
    "Apply z test to find out which test is successful."
   ]
  },
  {
   "cell_type": "code",
   "execution_count": 11,
   "metadata": {},
   "outputs": [],
   "source": [
    "import numpy as np\n",
    "# 50 purchases of 1000 visitors\n",
    "old_layout = np.array([1] * 50 + [0] * 950)\n",
    "# 70 purchases of 1000 visitors\n",
    "new_layout = np.array([1] * 70 + [0] * 930)"
   ]
  },
  {
   "cell_type": "code",
   "execution_count": 12,
   "metadata": {},
   "outputs": [
    {
     "name": "stdout",
     "output_type": "stream",
     "text": [
      "New layout is better to implement.\n"
     ]
    }
   ],
   "source": [
    "p = (len(old_layout[old_layout == 1]) + len(new_layout[new_layout == 1])) / (len(old_layout) + len(new_layout))\n",
    "p_ol = len(old_layout[old_layout == 1]) / len(old_layout)\n",
    "p_nl = len(new_layout[new_layout == 1]) / len(new_layout)\n",
    "z = (p_nl - p_ol)/np.sqrt(p * (1-p)*((1/len(new_layout))+(1/len(new_layout))))\n",
    "p_val = scs.norm.sf(abs(z))\n",
    "if z <= 1.65:\n",
    "    print(\"Both layouts are equally effective.\")\n",
    "else:\n",
    "    print(\"New layout is better to implement.\")"
   ]
  },
  {
   "cell_type": "markdown",
   "metadata": {},
   "source": [
    "12. A tutoring service claims that it's program improves student's exam score. A sample of students who participated in the program was taken and their scores before and after the program was recorded. \n",
    "\n",
    "Use z tests made by tutors are true false."
   ]
  },
  {
   "cell_type": "code",
   "execution_count": 19,
   "metadata": {},
   "outputs": [],
   "source": [
    "before_program = np.array([75, 80, 85, 70, 90, 78, 92, 88, 82, 87])\n",
    "after_program = np.array([80, 85, 90, 80, 92, 80, 95, 90, 85, 88])"
   ]
  },
  {
   "cell_type": "code",
   "execution_count": 39,
   "metadata": {},
   "outputs": [
    {
     "name": "stdout",
     "output_type": "stream",
     "text": [
      "Tutor's claim is False.\n"
     ]
    }
   ],
   "source": [
    "v1 = np.mean(before_program)\n",
    "v2 = np.mean(after_program)\n",
    "z_test = ztest(before_program, after_program, value = v2 - v1)\n",
    "zscore = z_test[0]\n",
    "p_val = z_test[1]\n",
    "if zscore > 1.65:\n",
    "    print(\"Tutor's claim is True.\")\n",
    "else:\n",
    "    print(\"Tutor's claim is False.\")"
   ]
  },
  {
   "cell_type": "markdown",
   "metadata": {},
   "source": [
    "13. A phermacutical company wants to determine if a new drug is effective in reducing blood pressure. They conduct a study to measure blood pressure measurements before and after administering the drug.\n",
    "implement ztest to find the drug really works or not."
   ]
  },
  {
   "cell_type": "code",
   "execution_count": 48,
   "metadata": {},
   "outputs": [],
   "source": [
    "before_drug = np.array([145, 150, 135, 140, 155, 160, 152, 148, 130, 138])\n",
    "after_drug = np.array([130, 140, 132, 128, 145, 148, 138, 136, 125, 130])"
   ]
  },
  {
   "cell_type": "code",
   "execution_count": 52,
   "metadata": {},
   "outputs": [
    {
     "name": "stdout",
     "output_type": "stream",
     "text": [
      "Drug is working.\n"
     ]
    }
   ],
   "source": [
    "v1 = np.mean(before_drug)\n",
    "v2 = np.mean(after_drug)\n",
    "z_test = ztest(before_drug, after_drug, value= v2 - v1)\n",
    "zscore = z_test[0]\n",
    "p_val = z_test[1]\n",
    "if zscore < 1.65:\n",
    "    print(\"No effect of drug\")\n",
    "else:\n",
    "    print(\"Drug is working.\")"
   ]
  },
  {
   "cell_type": "markdown",
   "metadata": {},
   "source": [
    "14. A customer service department claims that their average response time is less than 5 min. A sample of recent customer interactions was taken, and the response times were recored.\n",
    "\n",
    "Implement z test to find the claims made by customer service department are true or false."
   ]
  },
  {
   "cell_type": "code",
   "execution_count": 53,
   "metadata": {},
   "outputs": [],
   "source": [
    "response_times = np.array([4.3, 3.8, 5.1, 4.9, 4.7, 4.2, 5.2, 4.5, 4.6, 4.4])"
   ]
  },
  {
   "cell_type": "code",
   "execution_count": 54,
   "metadata": {},
   "outputs": [
    {
     "name": "stdout",
     "output_type": "stream",
     "text": [
      "Claims are true.\n"
     ]
    }
   ],
   "source": [
    "z_test = ztest(response_times, value=5)\n",
    "zscore = z_test[0]\n",
    "p_val = z_test[1]\n",
    "if zscore < -1.65:\n",
    "    print(\"Claims are true.\")\n",
    "else:\n",
    "    print(\"Claims are not true.\")"
   ]
  },
  {
   "cell_type": "markdown",
   "metadata": {},
   "source": [
    "15. A company is testing two different test layouts to see which one leads to higher click through rates. Write a python function to perform an A/B test analysis including calculating the t-statistic, degree of freedom and p-value."
   ]
  },
  {
   "cell_type": "code",
   "execution_count": 8,
   "metadata": {},
   "outputs": [],
   "source": [
    "layout_a_click = np.array([28, 32, 33, 29, 31, 34, 30, 35, 36, 37])\n",
    "layout_b_click = np.array([40, 41, 38, 42, 39, 44, 43, 41, 45, 47])"
   ]
  },
  {
   "cell_type": "code",
   "execution_count": 9,
   "metadata": {},
   "outputs": [
    {
     "name": "stdout",
     "output_type": "stream",
     "text": [
      "No difference in samples.\n",
      "-1.0825376116197238\n"
     ]
    }
   ],
   "source": [
    "def t_test(x1, x2):\n",
    "    import numpy as np\n",
    "    m1 = np.mean(x1)\n",
    "    m2 = np.mean(x2)\n",
    "    d1 = np.std(x1)\n",
    "    d2 = np.std(x2)\n",
    "    dof1 = len(x1) - 1\n",
    "    dof2 = len(x2) - 1\n",
    "    sd = np.sqrt((dof1 * (d1 ** 2) + dof2 * (d2 ** 2))/(dof1 + dof2))\n",
    "    t_score = (m1 - m2)/(sd * np.sqrt(1/len(x1) + len(x2)))\n",
    "    if np.abs(t_score) > 2.101:\n",
    "        print(\"There is difference observed.\")\n",
    "    else:\n",
    "        print(\"No difference in samples.\")\n",
    "    print(t_score)\n",
    "t_test(layout_a_click, layout_b_click)\n",
    "    "
   ]
  },
  {
   "cell_type": "markdown",
   "metadata": {},
   "source": [
    "16. A pharmacutical company wants to determine if a new drug is more effective than an existing drug in reducing cholesterol levels. Create a program to analize the clinical trial data and calculate the t-statistic and p-value for the treatment effect."
   ]
  },
  {
   "cell_type": "code",
   "execution_count": 2,
   "metadata": {},
   "outputs": [],
   "source": [
    "existing_drug_levels = np.array([180, 182, 175, 185, 178, 176, 172, 184, 179, 183])\n",
    "new_drug_levels = np.array([170, 172, 165, 168, 175, 173, 170, 178, 172, 176])"
   ]
  },
  {
   "cell_type": "code",
   "execution_count": 4,
   "metadata": {},
   "outputs": [
    {
     "name": "stdout",
     "output_type": "stream",
     "text": [
      "T-score: 4.14048098620866\n",
      "P-Value: 0.0006143398442372505\n",
      "Critical t-score: 1.7340636066175354\n",
      "The new drug is effective.\n"
     ]
    }
   ],
   "source": [
    "t_score, p_val = scs.ttest_ind(existing_drug_levels, new_drug_levels)\n",
    "df = len(existing_drug_levels) + len(new_drug_levels) - 2\n",
    "alp = 0.05\n",
    "t_cv = scs.t.ppf(1-alp, df)\n",
    "print(\"T-score:\", t_score)\n",
    "print(\"P-Value:\", p_val)\n",
    "print(\"Critical t-score:\", t_cv)\n",
    "if np.abs(t_score) >t_cv:\n",
    "    print('The new drug is effective.')\n",
    "else:\n",
    "    print('No such difference observed.')\n",
    " "
   ]
  },
  {
   "cell_type": "markdown",
   "metadata": {},
   "source": [
    "17. A school district introduces an educational intervension program to improve math scores. Write a python function to analyze pre and post intervension test scores to determine t-statistics and p-value to determine if the intervension had a significant impact."
   ]
  },
  {
   "cell_type": "code",
   "execution_count": 5,
   "metadata": {},
   "outputs": [],
   "source": [
    "pre_intervension_score = np.array([80, 85, 90, 75, 88, 82, 92, 78, 85, 87])\n",
    "post_intervension_score = np.array([90, 92, 88, 92, 95, 91, 96, 93, 89, 93])"
   ]
  },
  {
   "cell_type": "code",
   "execution_count": 6,
   "metadata": {},
   "outputs": [
    {
     "name": "stdout",
     "output_type": "stream",
     "text": [
      "T-score: -4.080355128162116\n",
      "P-Value: 0.0007022570725706455\n",
      "Critical t-score: 1.7340636066175354\n",
      "The intervension had a significant impact.\n"
     ]
    }
   ],
   "source": [
    "t_score, p_val = scs.ttest_ind(pre_intervension_score, post_intervension_score)\n",
    "df = len(pre_intervension_score) + len(post_intervension_score) - 2\n",
    "alp = 0.05\n",
    "t_cv = scs.t.ppf(1-alp, df)\n",
    "print(\"T-score:\", t_score)\n",
    "print(\"P-Value:\", p_val)\n",
    "print(\"Critical t-score:\", t_cv)\n",
    "if np.abs(t_score) >t_cv:\n",
    "    print('The intervension had a significant impact.')\n",
    "else:\n",
    "    print('No such difference observed.')"
   ]
  },
  {
   "cell_type": "markdown",
   "metadata": {},
   "source": [
    "18. An HR department wants to investigate if there is a gender based salary gap within the company. Develop a program to analize the salary data, calculate the t-statistic and determine if there is a statistically significant average salary gap between male and female employees."
   ]
  },
  {
   "cell_type": "code",
   "execution_count": 4,
   "metadata": {},
   "outputs": [],
   "source": [
    "np.random.seed(0)\n",
    "male_salaries = np.random.normal(loc= 50000, scale= 10000, size= 20)\n",
    "female_salaries = np.random.normal(loc= 55000, scale= 9000, size= 20)"
   ]
  },
  {
   "cell_type": "code",
   "execution_count": 5,
   "metadata": {},
   "outputs": [
    {
     "name": "stdout",
     "output_type": "stream",
     "text": [
      "T-score: 0.06114208969631383\n",
      "P-Value: 0.9515665020676465\n",
      "Critical t-score: 2.024394163911969\n",
      "No such difference in average salaries of employees.\n"
     ]
    }
   ],
   "source": [
    "t_score, p_val = scs.ttest_ind(male_salaries, female_salaries)\n",
    "df = len(male_salaries) + len(female_salaries) - 2\n",
    "alp = 0.05\n",
    "t_cv = scs.t.ppf(1-alp/2, df)\n",
    "print(\"T-score:\", t_score)\n",
    "print(\"P-Value:\", p_val)\n",
    "print(\"Critical t-score:\", t_cv)\n",
    "if np.abs(t_score) >t_cv:\n",
    "    print('There is a significant gap between average salaries of male and female employees.')\n",
    "else:\n",
    "    print('No such difference in average salaries of employees.')"
   ]
  },
  {
   "cell_type": "markdown",
   "metadata": {},
   "source": [
    "19. A manufacturer produces two different versions of a product and wants to compare their quality score. Create apython function to analyze quality assesment data, calculate t-statistics and decide whether there is a significant quality difference between quality of two versions."
   ]
  },
  {
   "cell_type": "code",
   "execution_count": 6,
   "metadata": {},
   "outputs": [],
   "source": [
    "version1_scores = np.array([85, 88, 82, 89, 87, 84, 90, 88, 85, 86, 91, 83, 87, 84, 89, 86, 84, 88, 85, 86, 89, 90, 87, 88, 85])\n",
    "version2_scores = np.array([80, 78, 83, 81, 79, 82, 76, 80, 78, 81, 77, 82, 79, 80, 81, 79, 82, 79, 78, 80, 81, 82])"
   ]
  },
  {
   "cell_type": "code",
   "execution_count": 7,
   "metadata": {},
   "outputs": [
    {
     "name": "stdout",
     "output_type": "stream",
     "text": [
      "T-score: 10.825470526334266\n",
      "P-Value: 4.089751290602056e-14\n",
      "Critical t-score: 2.014103388880846\n",
      "There is a significant quality difference.\n"
     ]
    }
   ],
   "source": [
    "t_score, p_val = scs.ttest_ind(version1_scores, version2_scores)\n",
    "df = len(version1_scores) + len(version2_scores) - 2\n",
    "alp = 0.05\n",
    "t_cv = scs.t.ppf(1-alp/2, df)\n",
    "print(\"T-score:\", t_score)\n",
    "print(\"P-Value:\", p_val)\n",
    "print(\"Critical t-score:\", t_cv)\n",
    "if np.abs(t_score) >t_cv:\n",
    "    print('There is a significant quality difference.')\n",
    "else:\n",
    "    print('No such quality difference observed.')"
   ]
  },
  {
   "cell_type": "markdown",
   "metadata": {},
   "source": [
    "20. A restaurent chain collects customer satisfection scores from two different branches. Write a program to analize the scores, calculate t-statistics and determine if there is statistically significant difference of customer satisfection between two branches."
   ]
  },
  {
   "cell_type": "code",
   "execution_count": 8,
   "metadata": {},
   "outputs": [],
   "source": [
    "branch_a_scores = np.array([4, 5, 3, 4, 5, 4, 5, 3, 4, 4, 5, 4, 4, 3, 4, 5, 5, 4, 3, 4, 5, 4, 3, 5, 4, 4, 5, 3, 4, 5, 4])\n",
    "branch_b_scores = np.array([3, 4, 2, 3, 4, 3, 4, 2, 3, 3, 4, 3, 3, 2, 3, 4, 4, 3, 2, 3, 4, 3, 2, 4, 3, 3, 4, 2, 3, 4, 3])"
   ]
  },
  {
   "cell_type": "code",
   "execution_count": 9,
   "metadata": {},
   "outputs": [
    {
     "name": "stdout",
     "output_type": "stream",
     "text": [
      "T-score: 5.480077554195743\n",
      "P-Value: 8.895290509945657e-07\n",
      "Critical t-score: 2.00029782201426\n",
      "There is a significant difference between customer satisfection scores.\n"
     ]
    }
   ],
   "source": [
    "t_score, p_val = scs.ttest_ind(branch_a_scores, branch_b_scores)\n",
    "df = len(branch_a_scores) + len(branch_b_scores) - 2\n",
    "alp = 0.05\n",
    "t_cv = scs.t.ppf(1-alp/2, df)\n",
    "print(\"T-score:\", t_score)\n",
    "print(\"P-Value:\", p_val)\n",
    "print(\"Critical t-score:\", t_cv)\n",
    "if np.abs(t_score) >t_cv:\n",
    "    print('There is a significant difference between customer satisfection scores.')\n",
    "else:\n",
    "    print('No such customer satisfection difference observed.')"
   ]
  },
  {
   "cell_type": "markdown",
   "metadata": {},
   "source": [
    "21. A political analyst wants to determine if there is a significant association between age groups and voter performances (Candidate A or Candidate B). They collect sample from 500 voters and classify them into different age groups and candidate performances. Perform a chi-square test to determine if there is a significant association between age group and voter performances."
   ]
  },
  {
   "cell_type": "code",
   "execution_count": 10,
   "metadata": {},
   "outputs": [],
   "source": [
    "np.random.seed(0)\n",
    "age_groups = np.random.choice(['18-30', '31-50', '51+'], size=30)\n",
    "voter_performances = np.random.choice(['Candidate A', 'Candidate B'], size=30)"
   ]
  },
  {
   "cell_type": "code",
   "execution_count": 11,
   "metadata": {},
   "outputs": [
    {
     "name": "stdout",
     "output_type": "stream",
     "text": [
      "p value:  0.48671161971286614\n",
      "age group and voter performance does not associate.\n"
     ]
    }
   ],
   "source": [
    "data = pd.crosstab(age_groups, voter_performances)\n",
    "stat, p, dof, expected = scs.chi2_contingency(data)\n",
    "alpha = 0.05\n",
    "print(\"p value: \", p)\n",
    "if p <= alpha:\n",
    "    print('There is a significant association between age group and voter performances.')\n",
    "else:\n",
    "    print('age group and voter performance does not associate.')"
   ]
  },
  {
   "cell_type": "markdown",
   "metadata": {},
   "source": [
    "22. A company conducted a customer satisfection survey to determine if there is a significant relationship between product satisfection levels(Satisfied, Neutral, Dissatisfied) and region wise customers are located(East, West, North, South). The survey data is summerised in a contengency table. Conduct a Chi Square test to determine if there is a significant relationship between customer satisfection level and customer region."
   ]
  },
  {
   "cell_type": "code",
   "execution_count": 3,
   "metadata": {},
   "outputs": [],
   "source": [
    "data = np.array([[50, 30, 40, 20], [30, 40, 30, 50], [20, 30, 40, 30]])"
   ]
  },
  {
   "cell_type": "code",
   "execution_count": 4,
   "metadata": {},
   "outputs": [
    {
     "name": "stdout",
     "output_type": "stream",
     "text": [
      "p value:  0.00010349448486004387\n",
      "There is a significant relationship between customer satisfection level and customer region.\n"
     ]
    }
   ],
   "source": [
    "stat, p, dof, expected = scs.chi2_contingency(data)\n",
    "alpha = 0.05\n",
    "print(\"p value: \", p)\n",
    "if p <= alpha:\n",
    "    print('There is a significant relationship between customer satisfection level and customer region.')\n",
    "else:\n",
    "    print('customer satisfection level and customer region does not relate.')"
   ]
  },
  {
   "cell_type": "markdown",
   "metadata": {},
   "source": [
    "23. A company implemented an employee training programme to improve job performance(Effective, Neutral, Ineffective). After the training they collected data from a sample of employees and classified them based on their job performance before and after the training. Perform a chi square test to determine if there is a significant difference between job performance levels before and after the training."
   ]
  },
  {
   "cell_type": "code",
   "execution_count": 6,
   "metadata": {},
   "outputs": [],
   "source": [
    "data = np.array([[50, 30, 20], [30, 40, 30], [20, 30, 40]])"
   ]
  },
  {
   "cell_type": "code",
   "execution_count": 7,
   "metadata": {},
   "outputs": [
    {
     "name": "stdout",
     "output_type": "stream",
     "text": [
      "p value:  0.00018609719479882554\n",
      "There is a significant difference between job performance levels before and after the training.\n"
     ]
    }
   ],
   "source": [
    "stat, p, dof, expected = scs.chi2_contingency(data)\n",
    "alpha = 0.05\n",
    "print(\"p value: \", p)\n",
    "if p <= alpha:\n",
    "    print('There is a significant difference between job performance levels before and after the training.')\n",
    "else:\n",
    "    print('No significant difference between job performance levels before and after the training.')"
   ]
  },
  {
   "cell_type": "markdown",
   "metadata": {},
   "source": [
    "24. A company produces three different versions of a product: Standard, Premium and Deluxe. Company wants to determine if there is a significant difference in customer satisfection scores among the three product versions. They conducted a survey and collected customer satisfection scores for each version from a random sample of customers. Conduct a ANOVA test to determine if there is a significant difference in customer satisfection scores."
   ]
  },
  {
   "cell_type": "code",
   "execution_count": 9,
   "metadata": {},
   "outputs": [],
   "source": [
    "standard_scores = np.array([80, 85, 90, 78, 88, 82, 92, 78, 85, 87])\n",
    "premium_scores = np.array([90, 92, 88, 92, 95, 91, 96, 93, 89, 93])\n",
    "deluxe_scores = np.array([95, 98, 92, 97, 96, 94, 98, 97, 92, 99])"
   ]
  },
  {
   "cell_type": "code",
   "execution_count": 11,
   "metadata": {},
   "outputs": [
    {
     "name": "stdout",
     "output_type": "stream",
     "text": [
      "P value:  3.578632885734896e-07\n",
      "There is a significant difference in customer satisfection scores.\n"
     ]
    }
   ],
   "source": [
    "stat, p_val = scs.f_oneway(standard_scores, premium_scores, deluxe_scores)\n",
    "alpha = 0.05\n",
    "print(\"P value: \", p_val)\n",
    "if p_val <= alpha:\n",
    "    print('There is a significant difference in customer satisfection scores.')\n",
    "else:\n",
    "    print('There is no significant difference in customer satisfection scores.')"
   ]
  }
 ],
 "metadata": {
  "kernelspec": {
   "display_name": "Python 3",
   "language": "python",
   "name": "python3"
  },
  "language_info": {
   "codemirror_mode": {
    "name": "ipython",
    "version": 3
   },
   "file_extension": ".py",
   "mimetype": "text/x-python",
   "name": "python",
   "nbconvert_exporter": "python",
   "pygments_lexer": "ipython3",
   "version": "3.12.2"
  }
 },
 "nbformat": 4,
 "nbformat_minor": 2
}
