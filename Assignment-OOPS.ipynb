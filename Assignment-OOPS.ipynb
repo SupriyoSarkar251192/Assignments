{
 "cells": [
  {
   "cell_type": "markdown",
   "metadata": {},
   "source": [
    "1. Explain the importance of functions.\n",
    "\n",
    "Ans: Functions are an important part of python programming. They allow to write a block of code once and use it multiple times. They also make  code more readable and easier to maintain. Here are some of the benefits of using functions in Python:\n",
    "\n",
    "Code readability: Functions make code more readable by breaking it down into smaller, more manageable chunks. This makes it easier to understand what code is doing and to identify any potential problems.\n",
    "\n",
    "Code reusability: Functions allow to reuse code that have already written. This can save a lot of time and effort, and it can also help to prevent errors.\n",
    "\n",
    "Code maintainability: Functions make code easier to maintain by making it easier to find and fix bugs. If one needs to change the way that code works, he/she can simply edit the function that is responsible for that task.\n",
    "\n",
    "Standard functions: Python comes with a number of built-in functions that can use in code. These functions can perform a variety of tasks, such as printing text to the console, reading files, and performing mathematical operations.\n",
    "\n",
    "User-defined functions: One can also create their own functions in Python. This allows him/her to customize the way that the code works and to create functions that are specific to their needs.\n"
   ]
  },
  {
   "cell_type": "code",
   "execution_count": 11,
   "metadata": {},
   "outputs": [
    {
     "name": "stdout",
     "output_type": "stream",
     "text": [
      "input:  Rakhal\n",
      "Hallo Rakhal, nice to meet you.\n"
     ]
    }
   ],
   "source": [
    "2. # function to greet students.\n",
    "\n",
    "def greet(name):\n",
    "    print(f\"Hallo {name}, nice to meet you.\")\n",
    "n = input(\"enter student name: \")\n",
    "print(\"input: \", n)\n",
    "greet(n)"
   ]
  },
  {
   "cell_type": "markdown",
   "metadata": {},
   "source": [
    "3. What is the difference between print and return statement?\n",
    "\n",
    "Ans: The main difference between print() and return in Python is that print() displays the result or variable in the terminal, while return hands the result or variable to whatever called it."
   ]
  },
  {
   "cell_type": "markdown",
   "metadata": {},
   "source": [
    "4. What are *args and **kwargs?\n",
    "\n",
    "Ans: *args: The special syntax *args in function definitions in Python is used to pass a variable number of arguments to a function. It is used to pass a non-keyworded, variable-length argument list. The syntax is to use the symbol * to take in a variable number of arguments; by convention, it is often used with the word args.\n",
    "\n",
    "**kwargs: The special syntax **kwargs in function definitions in Python is used to pass a keyworded, variable-length argument list. We use the name kwargs with the double star. The reason is that the double star allows us to pass through keyword arguments (and any number of them). One can think of the kwargs as being a dictionary that maps each keyword to the value that we pass alongside it. That is why when we iterate over the kwargs there doesn’t seem to be any order in which they were printed out."
   ]
  },
  {
   "cell_type": "markdown",
   "metadata": {},
   "source": [
    "5. Explain the iterator function.\n",
    "\n",
    "Ans: Repetitive execution of the same block of code over and over is referred to as iteration. There are two types of iteration: Definite iteration, in which the number of repetitions is specified explicitly in advance. Indefinite iteration, in which the code block executes until some condition is met.\n",
    "Example: Create an iterator from the list using the iter() method. And then used the next() function to retrieve the elements of the iterator in sequential order."
   ]
  },
  {
   "cell_type": "code",
   "execution_count": 9,
   "metadata": {},
   "outputs": [
    {
     "name": "stdout",
     "output_type": "stream",
     "text": [
      "range:  8\n",
      "1  4  9  16  25  36  49  64  "
     ]
    }
   ],
   "source": [
    "# 6. generates square of numbers from 1 to n.\n",
    "\n",
    "n = int(input(\"enter range: \"))\n",
    "def generate(r):\n",
    "    for a in range(1, r+1):\n",
    "        yield a**2\n",
    "print(\"range: \", n)\n",
    "for i in generate(n):\n",
    "    print(i, end = \"  \")"
   ]
  },
  {
   "cell_type": "code",
   "execution_count": 8,
   "metadata": {},
   "outputs": [
    {
     "name": "stdout",
     "output_type": "stream",
     "text": [
      "range:  150\n",
      "0,  1,  2,  3,  4,  5,  6,  7,  8,  9,  11,  22,  33,  44,  55,  66,  77,  88,  99,  101,  111,  121,  131,  141,  "
     ]
    }
   ],
   "source": [
    "#7. generates palindrom numbers upto range n.\n",
    "\n",
    "n = int(input(\"enter range: \"))\n",
    "def palindrom(r):\n",
    "    for i in range(r+1):\n",
    "        s1 = str(i)\n",
    "        s2 = s1[::-1]\n",
    "        if s1 == s2:\n",
    "            yield i\n",
    "print(\"range: \", n)\n",
    "for j in palindrom(n):\n",
    "    print(j, end = \",  \")"
   ]
  },
  {
   "cell_type": "code",
   "execution_count": 6,
   "metadata": {},
   "outputs": [
    {
     "name": "stdout",
     "output_type": "stream",
     "text": [
      "range:  51\n",
      "2  4  6  8  10  12  14  16  18  20  22  24  26  28  30  32  34  36  38  40  42  44  46  48  50  "
     ]
    }
   ],
   "source": [
    "#8. generate even numbers upto n.\n",
    "\n",
    "n = int(input(\"enter range: \"))\n",
    "def even(r):\n",
    "    for a in range(1, r+1):\n",
    "        if a % 2 == 0:\n",
    "            yield a\n",
    "print(\"range: \", n)\n",
    "for i in even(n):\n",
    "    print(i, end = \"  \")"
   ]
  },
  {
   "cell_type": "code",
   "execution_count": 5,
   "metadata": {},
   "outputs": [
    {
     "name": "stdout",
     "output_type": "stream",
     "text": [
      "input highest power:  6\n",
      "1  2  4  8  16  32  64  "
     ]
    }
   ],
   "source": [
    "#9. generate power of 2 upto n.\n",
    "\n",
    "n = int(input(\"enter range: \"))\n",
    "def generate_power(r):\n",
    "    for a in range(r+1):\n",
    "        yield 2**a\n",
    "print(\"input highest power: \", n)\n",
    "for i in generate_power(n):\n",
    "    print(i, end = \"  \")"
   ]
  },
  {
   "cell_type": "code",
   "execution_count": 3,
   "metadata": {},
   "outputs": [
    {
     "name": "stdout",
     "output_type": "stream",
     "text": [
      "range:  50\n",
      "2  3  5  7  11  13  17  19  23  29  31  37  41  43  47  "
     ]
    }
   ],
   "source": [
    "#10. generate prime numbers within range n.\n",
    "\n",
    "def filter_prime(r):\n",
    "    for i in range (2,(r + 1)):\n",
    "        for j in range (1,int(i/2)+1):\n",
    "            if i%j == 0 and j > 1:\n",
    "                break\n",
    "            else:\n",
    "                continue\n",
    "        else:\n",
    "            yield i\n",
    "n = int(input(\"input range: \"))\n",
    "print(\"range: \", n)\n",
    "if n > 1:\n",
    "    for k in filter_prime(n):\n",
    "        print(k, end = \"  \")"
   ]
  },
  {
   "cell_type": "code",
   "execution_count": 2,
   "metadata": {},
   "outputs": [
    {
     "name": "stdout",
     "output_type": "stream",
     "text": [
      "inputs:  6 8\n",
      "14\n"
     ]
    }
   ],
   "source": [
    "#11. use a lambda function to calculate the sum of two numbers.\n",
    "\n",
    "num1 = int(input(\"input 1st number: \"))\n",
    "num2 = int(input(\"input 2nd number: \"))\n",
    "add = lambda x, y : x + y\n",
    "print(\"inputs: \", num1, num2)\n",
    "print(add(num1, num2))"
   ]
  },
  {
   "cell_type": "code",
   "execution_count": 12,
   "metadata": {},
   "outputs": [
    {
     "name": "stdout",
     "output_type": "stream",
     "text": [
      "input:  14\n",
      "196\n"
     ]
    }
   ],
   "source": [
    "#12. use a lambda function to calculate the square of a numbers.\n",
    "\n",
    "num = int(input(\"input number: \"))\n",
    "sqr = lambda x : x**2\n",
    "print(\"input: \", num)\n",
    "print(sqr(num))"
   ]
  },
  {
   "cell_type": "code",
   "execution_count": 16,
   "metadata": {},
   "outputs": [
    {
     "name": "stdout",
     "output_type": "stream",
     "text": [
      "13 is odd\n"
     ]
    }
   ],
   "source": [
    "#13. lambda function to check if a number is even or odd.\n",
    "\n",
    "n = int(input(\"input number: \"))\n",
    "even_odd = lambda x: \"even\" if x % 2 == 0 else \"odd\"\n",
    "print(f\"{n} is {even_odd(n)}\")"
   ]
  },
  {
   "cell_type": "code",
   "execution_count": 18,
   "metadata": {},
   "outputs": [
    {
     "name": "stdout",
     "output_type": "stream",
     "text": [
      "inputs: Supriyo , Sarkar\n",
      "Supriyo Sarkar\n"
     ]
    }
   ],
   "source": [
    "#15. lambda function to concatinate two strings.\n",
    "\n",
    "str1 = input(\"1st string: \")\n",
    "str2 = input(\"2nd string: \")\n",
    "concatinate = lambda x, y: x + y\n",
    "print(f\"inputs: {str1}, {str2}\")\n",
    "print(concatinate(str1, str2))"
   ]
  },
  {
   "cell_type": "code",
   "execution_count": 20,
   "metadata": {},
   "outputs": [
    {
     "name": "stdout",
     "output_type": "stream",
     "text": [
      "The largest number among 8.0, 12.0 and 10.0 is 12.0\n"
     ]
    }
   ],
   "source": [
    "#16. lambda function to find maximum of 3 given numbers.\n",
    "\n",
    "n1 = float(input())\n",
    "n2 = float(input())\n",
    "n3 = float(input())\n",
    "maximum = lambda x, y, z: x if x > y and x > z else (y if y>x and y>z else z)\n",
    "print(f\"The largest number among {n1}, {n2} and {n3} is {maximum(n1, n2, n3)}\")"
   ]
  },
  {
   "cell_type": "code",
   "execution_count": 23,
   "metadata": {},
   "outputs": [
    {
     "name": "stdout",
     "output_type": "stream",
     "text": [
      "input:  [13, 24, 14, 9, 8]\n",
      "576  196  64  "
     ]
    }
   ],
   "source": [
    "#17. generates square of even numbers from a given list.\n",
    "\n",
    "def create_list(n):\n",
    "    l1 = []\n",
    "    for i in range(n):\n",
    "        n1 = int(input(\"enter value: \"))\n",
    "        l1.append(n1)\n",
    "    return l1\n",
    "n = int(input(\"no of values: \"))\n",
    "lst = create_list(n)\n",
    "def sq_lst(l):\n",
    "    for i in l:\n",
    "        if i % 2 == 0:\n",
    "            yield i**2\n",
    "print(\"input: \",lst)\n",
    "for j in sq_lst(lst):\n",
    "    print(j, end = \"  \")"
   ]
  },
  {
   "cell_type": "code",
   "execution_count": 31,
   "metadata": {},
   "outputs": [
    {
     "name": "stdout",
     "output_type": "stream",
     "text": [
      "input:  [-7, 8, 5, 6, 4, -6, -7, 6]\n",
      "Output:  5760\n"
     ]
    }
   ],
   "source": [
    "#18. calculates products of positive numbers from a given list.\n",
    "\n",
    "import functools\n",
    "def create_list(n):\n",
    "    l1 = []\n",
    "    for i in range(n):\n",
    "        n1 = int(input(\"enter value: \"))\n",
    "        l1.append(n1)\n",
    "    return l1\n",
    "m = int(input(\"no. of values: \"))\n",
    "lst1 = create_list(m)\n",
    "lst2 = []\n",
    "for i in lst1:\n",
    "    if i > 0:\n",
    "        lst2.append(i)\n",
    "prod = functools.reduce(lambda x, y: x*y, lst2)\n",
    "print(\"input: \", lst1)\n",
    "print(\"Output: \",prod)\n"
   ]
  },
  {
   "cell_type": "code",
   "execution_count": 4,
   "metadata": {},
   "outputs": [
    {
     "name": "stdout",
     "output_type": "stream",
     "text": [
      "input:  [2, 5, 9, 6, 4, 7]\n",
      "Output:  [10, 18, 14]\n"
     ]
    }
   ],
   "source": [
    "#19. Doubles the values of odd numbers from a given list.\n",
    "def create_list(n):\n",
    "    l1 = []\n",
    "    for i in range(n):\n",
    "        n1 = int(input(\"enter value: \"))\n",
    "        l1.append(n1)\n",
    "    return l1\n",
    "m = int(input(\"no. of values: \"))\n",
    "lst1 = create_list(m)\n",
    "lst2 = []\n",
    "for i in lst1:\n",
    "    if i % 2 == 1:\n",
    "        lst2.append(i)\n",
    "double = map(lambda x: x*2, lst2)\n",
    "print(\"input: \", lst1)\n",
    "print(\"Output: \",list(double))\n"
   ]
  },
  {
   "cell_type": "code",
   "execution_count": 4,
   "metadata": {},
   "outputs": [
    {
     "name": "stdout",
     "output_type": "stream",
     "text": [
      "input:  [-4, 8, 2, -5, 6]\n",
      "Output:  351\n"
     ]
    }
   ],
   "source": [
    "#20. Sum of cubes of a number from a given list.\n",
    "\n",
    "import functools\n",
    "def create_list(n):\n",
    "    l1 = []\n",
    "    for i in range(n):\n",
    "        n1 = int(input(\"enter value: \"))\n",
    "        l1.append(n1)\n",
    "    return l1\n",
    "m = int(input(\"no. of values: \"))\n",
    "lst1 = create_list(m)\n",
    "SumOfCubes = functools.reduce(lambda x, y: x*3 + y*3, lst1)\n",
    "print(\"input: \", lst1)\n",
    "print(\"Output: \",SumOfCubes)"
   ]
  },
  {
   "cell_type": "code",
   "execution_count": 9,
   "metadata": {},
   "outputs": [
    {
     "name": "stdout",
     "output_type": "stream",
     "text": [
      "input:  [12, 7, 13, 16, 41]\n",
      "Output:  [7, 13, 41]\n"
     ]
    }
   ],
   "source": [
    "#21. Filter out prime numbers from a given list.\n",
    "\n",
    "def create_list(n):\n",
    "    l1 = []\n",
    "    for i in range(n):\n",
    "        n1 = int(input(\"enter value: \"))\n",
    "        l1.append(n1)\n",
    "    return l1\n",
    "\n",
    "n = int(input(\"no of values: \"))\n",
    "lst1 = create_list(n)\n",
    "prime_lst = []\n",
    "for i in lst1:\n",
    "    for j in range(1, int(i/2)):\n",
    "        if i % j == 0 and j > 1:\n",
    "            break\n",
    "        else:\n",
    "            continue\n",
    "    else:\n",
    "        prime_lst.append(i)\n",
    "print(\"input: \", lst1)\n",
    "print(\"Output: \", list(prime_lst))\n"
   ]
  },
  {
   "cell_type": "markdown",
   "metadata": {},
   "source": [
    "27. What is encapsulation in OOP?\n",
    "\n",
    "Ans: A class is a user-defined prototype for an object. It defines a set of data members and methods, capable of processing the data. According to principle of data encapsulation, the data members that describe an object are hidden from environment that is external to class. They are available for processing to methods defined within the class only. Methods themselves on the other hand are accessible from outside class context. Hence object data is said to be encapsulated by the methods. The result of such encapsulation is that any unwarranted access to the object data is prevented.\n",
    "Example:"
   ]
  },
  {
   "cell_type": "code",
   "execution_count": 2,
   "metadata": {},
   "outputs": [
    {
     "name": "stdout",
     "output_type": "stream",
     "text": [
      "Name: Supriyo marks: 50\n",
      "Name: Arijit marks: 65\n"
     ]
    },
    {
     "ename": "AttributeError",
     "evalue": "'Student' object has no attribute '__name'",
     "output_type": "error",
     "traceback": [
      "\u001b[1;31m---------------------------------------------------------------------------\u001b[0m",
      "\u001b[1;31mAttributeError\u001b[0m                            Traceback (most recent call last)",
      "Cell \u001b[1;32mIn[2], line 11\u001b[0m\n\u001b[0;32m      9\u001b[0m s1\u001b[38;5;241m.\u001b[39mstudentdata()\n\u001b[0;32m     10\u001b[0m s2\u001b[38;5;241m.\u001b[39mstudentdata()\n\u001b[1;32m---> 11\u001b[0m \u001b[38;5;28mprint\u001b[39m (\u001b[38;5;124mf\u001b[39m\u001b[38;5;124m\"\u001b[39m\u001b[38;5;124mName: \u001b[39m\u001b[38;5;132;01m{\u001b[39;00m\u001b[43ms1\u001b[49m\u001b[38;5;241;43m.\u001b[39;49m\u001b[43m__name\u001b[49m\u001b[38;5;132;01m}\u001b[39;00m\u001b[38;5;124m marks: \u001b[39m\u001b[38;5;132;01m{\u001b[39;00ms1\u001b[38;5;241m.\u001b[39m__marks\u001b[38;5;132;01m}\u001b[39;00m\u001b[38;5;124m\"\u001b[39m)\n\u001b[0;32m     12\u001b[0m \u001b[38;5;28mprint\u001b[39m (\u001b[38;5;124mf\u001b[39m\u001b[38;5;124m\"\u001b[39m\u001b[38;5;124mName: \u001b[39m\u001b[38;5;132;01m{\u001b[39;00ms2\u001b[38;5;241m.\u001b[39m__name\u001b[38;5;132;01m}\u001b[39;00m\u001b[38;5;124m marks: \u001b[39m\u001b[38;5;132;01m{\u001b[39;00ms2\u001b[38;5;241m.\u001b[39m__marks\u001b[38;5;132;01m}\u001b[39;00m\u001b[38;5;124m\"\u001b[39m)\n",
      "\u001b[1;31mAttributeError\u001b[0m: 'Student' object has no attribute '__name'"
     ]
    }
   ],
   "source": [
    "class Student:\n",
    "   def __init__(self, name, marks):\n",
    "        self.__name = name\n",
    "        self.__marks = marks\n",
    "   def studentdata(self): # method defined to retrive encapsulated data passively.\n",
    "        print (f\"Name: {self.__name} marks: {self.__marks}\")      \n",
    "s1 = Student(\"Supriyo\", 50)\n",
    "s2 = Student(\"Arijit\", 65)\n",
    "s1.studentdata()\n",
    "s2.studentdata()\n",
    "print (f\"Name: {s1.__name} marks: {s1.__marks}\") # s1 will not find the __name and __marks attribute due to encapsulation.\n",
    "print (f\"Name: {s2.__name} marks: {s2.__marks}\") # s2 will not find the __name and __marks attribute due to encapsulation."
   ]
  },
  {
   "cell_type": "markdown",
   "metadata": {},
   "source": [
    "28. Explain the use of access modifiers in the python classes.\n",
    "\n",
    "Ans: Python uses '_' symbol to determine the access control for a specific data member or a member function of a class. Access specifiers in Python have an important role to play in securing data from unauthorized access and in preventing it from being exploited. A Class in Python has three types of access modifiers:\n",
    "A. Public Access Modifier: The members of a class that are declared public are easily accessible from any part of the program. All data members and member functions of a class are public by default.\n",
    "B. Protected Access Modifier: The members of a class that are declared protected are only accessible to a class derived from it. Data members of a class are declared protected by adding a single underscore '_' symbol before the data member of that class.\n",
    "C. Private Access Modifier: The members of a class that are declared private are accessible within the class only, private access modifier is the most secure access modifier. Data members of a class are declared private by adding a double underscore '__' symbol before the data member of that class.\n",
    "Example:"
   ]
  },
  {
   "cell_type": "code",
   "execution_count": 11,
   "metadata": {},
   "outputs": [],
   "source": [
    "class tour_details:\n",
    "    def __init__(self, tourist, place, cost):\n",
    "            self.tourist = tourist\n",
    "            self._place = place\n",
    "            self.__cost = cost\n",
    "    def get_private_data(self): # since cost is privated, it needs to be accessed through this method. \n",
    "        print(f\"cost to travel for {self.tourist} to {self._place} is {self.__cost}\")\n",
    "\n",
    "class place_cost(tour_details):\n",
    "    def getUnpublicData(self):\n",
    "        print(f\"place: {self._place}\")\n",
    "        print(f\"cost: {self.__cost}\")\n",
    "# error will occur in cost print as inheritence allows only public and protected data, not private data.\n",
    "t1 = tour_details(\"Sujoy\", \"Digha\", 12500)\n",
    "t1a = place_cost(\"bittu\", \"manali\", 45000)"
   ]
  },
  {
   "cell_type": "code",
   "execution_count": 13,
   "metadata": {},
   "outputs": [
    {
     "name": "stdout",
     "output_type": "stream",
     "text": [
      "cost to travel for Sujoy to Digha is 12500\n",
      "Sujoy\n",
      "Digha\n"
     ]
    },
    {
     "ename": "AttributeError",
     "evalue": "'tour_details' object has no attribute '__cost'",
     "output_type": "error",
     "traceback": [
      "\u001b[1;31m---------------------------------------------------------------------------\u001b[0m",
      "\u001b[1;31mAttributeError\u001b[0m                            Traceback (most recent call last)",
      "Cell \u001b[1;32mIn[13], line 4\u001b[0m\n\u001b[0;32m      2\u001b[0m \u001b[38;5;28mprint\u001b[39m(t1\u001b[38;5;241m.\u001b[39mtourist)\n\u001b[0;32m      3\u001b[0m \u001b[38;5;28mprint\u001b[39m(t1\u001b[38;5;241m.\u001b[39m_place)\n\u001b[1;32m----> 4\u001b[0m \u001b[38;5;28mprint\u001b[39m(\u001b[43mt1\u001b[49m\u001b[38;5;241;43m.\u001b[39;49m\u001b[43m__cost\u001b[49m)\n",
      "\u001b[1;31mAttributeError\u001b[0m: 'tour_details' object has no attribute '__cost'"
     ]
    }
   ],
   "source": [
    "t1.get_private_data() # this will be printed.\n",
    "print(t1.tourist) # this will be printed.\n",
    "print(t1._place) # this will be printed.\n",
    "print(t1.__cost) # this will occur error."
   ]
  },
  {
   "cell_type": "code",
   "execution_count": 14,
   "metadata": {},
   "outputs": [
    {
     "name": "stdout",
     "output_type": "stream",
     "text": [
      "place: manali\n"
     ]
    },
    {
     "ename": "AttributeError",
     "evalue": "'place_cost' object has no attribute '_place_cost__cost'",
     "output_type": "error",
     "traceback": [
      "\u001b[1;31m---------------------------------------------------------------------------\u001b[0m",
      "\u001b[1;31mAttributeError\u001b[0m                            Traceback (most recent call last)",
      "Cell \u001b[1;32mIn[14], line 1\u001b[0m\n\u001b[1;32m----> 1\u001b[0m \u001b[43mt1a\u001b[49m\u001b[38;5;241;43m.\u001b[39;49m\u001b[43mgetUnpublicData\u001b[49m\u001b[43m(\u001b[49m\u001b[43m)\u001b[49m\n",
      "Cell \u001b[1;32mIn[11], line 12\u001b[0m, in \u001b[0;36mplace_cost.getUnpublicData\u001b[1;34m(self)\u001b[0m\n\u001b[0;32m     10\u001b[0m \u001b[38;5;28;01mdef\u001b[39;00m \u001b[38;5;21mgetUnpublicData\u001b[39m(\u001b[38;5;28mself\u001b[39m):\n\u001b[0;32m     11\u001b[0m     \u001b[38;5;28mprint\u001b[39m(\u001b[38;5;124mf\u001b[39m\u001b[38;5;124m\"\u001b[39m\u001b[38;5;124mplace: \u001b[39m\u001b[38;5;132;01m{\u001b[39;00m\u001b[38;5;28mself\u001b[39m\u001b[38;5;241m.\u001b[39m_place\u001b[38;5;132;01m}\u001b[39;00m\u001b[38;5;124m\"\u001b[39m)\n\u001b[1;32m---> 12\u001b[0m     \u001b[38;5;28mprint\u001b[39m(\u001b[38;5;124mf\u001b[39m\u001b[38;5;124m\"\u001b[39m\u001b[38;5;124mcost: \u001b[39m\u001b[38;5;132;01m{\u001b[39;00m\u001b[38;5;28;43mself\u001b[39;49m\u001b[38;5;241;43m.\u001b[39;49m\u001b[43m__cost\u001b[49m\u001b[38;5;132;01m}\u001b[39;00m\u001b[38;5;124m\"\u001b[39m)\n",
      "\u001b[1;31mAttributeError\u001b[0m: 'place_cost' object has no attribute '_place_cost__cost'"
     ]
    }
   ],
   "source": [
    "t1a.getUnpublicData()"
   ]
  },
  {
   "cell_type": "markdown",
   "metadata": {},
   "source": [
    "29. What is inharitance in OOP?\n",
    "\n",
    "Ans: Inheritance is a mechanism that allows to create a hierarchy of classes that share a set of properties and methods by deriving a class from another class. Inheritance is the capability of one class to derive or inherit the properties from another class.\n",
    "Example:"
   ]
  },
  {
   "cell_type": "code",
   "execution_count": 2,
   "metadata": {},
   "outputs": [
    {
     "name": "stdout",
     "output_type": "stream",
     "text": [
      "inputs: 14, 18\n",
      "Sum of the numbers: 32\n",
      "Product of numbers: 252\n",
      "Sum of squares: 520\n"
     ]
    }
   ],
   "source": [
    "class input_int:\n",
    "    def __init__(self, a, b):\n",
    "        self.a = a\n",
    "        self.b = b\n",
    "class sums(input_int):\n",
    "    def sum1(self):\n",
    "        return (self.a + self.b)\n",
    "class products(input_int):\n",
    "    def product1(self):\n",
    "        return (self.a * self.b)\n",
    "class operate(sums, products):\n",
    "    def sum_of_square(self):\n",
    "        return (self.sum1()**2 - 2 * self.product1())\n",
    "i = int(input())\n",
    "j = int(input())\n",
    "numbers = operate(i, j)\n",
    "print(f\"inputs: {numbers.a}, {numbers.b}\")\n",
    "print(f\"Sum of the numbers: {numbers.sum1()}\")\n",
    "print(f\"Product of numbers: {numbers.product1()}\")\n",
    "print(f\"Sum of squares: {numbers.sum_of_square()}\")"
   ]
  },
  {
   "cell_type": "markdown",
   "metadata": {},
   "source": [
    "30. Define Polymorphism in OOP.\n",
    "\n",
    "Ans: The word polymorphism means having many forms. In programming, polymorphism means the same function name (but different signatures) being used for different types. The key difference is the data types and number of arguments used in function.\n",
    "Example: "
   ]
  },
  {
   "cell_type": "code",
   "execution_count": 3,
   "metadata": {},
   "outputs": [
    {
     "name": "stdout",
     "output_type": "stream",
     "text": [
      "Hirak\n",
      "Sandipan\n",
      "Birati\n"
     ]
    }
   ],
   "source": [
    "class Student:\n",
    "    def __init__(self, name, surname, roll):\n",
    "        self.name = name\n",
    "        self.surname = surname\n",
    "        self.roll = roll\n",
    "    def display_name(self):\n",
    "        print(self.name)\n",
    "    def display_surname(self):\n",
    "        print(self.surname)\n",
    "        \n",
    "class Teacher:\n",
    "    def __init__(self, name, surname, subject):\n",
    "        self.name = name\n",
    "        self.surname = surname\n",
    "        self.subject = subject\n",
    "    def display_name(self):\n",
    "        print(self.name)\n",
    "    def display_surname(self):\n",
    "        print(self.surname)\n",
    "\n",
    "class Place:\n",
    "    def __init__(self, name, country):\n",
    "        self.name = name\n",
    "        self.country = country\n",
    "    def display_name(self):\n",
    "        print(self.name)\n",
    "    def display_country(self):\n",
    "        print(self.country)\n",
    "        \n",
    "stud1 = Student(\"Hirak\", \"Das\", 21)\n",
    "teacher1 = Teacher(\"Sandipan\", \"Banerjee\", \"Chemistrty\")\n",
    "place1 = Place(\"Birati\", \"India\")\n",
    "cl_list = [stud1, teacher1, place1]\n",
    "for n in cl_list:\n",
    "    n.display_name()"
   ]
  },
  {
   "cell_type": "markdown",
   "metadata": {},
   "source": [
    "31. Explain method overriding in python.\n",
    "\n",
    "Ans: Method overriding is an ability of any object-oriented programming language that allows a subclass or child class to provide a specific implementation of a method that is already provided by one of its super-classes or parent classes. When a method in a subclass has the same name, same parameters or signature and same return type(or sub-type) as a method in its super-class, then the method in the subclass is said to override the method in the super-class."
   ]
  },
  {
   "cell_type": "code",
   "execution_count": 1,
   "metadata": {},
   "outputs": [
    {
     "name": "stdout",
     "output_type": "stream",
     "text": [
      "Generic animal sound.\n",
      "Woof!\n"
     ]
    }
   ],
   "source": [
    "\"\"\"\n",
    "32. Define a parent class Animal with a method make_sound that prints \"Generic animal sound\". \n",
    "Create a child class Dog inheriting from animal with a method make sound that prints \"Woof!\".\n",
    "\"\"\"\n",
    "class Animal:\n",
    "    def make_sound(self):\n",
    "        print(\"Generic animal sound.\")\n",
    "class Dog(Animal):\n",
    "    def make_sound(self):\n",
    "        super().make_sound()\n",
    "        print(\"Woof!\")\n",
    "pet = Dog()\n",
    "pet.make_sound()\n"
   ]
  },
  {
   "cell_type": "code",
   "execution_count": 2,
   "metadata": {},
   "outputs": [
    {
     "name": "stdout",
     "output_type": "stream",
     "text": [
      "Animal moves.\n",
      "Dog runs.\n"
     ]
    }
   ],
   "source": [
    "\"\"\"\n",
    "33. Define a method move in the Animal class that prints \"animal moves\". Override the move method in the Dog class\n",
    "to print \"Dog runs\".\n",
    "\"\"\"\n",
    "class Animal:\n",
    "    def move(self):\n",
    "        print(\"Animal moves.\")\n",
    "class Dog(Animal):\n",
    "    def move(self):\n",
    "        print(\"Dog runs.\")\n",
    "pet1 = Animal()\n",
    "pet2 = Dog()\n",
    "pet1.move()\n",
    "pet2.move()\n"
   ]
  },
  {
   "cell_type": "code",
   "execution_count": 5,
   "metadata": {},
   "outputs": [
    {
     "name": "stdout",
     "output_type": "stream",
     "text": [
      "Dog runs.\n",
      "Giving birth to little young.\n"
     ]
    }
   ],
   "source": [
    "\"\"\"\n",
    "34. Create a class Mammal with method reproduce that prints \"Giving birth to little young.\" Create a class\n",
    "Dogmammal that inherits from both Dog and Mammal.\n",
    "\"\"\"\n",
    "class Mammal:\n",
    "    def Reproduce(self):\n",
    "        print(\"Giving birth to little young.\")\n",
    "class Dogmammal(Dog, Mammal):\n",
    "    def Dog_Reproduce(self):\n",
    "        super().move()\n",
    "        super().Reproduce()\n",
    "dog1 = Dogmammal()\n",
    "dog1.Dog_Reproduce()"
   ]
  },
  {
   "cell_type": "code",
   "execution_count": 6,
   "metadata": {},
   "outputs": [
    {
     "name": "stdout",
     "output_type": "stream",
     "text": [
      "Bark!\n"
     ]
    }
   ],
   "source": [
    "\"\"\"\n",
    "35. Create a class GermanShepherd inheriting from Dog and override the make_sound method to print \"bark\".\n",
    "\"\"\"\n",
    "class GermanShepherd(Dog):\n",
    "    def make_sound(self):\n",
    "        print(\"Bark!\")\n",
    "mypet = GermanShepherd()\n",
    "mypet.make_sound()"
   ]
  },
  {
   "cell_type": "code",
   "execution_count": 9,
   "metadata": {},
   "outputs": [
    {
     "name": "stdout",
     "output_type": "stream",
     "text": [
      "This is my pet Dubby; he is a Pug\n",
      "Fish moves.\n"
     ]
    }
   ],
   "source": [
    "\"\"\"\n",
    "36. Define constructors in both Animal and Dog classes with different initialization parameters.\n",
    "\"\"\"\n",
    "class Animal:\n",
    "    def __init__(self, species):\n",
    "        self.species = species\n",
    "    def move(self):\n",
    "        print(f\"{self.species} moves.\")\n",
    "        \n",
    "class Dog:\n",
    "    def __init__(self, breed, name):\n",
    "        self.breed = breed\n",
    "        self.name = name\n",
    "    def move(self):\n",
    "        print(f\"This is my pet {self.name}; he is a {self.breed}\")\n",
    "mypet = Dog(\"Pug\", \"Dubby\")\n",
    "anm = Animal(\"Fish\")\n",
    "mypet.move()\n",
    "anm.move()\n",
    "        "
   ]
  },
  {
   "cell_type": "markdown",
   "metadata": {},
   "source": [
    "37. What is abstraction in python? How is it implemented?\n",
    "\n",
    "Ans: Abstraction is used to hide the internal functionality of the function from the users. The users only interact with the basic implementation of the function, but inner working is hidden. User is familiar with that \"what function does\" but they don't know \"how it does.\"\n",
    "To define an abstract method in Python, @abstractmethod decorator is used on top of a method. Or the abc module of Python can also be used to achieve data abstraction.\n",
    "Example:"
   ]
  },
  {
   "cell_type": "code",
   "execution_count": 1,
   "metadata": {},
   "outputs": [
    {
     "name": "stdout",
     "output_type": "stream",
     "text": [
      "25\n"
     ]
    }
   ],
   "source": [
    "from abc import ABC, abstractmethod\n",
    "\n",
    "class Shape(ABC):\n",
    "    @abstractmethod\n",
    "    def area(self):\n",
    "        pass\n",
    "\n",
    "class Square(Shape):\n",
    "    def __init__(self, side):\n",
    "        self.side = side\n",
    "\n",
    "    def area(self):\n",
    "        return self.side * self.side\n",
    "square = Square(5)\n",
    "print(square.area())"
   ]
  },
  {
   "cell_type": "markdown",
   "metadata": {},
   "source": [
    "38. Explain the importance of abstraction in OOP.\n",
    "\n",
    "Ans: a. Better readability and maintainability of code: Abstraction helps to make code simpler by obscuring complicated implementation details.\n",
    "b. Less difficult code: Abstraction enables developers to work with higher-level concepts and entities instead of having to deal with low-level implementation details.\n",
    "c. Better code reuse: Abstraction encourages the development of classes or components that can be used repeatedly.\n",
    "d. More adaptable code: The design and implementation of code are made more adaptable through abstraction. "
   ]
  },
  {
   "cell_type": "markdown",
   "metadata": {},
   "source": [
    "39. How are abstract methods different from other regular methods?\n",
    "\n",
    "Ans: Abstract methods: Abstract methods are methods that are declared, but contain no implementation. Abstract classes may not be instantiated, and its abstract methods must be implemented by its subclasses.\n",
    "Regular methods: Regular methods are methods that contain a body. Regular methods can be called directly.\n",
    "The main difference between abstract methods and regular methods is that abstract methods must be implemented by subclasses, while regular methods can be called directly."
   ]
  },
  {
   "cell_type": "code",
   "execution_count": 2,
   "metadata": {},
   "outputs": [
    {
     "name": "stdout",
     "output_type": "stream",
     "text": [
      "Woof!\n",
      "Meow!\n"
     ]
    }
   ],
   "source": [
    "\"\"\"\n",
    "40. How can you achieve abstraction using interfaces in python?\n",
    "\"\"\"\n",
    "from abc import ABC, abstractmethod\n",
    "\n",
    "class Animal(ABC):\n",
    "    @abstractmethod\n",
    "    def make_sound(self):\n",
    "        pass\n",
    "class Dog(Animal):\n",
    "    def make_sound(self):\n",
    "        print(\"Woof!\")\n",
    "class Cat(Animal):\n",
    "    def make_sound(self):\n",
    "        print(\"Meow!\")\n",
    "animals = [Dog(), Cat()] # Create a list of animals\n",
    "for animal in animals: # Iterate over the list and call the make_sound() method on each animal.\n",
    "    animal.make_sound()"
   ]
  },
  {
   "cell_type": "code",
   "execution_count": 1,
   "metadata": {},
   "outputs": [
    {
     "name": "stdout",
     "output_type": "stream",
     "text": [
      "Drawing a circle\n",
      "Drawing a square\n",
      "Drawing a triangle\n"
     ]
    }
   ],
   "source": [
    "\"\"\"\n",
    "41. Example of how abstraction can be utilized to create a common interface for a group of related classes \n",
    "in python.\n",
    "\"\"\"\n",
    "from abc import ABC, abstractmethod\n",
    "class Shape(ABC):\n",
    "    @abstractmethod\n",
    "    def draw(self):\n",
    "        pass\n",
    "class Circle(Shape):\n",
    "    def draw(self):\n",
    "        print(\"Drawing a circle\")\n",
    "class Square(Shape):\n",
    "    def draw(self):\n",
    "        print(\"Drawing a square\")\n",
    "class Triangle(Shape):\n",
    "    def draw(self):\n",
    "        print(\"Drawing a triangle\")\n",
    "shapes = [Circle(), Square(), Triangle()]\n",
    "for shape in shapes:\n",
    "    shape.draw()"
   ]
  },
  {
   "cell_type": "markdown",
   "metadata": {},
   "source": [
    "42. How does python achieve polymorphism through method overriding?\n",
    "\n",
    "Ans: Method overriding is a way to achieve runtime polymorphism, also called dynamic polymorphism. In method overriding, a child class has its own definition of a member method from the parent class. The version of the method that is executed depends on the object that is used to invoke it. If an object of the parent class is used, the version in the parent class will be executed. If an object of the subclass is used, the version in the child class will be executed.\n",
    "Example:"
   ]
  },
  {
   "cell_type": "code",
   "execution_count": 2,
   "metadata": {},
   "outputs": [
    {
     "name": "stdout",
     "output_type": "stream",
     "text": [
      "Woof!\n",
      "Meow!\n"
     ]
    }
   ],
   "source": [
    "class Animal:\n",
    "    def __init__(self, name):\n",
    "        self.name = name\n",
    "    def speak(self):\n",
    "        pass\n",
    "class Dog(Animal):\n",
    "    def speak(self):\n",
    "        print(\"Woof!\")\n",
    "class Cat(Animal):\n",
    "    def speak(self):\n",
    "        print(\"Meow!\")\n",
    "dog = Dog(\"Fido\")\n",
    "cat = Cat(\"Garfield\")\n",
    "dog.speak()\n",
    "cat.speak()"
   ]
  },
  {
   "cell_type": "code",
   "execution_count": 4,
   "metadata": {},
   "outputs": [
    {
     "name": "stdout",
     "output_type": "stream",
     "text": [
      "Student name is Oishi\n",
      "School name is NMHS\n"
     ]
    }
   ],
   "source": [
    "#43. Define a base class with a method and a subclass overriding the method.\n",
    "class school:\n",
    "    def __init__(self, name):\n",
    "        self.name1 = name\n",
    "    def name(self):\n",
    "        print(f\"School name is {self.name1}\")\n",
    "class student(school):\n",
    "    def __init__(self, name):\n",
    "        self.name2 = name\n",
    "    def name(self):\n",
    "        print(f\"Student name is {self.name2}\")\n",
    "School = school(\"NMHS\")\n",
    "Student = student(\"Oishi\")\n",
    "Student.name()\n",
    "School.name()\n"
   ]
  },
  {
   "cell_type": "code",
   "execution_count": 1,
   "metadata": {},
   "outputs": [
    {
     "name": "stdout",
     "output_type": "stream",
     "text": [
      "initiating data: 6, 8\n",
      "Answer: 14\n",
      "initiating data: 9, 15\n",
      "Answer: 135\n"
     ]
    }
   ],
   "source": [
    "#44. Define a base class and multiple subclasses with overridden method.\n",
    "class calculator:\n",
    "    def __init__(self, a, b):\n",
    "        self.num1 = a\n",
    "        self.num2 = b\n",
    "    def calculate(self):\n",
    "        print(f\"initiating data: {self.num1}, {self.num2}\")\n",
    "class sum(calculator):\n",
    "    def calculate(self):\n",
    "        super().calculate()\n",
    "        print(f\"Answer: {self.num1 + self.num2}\")\n",
    "class multiply(calculator):\n",
    "    def calculate(self):\n",
    "        super().calculate()\n",
    "        print(f\"Answer: {self.num1 * self.num2}\")\n",
    "add = sum(6, 8)\n",
    "mlp = multiply(9, 15)\n",
    "for i in (add, mlp):\n",
    "    i.calculate()"
   ]
  },
  {
   "cell_type": "markdown",
   "metadata": {},
   "source": [
    "46. How does polymorphism improve code readiblity and reusablity?\n",
    "\n",
    "Ans: Polymorphism is the ability for something to take on many forms. In terms of a programming language exhibiting this characteristic, we can create class objects that are inherited from the same parent class and have the same names but different behaviors. Variables and functions also exhibit polymorphic behavior in OOP by using a single interface with different underlying forms. This increases the language's ability to reuse the same lines of code on multiple occasions.\n",
    "\n",
    "Apart from code reusability, polymorphism allows for a single variable name to be used to store variables of multiple data types such as int, float, long and double. Similarly, we can use simple abstractions to compose more complex and powerful ones that make debugging code easier."
   ]
  },
  {
   "cell_type": "markdown",
   "metadata": {},
   "source": [
    "47. Describe how python supports polymorphism with duck typing.\n",
    "\n",
    "Ans: Duck typing enables polymorphism, where we can use objects of different types interchangeably, provided that they implement certain behaviors, also known as their interface. An essential feature of this type of polymorphism is that the objects don’t have to inherit from a common superclass, which makes code less rigid and more adaptable to change.\n",
    "Example:"
   ]
  },
  {
   "cell_type": "code",
   "execution_count": 2,
   "metadata": {},
   "outputs": [
    {
     "name": "stdout",
     "output_type": "stream",
     "text": [
      "The duck is flying\n",
      "The duck is swimming\n",
      "The swan is flying\n",
      "The swan is swimming\n"
     ]
    }
   ],
   "source": [
    "class Duck:\n",
    "    def swim(self):\n",
    "        print(\"The duck is swimming\")\n",
    "    def fly(self):\n",
    "        print(\"The duck is flying\")\n",
    "class Swan:\n",
    "    def swim(self):\n",
    "        print(\"The swan is swimming\")\n",
    "\n",
    "    def fly(self):\n",
    "        print(\"The swan is flying\")\n",
    "for bird in [Duck(), Swan()]:\n",
    "    bird.fly()\n",
    "    bird.swim()"
   ]
  },
  {
   "cell_type": "markdown",
   "metadata": {},
   "source": [
    "48. Can encapsulation be bypassed in python? If so, how?\n",
    "\n",
    "Ans: Yes, encapsulation can be bypassed in Python. Python does not enforce privacy of any variables or methods. It is up to the programmer to ensure that data with access restrictions stays hidden.\n",
    "One way to bypass encapsulation is to use the getattr() and setattr() functions. These functions can be used to get and set the value of any attribute of an object, even if the attribute is private.\n",
    "Example:"
   ]
  },
  {
   "cell_type": "code",
   "execution_count": 4,
   "metadata": {},
   "outputs": [
    {
     "name": "stdout",
     "output_type": "stream",
     "text": [
      "10\n"
     ]
    }
   ],
   "source": [
    "class test:\n",
    "    def __init__(self):\n",
    "        self._a = 50\n",
    "obj = test()\n",
    "setattr(obj, \"_a\", 10)\n",
    "a1 = getattr(obj, \"_a\")\n",
    "print(a1)"
   ]
  },
  {
   "cell_type": "code",
   "execution_count": 39,
   "metadata": {},
   "outputs": [
    {
     "name": "stdout",
     "output_type": "stream",
     "text": [
      "Previous balance: 16000. Amount deposited: 4000. Available balance: 20000.\n"
     ]
    }
   ],
   "source": [
    "\"\"\"\n",
    "49. Implement a class BankAccount with a private Balance attribute. Include methods to \n",
    "deposit, withdraw and check the balance.\n",
    "\"\"\"\n",
    " \n",
    "class BankAccount:\n",
    "    prev_bal = any\n",
    "    def __init__(self, balance, amount):\n",
    "        self.__balance = balance\n",
    "        self.amount = amount\n",
    "    def deposit(self):\n",
    "        self.prev_bal = self.__balance\n",
    "        amt1 = self.__balance + self.amount\n",
    "        self.__balance = amt1\n",
    "        print(f\"Previous balance: {self.prev_bal}. Amount deposited: {self.amount}. Available balance: {self.__balance}.\")\n",
    "    def withdraw(self):\n",
    "        self.prev_bal = self.__balance\n",
    "        amt2 = self.__balance - self.amount\n",
    "        if amt2 > 0:\n",
    "            self.__balance = amt2\n",
    "            print(f\"Previous balance: {self.prev_bal}. Amount withdrawn: {self.amount}. Available balance: {self.__balance}.\")\n",
    "        else:\n",
    "            print(\"Insufficient balance.\")\n",
    "    def check_balance(self):\n",
    "        print(f\"Available balance: {self.__balance}.\")\n",
    "prev_bal = int(input(\"previous balance: \"))\n",
    "trnsc = int(input(\"transaction amount: \"))\n",
    "banking = BankAccount(prev_bal, trnsc)\n",
    "method = input(\"'c' for balence check, 'd' for deposit, 'w' for withdraw \")\n",
    "if method == 'c':\n",
    "    banking.check_balance()\n",
    "elif method == 'd':\n",
    "    banking.deposit()\n",
    "elif method == 'w':\n",
    "    banking.withdraw()\n",
    "else:\n",
    "    print(\"Specify your banking properly.\")"
   ]
  },
  {
   "cell_type": "code",
   "execution_count": 5,
   "metadata": {},
   "outputs": [],
   "source": [
    "# 50. Develop a person class with private attributes name and e-mail and methods to set and get e-mail.\n",
    "class person:\n",
    "    def __init__(self, name, email):\n",
    "        self.__name = name\n",
    "        self.__email = email\n",
    "    def update_name(self, name1):\n",
    "        self.__name = name1\n",
    "    def update_email(self, email1):\n",
    "        self.__email = email1\n",
    "    def display_name(self):\n",
    "        print(self.__name)\n",
    "    def display_email(self):\n",
    "        print(self.__email)"
   ]
  },
  {
   "cell_type": "code",
   "execution_count": 10,
   "metadata": {},
   "outputs": [
    {
     "name": "stdout",
     "output_type": "stream",
     "text": [
      "Arijit\n",
      "arijit@yahoo.com\n"
     ]
    }
   ],
   "source": [
    "p1 = person('Supriyo', 'supriyo@gmail.com')\n",
    "p1.update_name('Arijit')\n",
    "p1.update_email('arijit@yahoo.com')\n",
    "p1.display_name()\n",
    "p1.display_email()\n"
   ]
  },
  {
   "cell_type": "markdown",
   "metadata": {},
   "source": [
    "51. Why is encapsulation considered the pillar of object oriented programming(OOP)?\n",
    "\n",
    "Ans: Data Security: Encapsulation keeps sensitive data safe from unauthorized access. For instance, the password attribute is encapsulated in a user class, preventing direct access.\n",
    "Modularity: It promotes modular code, making it easy to maintain and understand. Changes to the internal structure don't ripple across the entire codebase.\n",
    "Encapsulation is the foundation of data protection and code organization. It ensures our code is like a vault, keeping its secrets hidden while offering controlled access to its treasures."
   ]
  },
  {
   "cell_type": "code",
   "execution_count": 8,
   "metadata": {},
   "outputs": [],
   "source": [
    "\"\"\"\n",
    "52. Create a decorator that adds functionality to add a simple function by printing a message \n",
    "before and after the function execution.\n",
    "\"\"\"\n",
    "def decorator(func):\n",
    "    def deco_func():\n",
    "        print(\"Good Morning!!\")\n",
    "        func()\n",
    "        print(\"How are you?\")\n",
    "    return deco_func\n",
    "@decorator\n",
    "def greetings():\n",
    "    n = input(\"Enter your name: \")\n",
    "    print(f\"My name is {n}\")\n",
    "@decorator\n",
    "def greetings1():\n",
    "    n = input(\"Enter your name: \")\n",
    "    print(f\"Hallo my friend {n}!!\")\n"
   ]
  },
  {
   "cell_type": "code",
   "execution_count": 10,
   "metadata": {},
   "outputs": [
    {
     "name": "stdout",
     "output_type": "stream",
     "text": [
      "Good Morning!!\n",
      "My name is Supriyo\n",
      "How are you?\n"
     ]
    }
   ],
   "source": [
    "greetings()"
   ]
  },
  {
   "cell_type": "code",
   "execution_count": 11,
   "metadata": {},
   "outputs": [
    {
     "name": "stdout",
     "output_type": "stream",
     "text": [
      "Good Morning!!\n",
      "Hallo my friend Arijit!!\n",
      "How are you?\n"
     ]
    }
   ],
   "source": [
    "greetings1()"
   ]
  },
  {
   "cell_type": "code",
   "execution_count": 13,
   "metadata": {},
   "outputs": [
    {
     "name": "stdout",
     "output_type": "stream",
     "text": [
      "Calling my_function with message: Hello world!\n",
      "This is my function!\n"
     ]
    }
   ],
   "source": [
    "\"\"\"\n",
    "53. Modify the decorator to receive arguments and print the function name along with the message.\n",
    "\"\"\"\n",
    "def my_decorator(message):\n",
    "    def wrapper(func):\n",
    "        def inner(*args, **kwargs):\n",
    "            print(f\"Calling {func.__name__} with message: {message}\")\n",
    "            return func(*args, **kwargs)\n",
    "        return inner\n",
    "    return wrapper\n",
    "\n",
    "@my_decorator(\"Hello world!\")\n",
    "def my_function():\n",
    "    print(\"This is my function!\")\n",
    "\n",
    "my_function()"
   ]
  },
  {
   "cell_type": "code",
   "execution_count": 2,
   "metadata": {},
   "outputs": [
    {
     "name": "stdout",
     "output_type": "stream",
     "text": [
      "Entering the method.\n",
      "16 is even\n",
      "Method Executed.\n"
     ]
    }
   ],
   "source": [
    "\"\"\"\n",
    "54. Create two decorators and apply them to a single function. Ensure that they execute in the order they are \n",
    "applied.\n",
    "\"\"\"\n",
    "def deco1(func):\n",
    "    def deco_func1():\n",
    "        print(\"Entering the method.\")\n",
    "        func()\n",
    "    return deco_func1\n",
    "def deco2(func):\n",
    "    def deco_func2():\n",
    "        func()\n",
    "        print(\"Method Executed.\")\n",
    "    return deco_func2\n",
    "@deco1 \n",
    "@deco2\n",
    "def chk_even_odd():\n",
    "    n = int(input(\"input number: \"))\n",
    "    even_odd = lambda x: \"even\" if x % 2 == 0 else \"odd\"\n",
    "    print(f\"{n} is {even_odd(n)}\")\n",
    "chk_even_odd()"
   ]
  },
  {
   "cell_type": "code",
   "execution_count": 25,
   "metadata": {},
   "outputs": [
    {
     "name": "stdout",
     "output_type": "stream",
     "text": [
      "Running  summation\n",
      "17\n",
      "Executed.\n",
      "Executing subtration\n",
      "15\n",
      "Executed.\n"
     ]
    }
   ],
   "source": [
    "\"\"\"\n",
    "55. Modify the decorator to accept and pass function arguments to the wrapped function.\n",
    "\"\"\"\n",
    "def arg_deco(arg = 'Executing'):\n",
    "    def wrap(func):\n",
    "        def inner(*args, **kwargs):\n",
    "            print(arg, func.__name__)\n",
    "            func(*args, **kwargs)\n",
    "            print(\"Executed.\")\n",
    "        return inner\n",
    "    return wrap\n",
    "@arg_deco()\n",
    "def subtration(a, b):\n",
    "    print (a - b)\n",
    "@arg_deco('Running ')\n",
    "def summation(a, b):\n",
    "    print (a + b)\n",
    "summation(12,5)\n",
    "subtration(40,25)"
   ]
  },
  {
   "cell_type": "code",
   "execution_count": 31,
   "metadata": {},
   "outputs": [
    {
     "name": "stdout",
     "output_type": "stream",
     "text": [
      "Returns square of the given number.\n",
      "25\n",
      "Returns the diagonal from length and breadth of a rectangle.\n",
      "17.0\n"
     ]
    }
   ],
   "source": [
    "\"\"\"\n",
    "56. Create a decorator that preserves the metadata of the original function.\n",
    "\"\"\"\n",
    "def metadata(func):\n",
    "    def main_func(*args,**kwargs):\n",
    "        metadoc = func.__doc__\n",
    "        print(metadoc)\n",
    "        func(*args,**kwargs)\n",
    "    return main_func\n",
    "@metadata\n",
    "def sq(num):\n",
    "    \"\"\"Returns square of the given number.\"\"\"\n",
    "    print(num ** 2)\n",
    "@metadata\n",
    "def diagonal(x, y):\n",
    "    \"\"\"Returns the diagonal from length and breadth of a rectangle.\"\"\"\n",
    "    print((x**2 + y**2) ** (1/2))\n",
    "sq(5)\n",
    "diagonal(8, 15)"
   ]
  },
  {
   "cell_type": "code",
   "execution_count": 3,
   "metadata": {},
   "outputs": [],
   "source": [
    "\"\"\"\n",
    "57. Create a python class Calculator with a static method Add that takes two argument and return their summation.\n",
    "\"\"\"\n",
    "class calculator:\n",
    "    @staticmethod\n",
    "    def add(x, y):\n",
    "        print(x + y)"
   ]
  },
  {
   "cell_type": "code",
   "execution_count": 4,
   "metadata": {},
   "outputs": [
    {
     "name": "stdout",
     "output_type": "stream",
     "text": [
      "14\n"
     ]
    }
   ],
   "source": [
    "calculator.add(6, 8)"
   ]
  },
  {
   "cell_type": "code",
   "execution_count": 18,
   "metadata": {},
   "outputs": [],
   "source": [
    "\"\"\"\n",
    "58. Create a python class Employee with class method 'get_employee_count' that returns total number of employees \n",
    "created.\n",
    "\"\"\"\n",
    "class employee:\n",
    "    emp_list = []\n",
    "    @classmethod\n",
    "    def create_employee_list(cls, emp_name):\n",
    "        employee.emp_list.append(emp_name)\n",
    "    @classmethod\n",
    "    def get_employee_count(cls):\n",
    "        print(len(employee.emp_list))"
   ]
  },
  {
   "cell_type": "code",
   "execution_count": 21,
   "metadata": {},
   "outputs": [],
   "source": [
    "n = int(input(\"no of entries: \"))\n",
    "for i in range(n):\n",
    "    name = input(\"enter employee: \")\n",
    "    employee.create_employee_list(name)"
   ]
  },
  {
   "cell_type": "code",
   "execution_count": 22,
   "metadata": {},
   "outputs": [
    {
     "name": "stdout",
     "output_type": "stream",
     "text": [
      "5\n"
     ]
    }
   ],
   "source": [
    "employee.get_employee_count()"
   ]
  },
  {
   "cell_type": "code",
   "execution_count": 13,
   "metadata": {},
   "outputs": [],
   "source": [
    "\"\"\"\n",
    "59. Create a python class 'StringFormatter' with a static method 'reverse_string' that takes a string as input and \n",
    "returns its reverse.\n",
    "\"\"\"\n",
    "class StringFormatter:\n",
    "    @staticmethod\n",
    "    def reverse_string(string):\n",
    "        print(string[::-1])"
   ]
  },
  {
   "cell_type": "code",
   "execution_count": 15,
   "metadata": {},
   "outputs": [
    {
     "name": "stdout",
     "output_type": "stream",
     "text": [
      "oyirpus\n"
     ]
    }
   ],
   "source": [
    "mystr = input(\"input string: \")\n",
    "StringFormatter.reverse_string(mystr)"
   ]
  },
  {
   "cell_type": "code",
   "execution_count": 16,
   "metadata": {},
   "outputs": [],
   "source": [
    "\"\"\"\n",
    "60. Create a python class Circle with a class method 'calculate area' that calculates the area of the circle \n",
    "given its radius.\n",
    "\"\"\"\n",
    "import math\n",
    "class Circle:\n",
    "    @classmethod\n",
    "    def calculate_area(cls, radius):\n",
    "        print(f\"area: {math.pi * (radius ** 2)}\")"
   ]
  },
  {
   "cell_type": "code",
   "execution_count": 17,
   "metadata": {},
   "outputs": [
    {
     "name": "stdout",
     "output_type": "stream",
     "text": [
      "area: 615.7521601035994\n"
     ]
    }
   ],
   "source": [
    "Circle.calculate_area(14)"
   ]
  },
  {
   "cell_type": "code",
   "execution_count": 25,
   "metadata": {},
   "outputs": [],
   "source": [
    "\"\"\"\n",
    "61. Create a pytjon class 'TemperatureConverter' with a static method ''celsius_to_fahrenheit' that converts \n",
    "celsius temperature to fahrenheit.\n",
    "\"\"\"\n",
    "class TemperatureConverter:\n",
    "    @staticmethod\n",
    "    def celsius_to_fahrenheit(c_temp):\n",
    "        print(f\"fahrenheit temperature: {(c_temp * 9)/5 + 32}\")"
   ]
  },
  {
   "cell_type": "code",
   "execution_count": 27,
   "metadata": {},
   "outputs": [
    {
     "name": "stdout",
     "output_type": "stream",
     "text": [
      "fahrenheit temperature: 212.0\n"
     ]
    }
   ],
   "source": [
    "TemperatureConverter.celsius_to_fahrenheit(100)"
   ]
  },
  {
   "cell_type": "markdown",
   "metadata": {},
   "source": [
    "62. What is the purpose of __str__() method in python? Provide an example.\n",
    "\n",
    "Ans: The __str__() method in Python is a special method that is called when an object is converted to a string. This method is used to return a string representation of the object, which can then be printed or used in other ways.\n",
    "The __str__() method is defined in the object's class, and it can be overridden to provide a custom string representation for the object. If the __str__() method is not defined, then the object's __repr__() method will be used instead.\n",
    "The __str__() method should return a string that is readable and informative. It should not return a Python expression, as this can be confusing and difficult to read.\n",
    "Example:"
   ]
  },
  {
   "cell_type": "code",
   "execution_count": 28,
   "metadata": {},
   "outputs": [
    {
     "name": "stdout",
     "output_type": "stream",
     "text": [
      "Supriyo is 31 years old.\n"
     ]
    }
   ],
   "source": [
    "class Person:\n",
    "    def __init__(self, name, age):\n",
    "        self.name = name\n",
    "        self.age = age\n",
    "    def __str__(self):\n",
    "        return f\"{self.name} is {self.age} years old.\"\n",
    "person = Person(\"Supriyo\", 31)\n",
    "print(person)"
   ]
  },
  {
   "cell_type": "markdown",
   "metadata": {},
   "source": [
    "63. How does the __len__() method work in python? Privide an example.\n",
    "\n",
    "Ans: The __len__() function in Python is a special method that is called when the len() function is used on an object. It returns the length of the object, which is the number of items in it.\n",
    "The __len__() function can be defined for any type of object, but it is most commonly used for collections such as lists, tuples, sets, and dictionaries. It can also be used for strings, which are sequences of characters.\n",
    "Example:"
   ]
  },
  {
   "cell_type": "code",
   "execution_count": 29,
   "metadata": {},
   "outputs": [
    {
     "name": "stdout",
     "output_type": "stream",
     "text": [
      "5\n"
     ]
    }
   ],
   "source": [
    "class MyList:\n",
    "  def __init__(self, items):\n",
    "    self.items = items\n",
    "\n",
    "  def __len__(self):\n",
    "    return len(self.items)\n",
    "\n",
    "my_list = MyList([1, 2, 3, 4, 5])\n",
    "print(len(my_list))"
   ]
  },
  {
   "cell_type": "markdown",
   "metadata": {},
   "source": [
    "64. Explain the uses of __add__() method in python classes. Provide an example.\n",
    "\n",
    "Ans: The __add__() function in Python is a special method that is called when the addition operator (+) is used on objects of a class. It allows you to define custom behavior for the addition operator, and can be used to implement a variety of features, such as overloading the addition operator to add objects of different types, or to add additional functionality to the addition operation.\n",
    "The __add__() function takes two arguments: self and other. The self argument refers to the current object, and the other argument refers to the object that is being added to it. The __add__() function should return a new object that represents the result of the addition operation.\n",
    "Example:"
   ]
  },
  {
   "cell_type": "code",
   "execution_count": 39,
   "metadata": {},
   "outputs": [
    {
     "name": "stdout",
     "output_type": "stream",
     "text": [
      "Hello Folks\n"
     ]
    }
   ],
   "source": [
    "class Str:\n",
    "    def __init__(self, string_):\n",
    "        self.string_ = string_\n",
    "    def __add__(self, string2):\n",
    "        return self.string_ + string2\n",
    "instance1 = Str(\"Hello\")\n",
    "print(instance1 + \" Folks\")\n"
   ]
  },
  {
   "cell_type": "markdown",
   "metadata": {},
   "source": [
    "65. What is the purpose of __getitem__() method in python? Provide an example.\n",
    "\n",
    "Ans: The __getitem__() function in Python is a special method that is called when you use the square bracket operator ([]) to access an item in a sequence. It is also known as the \"getter\" method.\n",
    "The __getitem__() method takes one argument, which is the index of the item you want to access. It returns the item at that index, or raises an IndexError exception if the index is out of range.\n",
    "The __getitem__() method is used by all sequence types in Python, including lists, tuples, strings, and dictionaries. It can also be used by custom sequence types that you define yourself.\n",
    "Example:"
   ]
  },
  {
   "cell_type": "code",
   "execution_count": 40,
   "metadata": {},
   "outputs": [
    {
     "name": "stdout",
     "output_type": "stream",
     "text": [
      "Arijit\n"
     ]
    }
   ],
   "source": [
    "class Student:\n",
    "    def __init__(self, names):\n",
    "        self.names=names\n",
    "\n",
    "    def __getitem__(self,i):\n",
    "        return self.names[i]\n",
    "\n",
    "section_A= Student([\"Supriyo\", \"Arijit\", \"Rintu\"])\n",
    "print(section_A[1])"
   ]
  },
  {
   "cell_type": "markdown",
   "metadata": {},
   "source": [
    "66. Explain the uses of __iter__() and __next__() method in python classes. Provide an example.\n",
    "\n",
    "Ans: The __iter__() function returns an iterator for the given object (array, set, tuple etc. or custom objects). It creates an object that can be accessed one element at a time using __next__() function, which generally comes in handy when dealing with loops.\n",
    "Example:"
   ]
  },
  {
   "cell_type": "code",
   "execution_count": 1,
   "metadata": {},
   "outputs": [
    {
     "name": "stdout",
     "output_type": "stream",
     "text": [
      "Cat\n",
      "Bat\n",
      "Sat\n",
      "Mat\n"
     ]
    }
   ],
   "source": [
    "listB = ['Cat', 'Bat', 'Sat', 'Mat']\n",
    " \n",
    " \n",
    "iter_listB = listB.__iter__()\n",
    "\n",
    "while True:\n",
    "    try:\n",
    "        print(iter_listB.__next__())\n",
    "    except:\n",
    "        break"
   ]
  },
  {
   "cell_type": "markdown",
   "metadata": {},
   "source": [
    "67. What is the purpose of getter method in python? Provide an example demonstrating the use of getter method using property decorators.\n",
    "\n",
    "Ans: Getter methods are used in object-oriented programming to get the value of an attribute. They are often used to access private attributes, which are attributes that cannot be accessed directly from outside the class.\n",
    "Getter methods are typically defined using the @property decorator. This decorator tells Python that the method is a getter method and that it should be used to get the value of the attribute.\n",
    "Example:"
   ]
  },
  {
   "cell_type": "code",
   "execution_count": 7,
   "metadata": {},
   "outputs": [],
   "source": [
    "class test:\n",
    "    def __init__(self, name, email):\n",
    "        self.__name = name \n",
    "        self.__email = email\n",
    "# name and email cannot be accessed directly.\n",
    "    @property\n",
    "    def get_name(self): # getter method defined to access name\n",
    "        print(self.__name)\n",
    "    @property\n",
    "    def get_email(self): # getter method defined to access email\n",
    "        print(self.__email)"
   ]
  },
  {
   "cell_type": "code",
   "execution_count": 8,
   "metadata": {},
   "outputs": [
    {
     "name": "stdout",
     "output_type": "stream",
     "text": [
      "Supriyo\n",
      "supriyo@xyz.com\n"
     ]
    }
   ],
   "source": [
    "stu1 = test('Supriyo', 'supriyo@xyz.com')\n",
    "stu1.get_name\n",
    "stu1.get_email"
   ]
  },
  {
   "cell_type": "markdown",
   "metadata": {},
   "source": [
    "68. Explain the role of setter method in python. Demonstrate how to use setter method in python to modify a class attribute using property decorator.\n",
    "\n",
    "Ans: The setter decorator in Python is used to define a method that will be called when an attribute is set. This can be useful for validation or other actions that need to occur when the attribute is modified.\n",
    "The @<property-name>.setter decorator is used to define a method that acts as a \"setter\" for an attribute. When you set the attribute, the method decorated with @<property-name>.setter will be called automatically.\n",
    "Example:"
   ]
  },
  {
   "cell_type": "code",
   "execution_count": 10,
   "metadata": {},
   "outputs": [],
   "source": [
    "class status:\n",
    "    def __init__(self, message): # message is not callable directly.\n",
    "        self.__message = message\n",
    "    @property # getter method defined to make massege accessable.\n",
    "    def get_status(self):\n",
    "        return self.__message\n",
    "    @get_status.setter # setter method defined to edit massage.\n",
    "    def set_status(self, msg1):\n",
    "        self.__message = msg1\n",
    "        return self.__message"
   ]
  },
  {
   "cell_type": "code",
   "execution_count": 13,
   "metadata": {},
   "outputs": [
    {
     "name": "stdout",
     "output_type": "stream",
     "text": [
      "Order placed.\n",
      "Order is in transit\n"
     ]
    }
   ],
   "source": [
    "stat1 = status(\"Order placed.\")\n",
    "print(stat1.get_status)\n",
    "stat1.set_status = \"Order is in transit\"\n",
    "print(stat1.get_status)\n"
   ]
  },
  {
   "cell_type": "markdown",
   "metadata": {},
   "source": [
    "69. What is the purpose of the property decorator in python? Provide an example illustraiting its usage.\n",
    "\n",
    "Ans: The property decorator in Python is a built-in decorator that can be used to define properties without manually calling the inbuilt function property(). It is used to give \"special\" functionality to certain methods to make them act as getters, setters, or deleters when we define properties in a class.\n",
    "Decorators in Python are like special badges we give to functions to add extra powers without changing the function itself. Essentially, it lets us access methods as if they were attributes, without needing to write parentheses.\n",
    "The property decorator in Python is commonly used for read-only attributes, but Python also allows you to define setters for those properties.\n",
    "Example:"
   ]
  },
  {
   "cell_type": "code",
   "execution_count": 3,
   "metadata": {},
   "outputs": [
    {
     "name": "stdout",
     "output_type": "stream",
     "text": [
      "Order placed.\n",
      "Order is in transit\n"
     ]
    },
    {
     "ename": "AttributeError",
     "evalue": "'status' object has no attribute '_status__message'",
     "output_type": "error",
     "traceback": [
      "\u001b[1;31m---------------------------------------------------------------------------\u001b[0m",
      "\u001b[1;31mAttributeError\u001b[0m                            Traceback (most recent call last)",
      "Cell \u001b[1;32mIn[3], line 19\u001b[0m\n\u001b[0;32m     17\u001b[0m \u001b[38;5;28mprint\u001b[39m(stat1\u001b[38;5;241m.\u001b[39mget_status)\n\u001b[0;32m     18\u001b[0m \u001b[38;5;28;01mdel\u001b[39;00m stat1\u001b[38;5;241m.\u001b[39mdelete_status\n\u001b[1;32m---> 19\u001b[0m \u001b[38;5;28mprint\u001b[39m(\u001b[43mstat1\u001b[49m\u001b[38;5;241;43m.\u001b[39;49m\u001b[43mget_status\u001b[49m)\n",
      "Cell \u001b[1;32mIn[3], line 6\u001b[0m, in \u001b[0;36mstatus.get_status\u001b[1;34m(self)\u001b[0m\n\u001b[0;32m      4\u001b[0m \u001b[38;5;129m@property\u001b[39m \u001b[38;5;66;03m# getter method defined to make massege accessable.\u001b[39;00m\n\u001b[0;32m      5\u001b[0m \u001b[38;5;28;01mdef\u001b[39;00m \u001b[38;5;21mget_status\u001b[39m(\u001b[38;5;28mself\u001b[39m):\n\u001b[1;32m----> 6\u001b[0m     \u001b[38;5;28;01mreturn\u001b[39;00m \u001b[38;5;28;43mself\u001b[39;49m\u001b[38;5;241;43m.\u001b[39;49m\u001b[43m__message\u001b[49m\n",
      "\u001b[1;31mAttributeError\u001b[0m: 'status' object has no attribute '_status__message'"
     ]
    }
   ],
   "source": [
    "class status:\n",
    "    def __init__(self, message): # message is not callable directly.\n",
    "        self.__message = message\n",
    "    @property # getter method defined to make massege accessable.\n",
    "    def get_status(self):\n",
    "        return self.__message\n",
    "    @get_status.setter # setter method defined to edit massage.\n",
    "    def set_status(self, msg1):\n",
    "        self.__message = msg1\n",
    "        return self.__message\n",
    "    @get_status.deleter # deleter method to delete message.\n",
    "    def delete_status(self):\n",
    "        del self.__message\n",
    "stat1 = status(\"Order placed.\")\n",
    "print(stat1.get_status)\n",
    "stat1.set_status = \"Order is in transit\"\n",
    "print(stat1.get_status)\n",
    "del stat1.delete_status\n",
    "print(stat1.get_status)"
   ]
  },
  {
   "cell_type": "markdown",
   "metadata": {},
   "source": [
    "70. Explain the use of @deleter property decorator in python property decorator. Provide a code example explaining its application.\n",
    "\n",
    "Ans: The deleter decorator in Python is used to define the method that deletes a property. The deleter method is called when the property is deleted using the del keyword. Deleter decorators can be useful for cleaning up resources when a property is deleted.\n",
    "Example:"
   ]
  },
  {
   "cell_type": "code",
   "execution_count": 8,
   "metadata": {},
   "outputs": [
    {
     "name": "stdout",
     "output_type": "stream",
     "text": [
      "Hallo World!!\n",
      "'greet' object has no attribute '_greet__msg'\n"
     ]
    }
   ],
   "source": [
    "class greet:\n",
    "    def __init__(self, msg):\n",
    "        self.__msg = msg\n",
    "    @property # private variable became accessable\n",
    "    def get_message(self):\n",
    "        return self.__msg\n",
    "    @get_message.deleter # method defined to delete\n",
    "    def delete_message(self):\n",
    "        del self.__msg\n",
    "greetings = greet(\"Hallo World!!\")\n",
    "print(greetings.get_message) # prints the value in private variable\n",
    "del greetings.delete_message\n",
    "try:\n",
    "    print(greetings.get_message) # gives error as the attribute is already deleted.\n",
    "except AttributeError as e:\n",
    "    print(e)"
   ]
  },
  {
   "cell_type": "markdown",
   "metadata": {},
   "source": [
    "71. How does encapsulation relate to property decorators in python? Provide an example showcasing encapsulation using property decorator.\n",
    "\n",
    "Ans: Encapsulation is a fundamental concept in object-oriented programming that involves bundling data and methods within a single unit and controlling access to that data. In Python, encapsulation can be achieved using property decorators, which allow developers to define properties for a class. Properties are special attributes that can be accessed like regular attributes, but they can also have getter and setter methods that are called when the property is accessed or assigned to.\n",
    "Example:"
   ]
  },
  {
   "cell_type": "code",
   "execution_count": 10,
   "metadata": {},
   "outputs": [
    {
     "name": "stdout",
     "output_type": "stream",
     "text": [
      "Order placed.\n",
      "Order is in transit\n"
     ]
    }
   ],
   "source": [
    "class status:\n",
    "    def __init__(self, message): # message is not callable directly.\n",
    "        self.__message = message\n",
    "    @property # getter method defined to make massege accessable.\n",
    "    def get_status(self):\n",
    "        return self.__message\n",
    "    @get_status.setter # setter method defined to edit massage.\n",
    "    def set_status(self, msg1):\n",
    "        self.__message = msg1\n",
    "        return self.__message\n",
    "stat1 = status(\"Order placed.\")# method to access the value in private variable.\n",
    "print(stat1.get_status) # print the value in private variable.\n",
    "stat1.set_status = \"Order is in transit\" # modify the value of private variable.\n",
    "print(stat1.get_status) # print the modified value of private variable."
   ]
  }
 ],
 "metadata": {
  "kernelspec": {
   "display_name": "Python 3",
   "language": "python",
   "name": "python3"
  },
  "language_info": {
   "codemirror_mode": {
    "name": "ipython",
    "version": 3
   },
   "file_extension": ".py",
   "mimetype": "text/x-python",
   "name": "python",
   "nbconvert_exporter": "python",
   "pygments_lexer": "ipython3",
   "version": "3.12.2"
  }
 },
 "nbformat": 4,
 "nbformat_minor": 2
}
