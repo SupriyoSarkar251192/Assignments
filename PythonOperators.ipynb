{
 "cells": [
  {
   "cell_type": "code",
   "execution_count": 4,
   "id": "64d9263e-b491-4ca6-9505-387a98c98cba",
   "metadata": {},
   "outputs": [
    {
     "name": "stdin",
     "output_type": "stream",
     "text": [
      "input 1st number:  84\n",
      "input 2nd number:  12\n"
     ]
    },
    {
     "name": "stdout",
     "output_type": "stream",
     "text": [
      "sum = 96.0; difference = 72.0; product = 1008.0; quotient = 7.0\n"
     ]
    }
   ],
   "source": [
    "# sum, subtraction, multiplication and division of two numbers:\n",
    "num1 = float(input(\"input 1st number: \"))\n",
    "num2 = float(input(\"input 2nd number: \"))\n",
    "sum1 = num1 + num2\n",
    "diff1 = num1 - num2\n",
    "prod1 = num1 * num2\n",
    "div1 = num1 / num2\n",
    "print(f\"sum = {sum1}; difference = {diff1}; product = {prod1}; quotient = {div1}\")"
   ]
  },
  {
   "cell_type": "code",
   "execution_count": 26,
   "id": "e6f2d8e9-430f-4d31-a920-805c81e44ac8",
   "metadata": {},
   "outputs": [
    {
     "name": "stdout",
     "output_type": "stream",
     "text": [
      "14\n",
      "12\n",
      "420\n",
      "30.0\n",
      "14.0\n",
      "196\n",
      "4\n",
      "2\n",
      "6\n",
      "5\n",
      "640\n",
      "40\n"
     ]
    }
   ],
   "source": [
    "a = 10 # assigning integer value 10 to the variable a.\n",
    "a += 4 # adding 4 to a.\n",
    "print(a)\n",
    "a -= 2 # subtracting 2.\n",
    "print(a) \n",
    "a *= 35 # multiplying by 35.\n",
    "print(a) \n",
    "a /= 14 # dividing by 14.\n",
    "print(a)\n",
    "a %= 16 # taking remainder by dividing with 16.\n",
    "print(a)\n",
    "a = int(a)\n",
    "a **= 2 # squiring\n",
    "print(a)\n",
    "a &= 14 # bitwise and.\n",
    "print(a)\n",
    "a //= 2 # dividing(floor) by 2\n",
    "print(a)\n",
    "a |= 4 # bitwise or.\n",
    "print(a)\n",
    "a ^= 3 # bitwise XOR.\n",
    "print(a)\n",
    "a <<= 7 # left shifting by 7\n",
    "print(a)\n",
    "a >>= 4 # right shifting by 4\n",
    "print(a)"
   ]
  },
  {
   "cell_type": "code",
   "execution_count": 29,
   "id": "3d3d867d-d311-445b-8dc3-fea01f446d52",
   "metadata": {},
   "outputs": [
    {
     "name": "stdin",
     "output_type": "stream",
     "text": [
      "enter first number:  45\n",
      "enter second number:  54\n"
     ]
    },
    {
     "name": "stdout",
     "output_type": "stream",
     "text": [
      "Greater number: 54.0; Smaller number: 45.0\n"
     ]
    }
   ],
   "source": [
    "# comparing two numbers.\n",
    "num1 = float(input(\"enter first number: \"))\n",
    "num2 = float(input(\"enter second number: \"))\n",
    "if num1 > num2:\n",
    "    print(f\"Greater number: {num1}; Smaller number: {num2}\")\n",
    "elif num1 == num2:\n",
    "    print(\"Both are equal.\")\n",
    "else:\n",
    "    print(f\"Greater number: {num2}; Smaller number: {num1}\")"
   ]
  },
  {
   "cell_type": "code",
   "execution_count": 30,
   "id": "887db87e-9e26-4642-8852-b4ebedf49734",
   "metadata": {},
   "outputs": [
    {
     "name": "stdin",
     "output_type": "stream",
     "text": [
      "enter a value:  0.6\n"
     ]
    },
    {
     "name": "stdout",
     "output_type": "stream",
     "text": [
      "valid input.\n"
     ]
    },
    {
     "name": "stdin",
     "output_type": "stream",
     "text": [
      "enter a value:  0.3\n"
     ]
    },
    {
     "name": "stdout",
     "output_type": "stream",
     "text": [
      "cosecX cannot be in (-1, 1)\n"
     ]
    }
   ],
   "source": [
    "# use of logical operator.\n",
    "sinX = float(input(\"enter a value: \"))\n",
    "if sinX >= -1 and sinX <= 1:\n",
    "    print(\"valid input.\")\n",
    "else:\n",
    "    print(\"sinX cannot exceed the range [-1, 1]\")\n",
    "cosecX = float(input(\"enter a value: \"))\n",
    "if cosecX <= -1 or cosecX >= 1:\n",
    "    print(\"valid input.\")\n",
    "else:\n",
    "    print(\"cosecX cannot be in (-1, 1)\")"
   ]
  },
  {
   "cell_type": "code",
   "execution_count": 34,
   "id": "15aa16e5-0b67-440e-a825-16c036d74979",
   "metadata": {},
   "outputs": [
    {
     "name": "stdin",
     "output_type": "stream",
     "text": [
      " 5\n"
     ]
    },
    {
     "data": {
      "text/plain": [
       "139782198296304"
      ]
     },
     "execution_count": 34,
     "metadata": {},
     "output_type": "execute_result"
    }
   ],
   "source": [
    "# checking identity of a variable.\n",
    "val = input()\n",
    "id(val)"
   ]
  },
  {
   "cell_type": "code",
   "execution_count": 39,
   "id": "784a7600-30e9-480b-be44-1709e8616245",
   "metadata": {},
   "outputs": [
    {
     "name": "stdin",
     "output_type": "stream",
     "text": [
      "enter 1st integer:  10\n",
      "enter 2nd integer:  7\n"
     ]
    },
    {
     "name": "stdout",
     "output_type": "stream",
     "text": [
      "bitwise or: 15; bitwise and: 2\n"
     ]
    }
   ],
   "source": [
    "# bitwise operator.\n",
    "a = int(input(\"enter 1st integer: \"))\n",
    "b = int(input(\"enter 2nd integer: \"))\n",
    "c = a | b\n",
    "d = a & b\n",
    "print(f\"bitwise or: {c}; bitwise and: {d}\")"
   ]
  },
  {
   "cell_type": "code",
   "execution_count": 48,
   "id": "bcbe58db-d8e9-4e50-a700-ae1648fcd328",
   "metadata": {},
   "outputs": [
    {
     "name": "stdin",
     "output_type": "stream",
     "text": [
      "enter a value:  25\n"
     ]
    },
    {
     "name": "stdout",
     "output_type": "stream",
     "text": [
      "35\n",
      "23\n",
      "-26\n"
     ]
    }
   ],
   "source": [
    "# unary operators.\n",
    "num = int(input(\"enter a value: \"))\n",
    "print(num + 10)\n",
    "print(num - 2)\n",
    "print(~ num)\n"
   ]
  },
  {
   "cell_type": "code",
   "execution_count": 52,
   "id": "df91567f-7521-4e9f-a845-ce305269493d",
   "metadata": {},
   "outputs": [
    {
     "name": "stdin",
     "output_type": "stream",
     "text": [
      "enter first number:  47\n",
      "enter second number:  21\n"
     ]
    },
    {
     "name": "stdout",
     "output_type": "stream",
     "text": [
      "21.0\n"
     ]
    }
   ],
   "source": [
    "# ternary operator.\n",
    "num1 = float(input(\"enter first number: \"))\n",
    "num2 = float(input(\"enter second number: \"))\n",
    "minimum = num1 if num1 < num2 else \"equal\" if num1 == num2 else num2\n",
    "print(minimum)"
   ]
  },
  {
   "cell_type": "code",
   "execution_count": null,
   "id": "a7ffed0a-e0c4-45b6-9bba-009a0d0726c3",
   "metadata": {},
   "outputs": [],
   "source": []
  }
 ],
 "metadata": {
  "kernelspec": {
   "display_name": "Python 3 (ipykernel)",
   "language": "python",
   "name": "python3"
  },
  "language_info": {
   "codemirror_mode": {
    "name": "ipython",
    "version": 3
   },
   "file_extension": ".py",
   "mimetype": "text/x-python",
   "name": "python",
   "nbconvert_exporter": "python",
   "pygments_lexer": "ipython3",
   "version": "3.10.8"
  }
 },
 "nbformat": 4,
 "nbformat_minor": 5
}
