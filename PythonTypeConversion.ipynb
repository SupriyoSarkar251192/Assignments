{
 "cells": [
  {
   "cell_type": "code",
   "execution_count": 1,
   "id": "1206e490-0ab4-42d2-9c78-078c344d86f7",
   "metadata": {},
   "outputs": [
    {
     "name": "stdin",
     "output_type": "stream",
     "text": [
      "Get an integer:  98\n"
     ]
    },
    {
     "name": "stdout",
     "output_type": "stream",
     "text": [
      "The converted number is: 98.0\n"
     ]
    }
   ],
   "source": [
    "# converting integer to float.\n",
    "num = int(input(\"Get an integer: \"))\n",
    "num = float(num)\n",
    "print(f\"The converted number is: {num}\")"
   ]
  },
  {
   "cell_type": "code",
   "execution_count": 3,
   "id": "ecf71bf2-b2b7-4885-9d71-d82d11d99461",
   "metadata": {},
   "outputs": [
    {
     "name": "stdin",
     "output_type": "stream",
     "text": [
      "Get an integer:  4.6\n"
     ]
    },
    {
     "name": "stdout",
     "output_type": "stream",
     "text": [
      "The converted number is: 4\n"
     ]
    }
   ],
   "source": [
    "# converting float to integer.\n",
    "num = float(input(\"Get an integer: \"))\n",
    "num = int(num)\n",
    "print(f\"The converted number is: {num}\")"
   ]
  },
  {
   "cell_type": "code",
   "execution_count": 6,
   "id": "a7b7ee74-721e-458a-bad3-3a83b5060ced",
   "metadata": {},
   "outputs": [
    {
     "name": "stdin",
     "output_type": "stream",
     "text": [
      "Get an integer:  65\n"
     ]
    },
    {
     "name": "stdout",
     "output_type": "stream",
     "text": [
      "here is the converted string: 65\n"
     ]
    }
   ],
   "source": [
    "# convert integer to string.\n",
    "num = int(input(\"Get an integer: \"))\n",
    "print(f\"here is the converted string: {str(num)}\")"
   ]
  },
  {
   "cell_type": "code",
   "execution_count": 17,
   "id": "90d56dc7-4bf9-43ba-b9f5-b2c0e2fe385f",
   "metadata": {},
   "outputs": [
    {
     "name": "stdin",
     "output_type": "stream",
     "text": [
      "print no. of values to enter:  3\n",
      "input value:  65\n",
      "input value:  piku\n",
      "input value:  78\n"
     ]
    },
    {
     "name": "stdout",
     "output_type": "stream",
     "text": [
      "('65', 'piku', '78')\n"
     ]
    }
   ],
   "source": [
    "# convert list into a tuple.\n",
    "n = int(input(\"print no. of values to enter: \"))\n",
    "list0 = []\n",
    "for i in range(n):\n",
    "    j = input(\"input value: \")\n",
    "    list0.append(j)\n",
    "print(tuple(list0))"
   ]
  },
  {
   "cell_type": "code",
   "execution_count": 18,
   "id": "a78527bb-c476-47ff-848c-5632607c7d59",
   "metadata": {},
   "outputs": [
    {
     "name": "stdout",
     "output_type": "stream",
     "text": [
      "['hi', 'my', 'name', 'is', 'Supriyo']\n"
     ]
    }
   ],
   "source": [
    "# convert a tuple into list.\n",
    "tup0 = ('hi','my','name','is','Supriyo')\n",
    "print(list(tup0))"
   ]
  },
  {
   "cell_type": "code",
   "execution_count": 19,
   "id": "57f93a6b-a050-4807-9e30-f7f1aab86dd5",
   "metadata": {},
   "outputs": [
    {
     "name": "stdin",
     "output_type": "stream",
     "text": [
      "enter a number:  9\n"
     ]
    },
    {
     "name": "stdout",
     "output_type": "stream",
     "text": [
      "the binary form of 9 is 1001\n"
     ]
    }
   ],
   "source": [
    "# convert an integer to binary.\n",
    "num = int(input(\"enter a number: \"))\n",
    "b_num = format(num,'b')\n",
    "print(f\"the binary form of {num} is {b_num}\")"
   ]
  },
  {
   "cell_type": "code",
   "execution_count": 16,
   "id": "fcf49bc0-6210-4fc5-86a4-6cc427e834f8",
   "metadata": {},
   "outputs": [
    {
     "name": "stdin",
     "output_type": "stream",
     "text": [
      "enter a number:  3\n"
     ]
    },
    {
     "name": "stdout",
     "output_type": "stream",
     "text": [
      "Boolean value of 3.0 is True\n"
     ]
    }
   ],
   "source": [
    "# convert a decimal value into boolean.\n",
    "num = float(input(\"enter a number: \"))\n",
    "bool_num = bool(num)\n",
    "print(f\"Boolean value of {num} is {bool_num}\")"
   ]
  },
  {
   "cell_type": "code",
   "execution_count": null,
   "id": "eb09d957-8a24-4dd4-ad36-49435f44d524",
   "metadata": {},
   "outputs": [],
   "source": []
  }
 ],
 "metadata": {
  "kernelspec": {
   "display_name": "Python 3 (ipykernel)",
   "language": "python",
   "name": "python3"
  },
  "language_info": {
   "codemirror_mode": {
    "name": "ipython",
    "version": 3
   },
   "file_extension": ".py",
   "mimetype": "text/x-python",
   "name": "python",
   "nbconvert_exporter": "python",
   "pygments_lexer": "ipython3",
   "version": "3.10.8"
  }
 },
 "nbformat": 4,
 "nbformat_minor": 5
}
