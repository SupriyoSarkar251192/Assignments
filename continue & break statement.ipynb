{
 "cells": [
  {
   "cell_type": "code",
   "execution_count": 1,
   "id": "45133a03-7f56-4d18-93a2-4fbddf931c77",
   "metadata": {},
   "outputs": [
    {
     "name": "stdout",
     "output_type": "stream",
     "text": [
      "1\n",
      "2\n",
      "3\n",
      "4\n",
      "5\n"
     ]
    }
   ],
   "source": [
    "# print numbers from 1 to 10 but stop if the number is 5.\n",
    "for i in range(1,11):\n",
    "    if i <= 5:\n",
    "        print(i)\n",
    "    else:\n",
    "        break"
   ]
  },
  {
   "cell_type": "code",
   "execution_count": 2,
   "id": "12687e97-7e2b-4960-8ae9-8a378c75cf53",
   "metadata": {},
   "outputs": [
    {
     "name": "stdin",
     "output_type": "stream",
     "text": [
      "insert a string:  I am 31 years old\n"
     ]
    },
    {
     "name": "stdout",
     "output_type": "stream",
     "text": [
      "I\n",
      " \n",
      "a\n",
      "m\n",
      " \n"
     ]
    }
   ],
   "source": [
    "# iterate through list but stop when encountered a particular element.\n",
    "list0 = []\n",
    "my_str = input(\"insert a string: \")\n",
    "for i in my_str:\n",
    "    list0.append(i)\n",
    "for j in list0:\n",
    "    if j.isnumeric() == True:\n",
    "        break\n",
    "    else:\n",
    "        print(j)"
   ]
  },
  {
   "cell_type": "code",
   "execution_count": 4,
   "id": "b2e65d5b-5000-4f5d-9c19-a3a7846f3006",
   "metadata": {},
   "outputs": [
    {
     "name": "stdin",
     "output_type": "stream",
     "text": [
      "input range:  10\n"
     ]
    },
    {
     "name": "stdout",
     "output_type": "stream",
     "text": [
      "1\n",
      "3\n",
      "5\n",
      "7\n",
      "9\n"
     ]
    }
   ],
   "source": [
    "# skip printing even numbers from 1 to 10.\n",
    "r = int(input(\"input range: \"))\n",
    "for i in range(1,r+1):\n",
    "    if i % 2 == 0:\n",
    "        continue\n",
    "    else:\n",
    "        print(i)"
   ]
  },
  {
   "cell_type": "code",
   "execution_count": 5,
   "id": "cd33c9ca-8b84-4746-87ae-fa0116c9e006",
   "metadata": {},
   "outputs": [
    {
     "name": "stdin",
     "output_type": "stream",
     "text": [
      "input range:  9\n"
     ]
    },
    {
     "name": "stdout",
     "output_type": "stream",
     "text": [
      "0\n",
      "1\n",
      "2\n",
      "3\n",
      "4\n",
      "5\n",
      "6\n",
      "7\n",
      "8\n",
      "9\n"
     ]
    }
   ],
   "source": [
    "# print numbers from 0 to 9 using range.\n",
    "r = int(input(\"input range: \"))\n",
    "for i in range(r+1):\n",
    "    print(i)"
   ]
  },
  {
   "cell_type": "code",
   "execution_count": 13,
   "id": "69d020c3-8f44-494f-bcf5-05953a82f5ef",
   "metadata": {},
   "outputs": [
    {
     "name": "stdin",
     "output_type": "stream",
     "text": [
      "input range to create tables of:  5\n",
      "input range:  10\n"
     ]
    },
    {
     "name": "stdout",
     "output_type": "stream",
     "text": [
      "1 x 1 = 1\n",
      "1 x 2 = 2\n",
      "1 x 3 = 3\n",
      "1 x 4 = 4\n",
      "1 x 5 = 5\n",
      "1 x 6 = 6\n",
      "1 x 7 = 7\n",
      "1 x 8 = 8\n",
      "1 x 9 = 9\n",
      "1 x 10 = 10\n"
     ]
    }
   ],
   "source": [
    "# print tables from 1 to 5 but stop after first table is created.\n",
    "num = int(input(\"input range to create tables of: \"))\n",
    "r = int(input(\"input range: \"))\n",
    "if r >= 1:\n",
    "    for i in range(1,num+1):\n",
    "        for j in range(1, r+1):\n",
    "            print(f\"{i} x {j} = {i * j}\")\n",
    "        else:\n",
    "            break\n",
    "else:\n",
    "    print(\"table cannot be generated.\")"
   ]
  },
  {
   "cell_type": "code",
   "execution_count": 17,
   "id": "6f913028-408b-4abf-9094-40ed87368b6a",
   "metadata": {},
   "outputs": [
    {
     "name": "stdin",
     "output_type": "stream",
     "text": [
      "input range:  10\n"
     ]
    },
    {
     "name": "stdout",
     "output_type": "stream",
     "text": [
      "1\n",
      "3\n",
      "5\n",
      "7\n",
      "9\n"
     ]
    }
   ],
   "source": [
    "# skip printing even numbers from 1 to 10 using while loop.\n",
    "r = int(input(\"input range: \"))\n",
    "i = 0\n",
    "while i < r:\n",
    "    i += 1\n",
    "    if i % 2 == 0:\n",
    "        continue\n",
    "    print(i)"
   ]
  },
  {
   "cell_type": "code",
   "execution_count": null,
   "id": "2b8e9c25-72f6-4606-9990-8630e7ab9bb7",
   "metadata": {},
   "outputs": [],
   "source": []
  }
 ],
 "metadata": {
  "kernelspec": {
   "display_name": "Python 3 (ipykernel)",
   "language": "python",
   "name": "python3"
  },
  "language_info": {
   "codemirror_mode": {
    "name": "ipython",
    "version": 3
   },
   "file_extension": ".py",
   "mimetype": "text/x-python",
   "name": "python",
   "nbconvert_exporter": "python",
   "pygments_lexer": "ipython3",
   "version": "3.10.8"
  }
 },
 "nbformat": 4,
 "nbformat_minor": 5
}
