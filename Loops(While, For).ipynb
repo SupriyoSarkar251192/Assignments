{
 "cells": [
  {
   "cell_type": "code",
   "execution_count": 4,
   "id": "20021ab6-419a-4361-8e86-28d89ead7243",
   "metadata": {},
   "outputs": [
    {
     "name": "stdin",
     "output_type": "stream",
     "text": [
      "input highest number:  5\n"
     ]
    },
    {
     "name": "stdout",
     "output_type": "stream",
     "text": [
      "1\n",
      "2\n",
      "3\n",
      "4\n",
      "5\n"
     ]
    }
   ],
   "source": [
    "# print numbers from 1 to 5 using while loop.\n",
    "r = int(input(\"input highest number: \"))\n",
    "i = 1\n",
    "if r >= 1:\n",
    "    while i <= r:\n",
    "        print(i)\n",
    "        i += 1\n",
    "else:\n",
    "    print(\"Wrong input\")"
   ]
  },
  {
   "cell_type": "code",
   "execution_count": 5,
   "id": "6e54d78d-6859-49e4-94b7-24f9e554dd0e",
   "metadata": {},
   "outputs": [
    {
     "name": "stdin",
     "output_type": "stream",
     "text": [
      "input highest number:  10\n"
     ]
    },
    {
     "name": "stdout",
     "output_type": "stream",
     "text": [
      "The sum is 55\n"
     ]
    }
   ],
   "source": [
    "# printing sum from 1 to 10.\n",
    "r = int(input(\"input highest number: \"))\n",
    "i = 1\n",
    "sum1 = 0\n",
    "if r >= 1:\n",
    "    while i <= r:\n",
    "        sum1 = sum1 + i\n",
    "        i += 1\n",
    "    print(f\"The sum is {sum1}\")\n",
    "else:\n",
    "    print(\"Wrong input\")"
   ]
  },
  {
   "cell_type": "code",
   "execution_count": 9,
   "id": "f5485c7c-c560-46f6-b7a7-efc3fd27234c",
   "metadata": {},
   "outputs": [
    {
     "name": "stdin",
     "output_type": "stream",
     "text": [
      "input the number:  5\n"
     ]
    },
    {
     "name": "stdout",
     "output_type": "stream",
     "text": [
      "Factorial of 5 is 120\n"
     ]
    }
   ],
   "source": [
    "# factorial of a number by for loop.\n",
    "n = int(input(\"input the number: \"))\n",
    "fact = 1\n",
    "if n < 0:\n",
    "    print(\"Invalid input.\")\n",
    "elif n == 0:\n",
    "    print(1)\n",
    "else:\n",
    "    for i in range(1,n+1):\n",
    "        fact = fact * i\n",
    "    print(f\"Factorial of {n} is {fact}\")"
   ]
  },
  {
   "cell_type": "code",
   "execution_count": 13,
   "id": "f7f8eea6-807a-47d6-9e1f-7b96e7bb0b29",
   "metadata": {},
   "outputs": [
    {
     "name": "stdin",
     "output_type": "stream",
     "text": [
      "Get a string:  GOOD MORNING WORLD\n"
     ]
    },
    {
     "name": "stdout",
     "output_type": "stream",
     "text": [
      "No. of vowels is 5\n"
     ]
    }
   ],
   "source": [
    "# Counting number of vowels in a string.\n",
    "vowel_list = ['a', 'e', 'i', 'o', 'u']\n",
    "my_str = input(\"Get a string: \")\n",
    "my_str = my_str.lower()\n",
    "count = 0\n",
    "for i in my_str:\n",
    "    for j in vowel_list:\n",
    "        if i == j:\n",
    "            count += 1\n",
    "        else:\n",
    "            continue\n",
    "print(f\"No. of vowels is {count}\")"
   ]
  },
  {
   "cell_type": "code",
   "execution_count": 15,
   "id": "ce15eff5-2b0d-4777-94df-fa1039d8e4a7",
   "metadata": {},
   "outputs": [
    {
     "name": "stdin",
     "output_type": "stream",
     "text": [
      "numbr of columns to print 5\n"
     ]
    },
    {
     "name": "stdout",
     "output_type": "stream",
     "text": [
      "     * \n",
      "    * * \n",
      "   * * * \n",
      "  * * * * \n",
      " * * * * * \n"
     ]
    }
   ],
   "source": [
    "# star triangle structure.\n",
    "n = int(input(\"numbr of columns to print: \"))\n",
    "for i in range(1, n+1):\n",
    "    for k in range(n-i+1):\n",
    "        print(end = \" \")\n",
    "    for j in range(i):\n",
    "        print(\"*\",end = \" \")\n",
    "    print()"
   ]
  },
  {
   "cell_type": "code",
   "execution_count": 17,
   "id": "9d529c98-88e5-4fa5-90ee-37472f99ed6f",
   "metadata": {},
   "outputs": [
    {
     "name": "stdin",
     "output_type": "stream",
     "text": [
      "input number to create table of:  12\n",
      "input range:  10\n"
     ]
    },
    {
     "name": "stdout",
     "output_type": "stream",
     "text": [
      "12 x 1 = 12\n",
      "12 x 2 = 24\n",
      "12 x 3 = 36\n",
      "12 x 4 = 48\n",
      "12 x 5 = 60\n",
      "12 x 6 = 72\n",
      "12 x 7 = 84\n",
      "12 x 8 = 96\n",
      "12 x 9 = 108\n",
      "12 x 10 = 120\n"
     ]
    }
   ],
   "source": [
    "# multiplication table using nested loop.\n",
    "num = int(input(\"input number to create table of: \"))\n",
    "r = int(input(\"input range: \"))\n",
    "if r >= 1:\n",
    "    for r in range(1, r+1):\n",
    "        print(f\"{num} x {r} = {num * r}\")\n",
    "else:\n",
    "    print(\"table cannot be generated.\")"
   ]
  },
  {
   "cell_type": "code",
   "execution_count": null,
   "id": "3cc17329-e240-4c8c-9102-4e3f2b3093a5",
   "metadata": {},
   "outputs": [],
   "source": []
  }
 ],
 "metadata": {
  "kernelspec": {
   "display_name": "Python 3 (ipykernel)",
   "language": "python",
   "name": "python3"
  },
  "language_info": {
   "codemirror_mode": {
    "name": "ipython",
    "version": 3
   },
   "file_extension": ".py",
   "mimetype": "text/x-python",
   "name": "python",
   "nbconvert_exporter": "python",
   "pygments_lexer": "ipython3",
   "version": "3.10.8"
  }
 },
 "nbformat": 4,
 "nbformat_minor": 5
}
