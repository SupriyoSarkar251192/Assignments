{
 "cells": [
  {
   "cell_type": "code",
   "execution_count": 2,
   "metadata": {},
   "outputs": [
    {
     "name": "stdout",
     "output_type": "stream",
     "text": [
      "pwskills\n",
      "8\n"
     ]
    }
   ],
   "source": [
    "\"\"\"\n",
    "1. What is the purpose of the len() function in Python, and how can it be used with strings?\n",
    "\n",
    "Ans: The len() function in Python is a built-in function that returns the length of an object. It can be used with a \n",
    "variety of objects, including strings, lists, tuples, dictionaries, and sets. When used with a string, the len() function \n",
    "returns the number of characters in the string.\n",
    "The following example shows the use of len():\n",
    "\"\"\"\n",
    "my_str = input(\"input string: \")\n",
    "print(my_str)\n",
    "print(len(my_str))"
   ]
  },
  {
   "cell_type": "code",
   "execution_count": 7,
   "metadata": {},
   "outputs": [
    {
     "name": "stdout",
     "output_type": "stream",
     "text": [
      "Example 1:Hallo my friends\n",
      "Example 2:Myself Supriyo Sarkar\n"
     ]
    }
   ],
   "source": [
    "\"\"\"\n",
    "2. How can you concatenate two or more strings in Python, and can you provide an example of string\n",
    "concatenation?\n",
    "\n",
    "Ans: The simplest way to concatenate, or join, strings in Python is by using the '+' operator. The syntax is\n",
    "str3 = str1 + ' ' + str2.\n",
    "Example:\n",
    "\"\"\"\n",
    "str1 = \"Hallo\"\n",
    "str2 = \"my\"\n",
    "str3 = \"friends\"\n",
    "print(\"Example 1:\"+str1 + ' '+str2+' '+str3)\n",
    "\n",
    "\"\"\"\n",
    "The .join() method is more efficient than the '+' operator when concatenating a large number of strings. However, \n",
    "like the '+' operator, it can only concatenate strings, not other data types. If your list contains non-string elements,\n",
    "you'll need to convert them to strings before using the .join() method.\n",
    "Example:\n",
    "\"\"\"\n",
    "str_list = ['Myself', 'Supriyo', 'Sarkar']\n",
    "f_str = ' '.join(str_list)\n",
    "print(\"Example 2:\"+f_str)"
   ]
  },
  {
   "cell_type": "code",
   "execution_count": 2,
   "metadata": {},
   "outputs": [
    {
     "name": "stdout",
     "output_type": "stream",
     "text": [
      "Welcom\n",
      "to my wo\n",
      "Wloet ywrdo yhn.\n",
      "hons.\n",
      ".snohtyP fo dlrow ym ot emocleW\n"
     ]
    }
   ],
   "source": [
    "\"\"\"\n",
    "3. What is string slicing in Python, and how can you extract a portion of a string using this method?\n",
    "\n",
    "Ans: String slicing in Python refers to the process of extracting a portion (substring) of a string by specifying \n",
    "the start and end indices. It allows you to work with substrings within a larger string, making it easier to \n",
    "manipulate and analyze text data.\n",
    "Syntax: string[start:end:step].\n",
    "Example:\n",
    "\"\"\"\n",
    "my_str = \"Welcome to my world of Pythons.\"\n",
    "print(my_str[:6])\n",
    "print(my_str[8:16])\n",
    "print(my_str[::2])\n",
    "print(my_str[-5:])\n",
    "print(my_str[::-1])"
   ]
  },
  {
   "cell_type": "code",
   "execution_count": 10,
   "metadata": {},
   "outputs": [
    {
     "name": "stdout",
     "output_type": "stream",
     "text": [
      "my name is supriyo sarkar\n",
      "MY NAME IS SUPRIYO SARKAR\n",
      "My Name Is Supriyo Sarkar\n",
      "My name is supriyo sarkar\n",
      "MY NAME IS sUPRIYO sARKAR\n"
     ]
    }
   ],
   "source": [
    "\"\"\"\n",
    "4. How can you change the case of a string in Python, and can you provide examples of both making a string\n",
    "all uppercase and all lowercase?\n",
    "\n",
    "Ans: The upper() method on a string converts all of the characters to uppercase.\n",
    "The lower() method converts all of the characters to lowercase. \n",
    "The title() method converts the first letter of each word of the string to uppercase.\n",
    "The capitalize() method converts the first letter of the starting word of the string to uppercase.\n",
    "The swapcase() method returns the string by converting all the characters to their opposite letter case\n",
    "(uppercase to lowercase and vice versa).\n",
    "Example:\n",
    "\"\"\"\n",
    "mystr = \"my name is Supriyo Sarkar\"\n",
    "print(mystr.lower())\n",
    "print(mystr.upper())\n",
    "print(mystr.title())\n",
    "print(mystr.capitalize())\n",
    "print(mystr.swapcase())\n"
   ]
  },
  {
   "cell_type": "code",
   "execution_count": 1,
   "metadata": {},
   "outputs": [
    {
     "name": "stdout",
     "output_type": "stream",
     "text": [
      "['Welcome', 'my', 'friends']\n"
     ]
    }
   ],
   "source": [
    "\"\"\"\n",
    "5. What does the split() method do in Python, and how can you split a string using a specific delimiter?\n",
    "\n",
    "Ans: The split() method in Python is a string method that splits a string into a list of strings, where each string \n",
    "in the list is a substring of the original string. The split() method takes one argument, which is the delimiter. \n",
    "The delimiter is a character or string that is used to separate the substrings in the original string.\n",
    "Example:\n",
    "\"\"\"\n",
    "str1 = \"Welcome my friends\"\n",
    "print(str1.split())"
   ]
  }
 ],
 "metadata": {
  "kernelspec": {
   "display_name": "Python 3",
   "language": "python",
   "name": "python3"
  },
  "language_info": {
   "codemirror_mode": {
    "name": "ipython",
    "version": 3
   },
   "file_extension": ".py",
   "mimetype": "text/x-python",
   "name": "python",
   "nbconvert_exporter": "python",
   "pygments_lexer": "ipython3",
   "version": "3.11.8"
  }
 },
 "nbformat": 4,
 "nbformat_minor": 2
}
