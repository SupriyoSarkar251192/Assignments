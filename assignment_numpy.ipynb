{
 "cells": [
  {
   "cell_type": "code",
   "execution_count": 15,
   "metadata": {},
   "outputs": [],
   "source": [
    "import numpy as np"
   ]
  },
  {
   "cell_type": "code",
   "execution_count": 16,
   "metadata": {},
   "outputs": [
    {
     "data": {
      "text/plain": [
       "numpy.ndarray"
      ]
     },
     "execution_count": 16,
     "metadata": {},
     "output_type": "execute_result"
    }
   ],
   "source": [
    "# 1. Create a NumPy array 'arr' of integers from 0 to 5 and print its data type.\n",
    "arr = np.array([i for i in range(6)])\n",
    "type(arr)"
   ]
  },
  {
   "cell_type": "code",
   "execution_count": 17,
   "metadata": {},
   "outputs": [
    {
     "name": "stdout",
     "output_type": "stream",
     "text": [
      "<class 'numpy.ndarray'>\n",
      "float64\n"
     ]
    }
   ],
   "source": [
    "# 2. Given a NumPy array 'arr', check if its data type is float64.  arr = np.array([1.5, 2.6, 3.7])\n",
    "arr = np.array([1.5, 2.6, 3.7])\n",
    "print(type(arr))\n",
    "print(arr.dtype)"
   ]
  },
  {
   "cell_type": "code",
   "execution_count": 18,
   "metadata": {},
   "outputs": [
    {
     "data": {
      "text/plain": [
       "array([4.+5.j, 3.+8.j, 7.+9.j])"
      ]
     },
     "execution_count": 18,
     "metadata": {},
     "output_type": "execute_result"
    }
   ],
   "source": [
    "# 3. Create a NumPy array 'arr' with a data type of complex128 containing three complex numbers.\n",
    "re = [4,3,7]\n",
    "im = [5,8,9]\n",
    "arr = np.array([complex(i,j) for i,j in zip(re,im)])\n",
    "arr"
   ]
  },
  {
   "cell_type": "code",
   "execution_count": 19,
   "metadata": {},
   "outputs": [
    {
     "name": "stdout",
     "output_type": "stream",
     "text": [
      "int32\n",
      "float32\n"
     ]
    }
   ],
   "source": [
    "# 4. Convert an existing NumPy array 'arr' of integers to float32 data type.\n",
    "arr = np.array([4,8,10,14])\n",
    "print(arr.dtype)\n",
    "arr = arr.astype(np.float32)\n",
    "print(arr.dtype)"
   ]
  },
  {
   "cell_type": "code",
   "execution_count": 20,
   "metadata": {},
   "outputs": [
    {
     "name": "stdout",
     "output_type": "stream",
     "text": [
      "float64\n"
     ]
    },
    {
     "data": {
      "text/plain": [
       "array([12.854973, 29.458124,  8.956471], dtype=float32)"
      ]
     },
     "execution_count": 20,
     "metadata": {},
     "output_type": "execute_result"
    }
   ],
   "source": [
    "# 5. Given a NumPy array 'arr' with float64 data type, convert it to float32 to reduce decimal precision.\n",
    "arr = np.array([12.8549732,29.4581236,8.9564712])\n",
    "print(arr.dtype)\n",
    "arr = arr.astype(np.float32)\n",
    "arr"
   ]
  },
  {
   "cell_type": "code",
   "execution_count": 21,
   "metadata": {},
   "outputs": [
    {
     "name": "stdout",
     "output_type": "stream",
     "text": [
      "Shape of the array: (4, 3)\n",
      "Size of the array: 12\n",
      "Data type of the array: int32\n"
     ]
    }
   ],
   "source": [
    "# 6. Write a function array_attributes that takes a NumPy array as input and returns its shape, size, and data type.\n",
    "def array_attributes(arr):\n",
    "    print(f\"Shape of the array: {arr.shape}\")\n",
    "    print(f\"Size of the array: {np.size(arr)}\")\n",
    "    print(f\"Data type of the array: {arr.dtype}\")\n",
    "arr1 = np.array([\n",
    "    [4,6,9],\n",
    "    [10,2,9],\n",
    "    [18,7,21],\n",
    "    [6,25,19]\n",
    "])\n",
    "array_attributes(arr1)"
   ]
  },
  {
   "cell_type": "code",
   "execution_count": 22,
   "metadata": {},
   "outputs": [
    {
     "name": "stdout",
     "output_type": "stream",
     "text": [
      "Dimention of the array: 2\n"
     ]
    }
   ],
   "source": [
    "# 7. Create a function array_dimension that takes a NumPy array as input and returns its dimensionality.\n",
    "def array_dimension(arr):\n",
    "    print(f\"Dimention of the array: {arr.ndim}\")\n",
    "arr1 = np.array([[2, 4], [3,5], [8,9]])\n",
    "array_dimension(arr1)"
   ]
  },
  {
   "cell_type": "code",
   "execution_count": 23,
   "metadata": {},
   "outputs": [
    {
     "name": "stdout",
     "output_type": "stream",
     "text": [
      "Item size: 4\n",
      "Total size: 36\n"
     ]
    }
   ],
   "source": [
    "# 8. Design a function item_size_info that takes a NumPy array as input and returns the item size and the total size in bytes.\n",
    "def item_size_info(arr):\n",
    "    print(f\"Item size: {arr.itemsize}\")\n",
    "    print(f\"Total size: {arr.nbytes}\")\n",
    "arr1 = np.array([[3,2,7],[8,4,6],[5,1,9]])\n",
    "item_size_info(arr1)"
   ]
  },
  {
   "cell_type": "code",
   "execution_count": 24,
   "metadata": {},
   "outputs": [
    {
     "name": "stdout",
     "output_type": "stream",
     "text": [
      "Strides of the array: (16, 4)\n"
     ]
    }
   ],
   "source": [
    "# 9. Create a function array_strides that takes a NumPy array as input and returns the strides of the array.\n",
    "def array_strides(arr):\n",
    "    print(f\"Strides of the array: {arr.strides}\")\n",
    "arr1 = np.array([[15,21,38,47],[32,48,13,29],[34,27,43,16]])\n",
    "array_strides(arr1)"
   ]
  },
  {
   "cell_type": "code",
   "execution_count": 25,
   "metadata": {},
   "outputs": [
    {
     "name": "stdout",
     "output_type": "stream",
     "text": [
      "(4, 3) 4 (12, 4)\n",
      "Relation established.\n"
     ]
    }
   ],
   "source": [
    "# 10. Design a function shape_stride_relationship that takes a NumPy array as input and returns the shape and strides of the array.\n",
    "def shape_stride_relationship(arr):\n",
    "    arr_shape = arr.shape\n",
    "    arr_itemsize = arr.itemsize\n",
    "    arr_strides = arr.strides \n",
    "    print(arr_shape, arr_itemsize, arr_strides)  \n",
    "    if arr_strides[0] == arr_shape[1] * arr_itemsize:\n",
    "        print(\"Relation established.\")\n",
    "    else:\n",
    "        print(\"Relation not established.\")\n",
    "arr1 = arr1 = np.array([\n",
    "    [4,6,9],\n",
    "    [10,2,9],\n",
    "    [18,7,21],\n",
    "    [6,25,19]\n",
    "])\n",
    "shape_stride_relationship(arr1)\n"
   ]
  },
  {
   "cell_type": "code",
   "execution_count": 26,
   "metadata": {},
   "outputs": [
    {
     "data": {
      "text/plain": [
       "array([0., 0., 0., 0., 0.])"
      ]
     },
     "execution_count": 26,
     "metadata": {},
     "output_type": "execute_result"
    }
   ],
   "source": [
    "# 11. Create a function `create_zeros_array` that takes an integer `n` as input and returns a NumPy array of zeros with `n` elements.\n",
    "def create_zeros_array(n):\n",
    "    return np.zeros(n)\n",
    "create_zeros_array(5)"
   ]
  },
  {
   "cell_type": "code",
   "execution_count": 27,
   "metadata": {},
   "outputs": [
    {
     "data": {
      "text/plain": [
       "array([[1., 1., 1.],\n",
       "       [1., 1., 1.],\n",
       "       [1., 1., 1.],\n",
       "       [1., 1., 1.]])"
      ]
     },
     "execution_count": 27,
     "metadata": {},
     "output_type": "execute_result"
    }
   ],
   "source": [
    "# 12. Write a function `create_ones_matrix` that takes integers `rows` and `cols` as inputs and generates a 2D NumPy array filled with ones of size `rows x cols`.\n",
    "def create_ones_matrix(m,n):\n",
    "    return np.ones([m,n])\n",
    "row = int(input())\n",
    "col = int(input())\n",
    "create_ones_matrix(row, col)"
   ]
  },
  {
   "cell_type": "code",
   "execution_count": 28,
   "metadata": {},
   "outputs": [
    {
     "data": {
      "text/plain": [
       "array([3])"
      ]
     },
     "execution_count": 28,
     "metadata": {},
     "output_type": "execute_result"
    }
   ],
   "source": [
    "\"\"\"\n",
    "13. Write a function `generate_range_array` that takes three integers start, stop, and step as arguments and\n",
    "creates a NumPy array with a range starting from `start`, ending at stop (exclusive), and with the specified\n",
    "`step`.\n",
    "\"\"\"\n",
    "def generate_range_array(st, en, s):\n",
    "    return np.array([i for i in range(st,en,s)])\n",
    "start = int(input())\n",
    "end = int(input())\n",
    "step = int(input())\n",
    "generate_range_array(start, end, step)"
   ]
  },
  {
   "cell_type": "code",
   "execution_count": 29,
   "metadata": {},
   "outputs": [
    {
     "data": {
      "text/plain": [
       "array([5., 6., 7.])"
      ]
     },
     "execution_count": 29,
     "metadata": {},
     "output_type": "execute_result"
    }
   ],
   "source": [
    "\"\"\"\n",
    "14. Design a function `generate_linear_space` that takes two floats `start`, `stop`, and an integer `num` as\n",
    "arguments and generates a NumPy array with num equally spaced values between `start` and `stop`(inclusive).\n",
    "\"\"\"\n",
    "def generate_linear_space(st, sp, n):\n",
    "    return np.linspace(st, sp, n)\n",
    "start = float(input())\n",
    "stop = float(input())\n",
    "num = int(input())\n",
    "generate_linear_space(start, stop, num)"
   ]
  },
  {
   "cell_type": "code",
   "execution_count": 30,
   "metadata": {},
   "outputs": [
    {
     "data": {
      "text/plain": [
       "array([[1., 0., 0., 0., 0., 0.],\n",
       "       [0., 1., 0., 0., 0., 0.],\n",
       "       [0., 0., 1., 0., 0., 0.],\n",
       "       [0., 0., 0., 1., 0., 0.],\n",
       "       [0., 0., 0., 0., 1., 0.],\n",
       "       [0., 0., 0., 0., 0., 1.]])"
      ]
     },
     "execution_count": 30,
     "metadata": {},
     "output_type": "execute_result"
    }
   ],
   "source": [
    "\"\"\"\n",
    "15. Create a function `create_identity_matrix` that takes an integer `n` as input and generates a square\n",
    "identity matrix of size `n x n` using `numpy.eye`.\n",
    "\"\"\"\n",
    "def create_identity_matrix(n):\n",
    "    return np.eye(n)\n",
    "dim = int(input())\n",
    "create_identity_matrix(dim)"
   ]
  },
  {
   "cell_type": "code",
   "execution_count": 31,
   "metadata": {},
   "outputs": [
    {
     "data": {
      "text/plain": [
       "array([5., 4., 2., 1., 7., 5., 2., 5., 5.])"
      ]
     },
     "execution_count": 31,
     "metadata": {},
     "output_type": "execute_result"
    }
   ],
   "source": [
    "# 16. Write a function that takes a Python list and converts it into a NumPy array.\n",
    "\n",
    "def create_list(n):\n",
    "    l0 = []\n",
    "    for i in range(n):\n",
    "        n1 = input(\"enter value: \")\n",
    "        l0.append(float(n1))\n",
    "    return l0\n",
    "n = int(input(\"insert no of elements of the list: \"))\n",
    "list0 = create_list(n)\n",
    "np.array(list0)\n"
   ]
  },
  {
   "cell_type": "code",
   "execution_count": 32,
   "metadata": {},
   "outputs": [
    {
     "name": "stdout",
     "output_type": "stream",
     "text": [
      "[ 4 10 18 16  5]\n"
     ]
    }
   ],
   "source": [
    "\"\"\"\n",
    "17. Create a NumPy array and demonstrate the use of `numpy.view` to create a new array object with the\n",
    "same data.\n",
    "\"\"\"\n",
    "arr = np.array([4,10,8,16,5])\n",
    "arr1 = arr.view()\n",
    "arr1[2]=18\n",
    "print(arr)"
   ]
  },
  {
   "cell_type": "code",
   "execution_count": 33,
   "metadata": {},
   "outputs": [
    {
     "name": "stdout",
     "output_type": "stream",
     "text": [
      "Concatination: [ 4 -2  6  8  1  7  6 -9]\n"
     ]
    }
   ],
   "source": [
    "# 18. Write a function that takes two NumPy arrays and concatenates them along a specified axis.\n",
    "def array_concatinatination(a1,a2):\n",
    "    print(f\"Concatination: {np.concatenate((a1,a2))}\")\n",
    "arr1 = np.array([4,-2,6,8])\n",
    "arr2 = np.array([1,7,6,-9])\n",
    "array_concatinatination(arr1,arr2)\n"
   ]
  },
  {
   "cell_type": "code",
   "execution_count": 34,
   "metadata": {},
   "outputs": [
    {
     "data": {
      "text/plain": [
       "array([ 4, -2,  6,  8,  1,  7,  6, -9,  2, -1])"
      ]
     },
     "execution_count": 34,
     "metadata": {},
     "output_type": "execute_result"
    }
   ],
   "source": [
    "# 19. Create two NumPy arrays with different shapes and concatenate them horizontally using `numpy.concatenate`.\n",
    "arr1 = np.array([4,-2,6,8])\n",
    "arr2 = np.array([1,7,6,-9,2,-1])\n",
    "np.concatenate((arr1,arr2))\n"
   ]
  },
  {
   "cell_type": "code",
   "execution_count": 35,
   "metadata": {},
   "outputs": [
    {
     "name": "stdout",
     "output_type": "stream",
     "text": [
      "[[18  7 21]\n",
      " [ 6 25 19]\n",
      " [ 4  6  9]\n",
      " [10  2  9]]\n"
     ]
    }
   ],
   "source": [
    "# 20. Write a function that vertically stacks multiple NumPy arrays given as a list.\n",
    "\n",
    "def v_stack(l_a):\n",
    "    return np.vstack((l_a))\n",
    "arr_list = np.array([[18,7,21],[6,25,19], [4,6,9],[10,2,9]])\n",
    "print(v_stack(arr_list))\n",
    "\n"
   ]
  },
  {
   "cell_type": "code",
   "execution_count": 36,
   "metadata": {},
   "outputs": [
    {
     "data": {
      "text/plain": [
       "array([[5, 5, 4],\n",
       "       [2, 7, 3]])"
      ]
     },
     "execution_count": 36,
     "metadata": {},
     "output_type": "execute_result"
    }
   ],
   "source": [
    "# 21. Write a Python function using NumPy to create an array of integers within a specified range (inclusive) with a given step size.\n",
    "\n",
    "arr = np.random.randint(2,10,(2,3))\n",
    "arr"
   ]
  },
  {
   "cell_type": "code",
   "execution_count": 37,
   "metadata": {},
   "outputs": [
    {
     "data": {
      "text/plain": [
       "array([0.        , 0.11111111, 0.22222222, 0.33333333, 0.44444444,\n",
       "       0.55555556, 0.66666667, 0.77777778, 0.88888889, 1.        ])"
      ]
     },
     "execution_count": 37,
     "metadata": {},
     "output_type": "execute_result"
    }
   ],
   "source": [
    "# 22. Write a Python function using NumPy to generate an array of 10 equally spaced values between 0 and 1 (inclusive).\n",
    "\n",
    "arr = np.linspace(0,1,10)\n",
    "arr"
   ]
  },
  {
   "cell_type": "code",
   "execution_count": 38,
   "metadata": {},
   "outputs": [
    {
     "name": "stderr",
     "output_type": "stream",
     "text": [
      "C:\\Users\\supri\\AppData\\Roaming\\Python\\Python312\\site-packages\\numpy\\core\\function_base.py:298: RuntimeWarning: overflow encountered in power\n",
      "  return _nx.power(base, y)\n"
     ]
    },
    {
     "data": {
      "text/plain": [
       "array([1.00000000e+001, 5.62341325e+250,             inf,             inf,\n",
       "                   inf])"
      ]
     },
     "execution_count": 38,
     "metadata": {},
     "output_type": "execute_result"
    }
   ],
   "source": [
    "# 23. Write a Python function using NumPy to create an array of 5 logarithmically spaced values between 1 and 1000 (inclusive).\n",
    "\n",
    "arr = np.logspace(1,1000,5,base=10)\n",
    "arr"
   ]
  },
  {
   "cell_type": "code",
   "execution_count": 39,
   "metadata": {},
   "outputs": [
    {
     "data": {
      "text/html": [
       "<div>\n",
       "<style scoped>\n",
       "    .dataframe tbody tr th:only-of-type {\n",
       "        vertical-align: middle;\n",
       "    }\n",
       "\n",
       "    .dataframe tbody tr th {\n",
       "        vertical-align: top;\n",
       "    }\n",
       "\n",
       "    .dataframe thead th {\n",
       "        text-align: right;\n",
       "    }\n",
       "</style>\n",
       "<table border=\"1\" class=\"dataframe\">\n",
       "  <thead>\n",
       "    <tr style=\"text-align: right;\">\n",
       "      <th></th>\n",
       "      <th>A</th>\n",
       "      <th>B</th>\n",
       "      <th>C</th>\n",
       "    </tr>\n",
       "  </thead>\n",
       "  <tbody>\n",
       "    <tr>\n",
       "      <th>0</th>\n",
       "      <td>91</td>\n",
       "      <td>58</td>\n",
       "      <td>84</td>\n",
       "    </tr>\n",
       "    <tr>\n",
       "      <th>1</th>\n",
       "      <td>67</td>\n",
       "      <td>21</td>\n",
       "      <td>8</td>\n",
       "    </tr>\n",
       "    <tr>\n",
       "      <th>2</th>\n",
       "      <td>72</td>\n",
       "      <td>62</td>\n",
       "      <td>42</td>\n",
       "    </tr>\n",
       "    <tr>\n",
       "      <th>3</th>\n",
       "      <td>92</td>\n",
       "      <td>2</td>\n",
       "      <td>74</td>\n",
       "    </tr>\n",
       "    <tr>\n",
       "      <th>4</th>\n",
       "      <td>88</td>\n",
       "      <td>58</td>\n",
       "      <td>80</td>\n",
       "    </tr>\n",
       "  </tbody>\n",
       "</table>\n",
       "</div>"
      ],
      "text/plain": [
       "    A   B   C\n",
       "0  91  58  84\n",
       "1  67  21   8\n",
       "2  72  62  42\n",
       "3  92   2  74\n",
       "4  88  58  80"
      ]
     },
     "execution_count": 39,
     "metadata": {},
     "output_type": "execute_result"
    }
   ],
   "source": [
    "# 24. Create a Pandas DataFrame using a NumPy array that contains 5 rows and 3 columns, where the values are random integers between 1 and 100.\n",
    "import pandas as pd\n",
    "arr = np.random.randint(1,100,(5,3))\n",
    "df = pd.DataFrame(data=arr,columns=['A','B','C'])\n",
    "df\n"
   ]
  },
  {
   "cell_type": "code",
   "execution_count": 41,
   "metadata": {},
   "outputs": [
    {
     "data": {
      "text/html": [
       "<div>\n",
       "<style scoped>\n",
       "    .dataframe tbody tr th:only-of-type {\n",
       "        vertical-align: middle;\n",
       "    }\n",
       "\n",
       "    .dataframe tbody tr th {\n",
       "        vertical-align: top;\n",
       "    }\n",
       "\n",
       "    .dataframe thead th {\n",
       "        text-align: right;\n",
       "    }\n",
       "</style>\n",
       "<table border=\"1\" class=\"dataframe\">\n",
       "  <thead>\n",
       "    <tr style=\"text-align: right;\">\n",
       "      <th></th>\n",
       "      <th>0</th>\n",
       "      <th>1</th>\n",
       "      <th>2</th>\n",
       "      <th>3</th>\n",
       "    </tr>\n",
       "  </thead>\n",
       "  <tbody>\n",
       "    <tr>\n",
       "      <th>0</th>\n",
       "      <td>-4</td>\n",
       "      <td>3</td>\n",
       "      <td>-5</td>\n",
       "      <td>7</td>\n",
       "    </tr>\n",
       "    <tr>\n",
       "      <th>1</th>\n",
       "      <td>-5</td>\n",
       "      <td>-5</td>\n",
       "      <td>9</td>\n",
       "      <td>6</td>\n",
       "    </tr>\n",
       "    <tr>\n",
       "      <th>2</th>\n",
       "      <td>-8</td>\n",
       "      <td>-6</td>\n",
       "      <td>9</td>\n",
       "      <td>0</td>\n",
       "    </tr>\n",
       "    <tr>\n",
       "      <th>3</th>\n",
       "      <td>3</td>\n",
       "      <td>-10</td>\n",
       "      <td>-4</td>\n",
       "      <td>4</td>\n",
       "    </tr>\n",
       "    <tr>\n",
       "      <th>4</th>\n",
       "      <td>-5</td>\n",
       "      <td>-5</td>\n",
       "      <td>-7</td>\n",
       "      <td>6</td>\n",
       "    </tr>\n",
       "    <tr>\n",
       "      <th>5</th>\n",
       "      <td>-5</td>\n",
       "      <td>-8</td>\n",
       "      <td>-7</td>\n",
       "      <td>9</td>\n",
       "    </tr>\n",
       "  </tbody>\n",
       "</table>\n",
       "</div>"
      ],
      "text/plain": [
       "   0   1  2  3\n",
       "0 -4   3 -5  7\n",
       "1 -5  -5  9  6\n",
       "2 -8  -6  9  0\n",
       "3  3 -10 -4  4\n",
       "4 -5  -5 -7  6\n",
       "5 -5  -8 -7  9"
      ]
     },
     "execution_count": 41,
     "metadata": {},
     "output_type": "execute_result"
    }
   ],
   "source": [
    "# 25. Write a function that takes a Pandas DataFrame and replaces all negative values in a specific column with zeros. Use NumPy operations within the Pandas DataFrame.\n",
    "\n",
    "def neg_zero(df):\n",
    "    arr = np.array(df.T)\n",
    "    n = int(input())\n",
    "    arr[n][arr[n] < 0] = 0\n",
    "    return pd.DataFrame(arr).T\n",
    "df1 = pd.DataFrame(np.random.randint(-10,10,(6,4)))\n",
    "neg_zero(df1)"
   ]
  },
  {
   "cell_type": "code",
   "execution_count": null,
   "metadata": {},
   "outputs": [
    {
     "data": {
      "text/plain": [
       "30"
      ]
     },
     "execution_count": 24,
     "metadata": {},
     "output_type": "execute_result"
    }
   ],
   "source": [
    "\"\"\"26. Access the 3rd element from the given NumPy array.\n",
    "        arr = np.array([10, 20, 30, 40, 50])\n",
    "\n",
    "\"\"\"\n",
    "arr = np.array([10, 20, 30, 40, 50])\n",
    "arr[2]"
   ]
  },
  {
   "cell_type": "code",
   "execution_count": null,
   "metadata": {},
   "outputs": [
    {
     "data": {
      "text/plain": [
       "6"
      ]
     },
     "execution_count": 25,
     "metadata": {},
     "output_type": "execute_result"
    }
   ],
   "source": [
    "\"\"\"\n",
    "27. Retrieve the element at index (1, 2) from the 2D NumPy array.\n",
    "        arr_2d = np.array([[1, 2, 3],\n",
    "                           [4, 5, 6],\n",
    "                           [7, 8, 9]])\n",
    "\"\"\"\n",
    "arr_2d = np.array([[1, 2, 3],\n",
    "                   [4, 5, 6],\n",
    "                   [7, 8, 9]])\n",
    "arr_2d[1][2]"
   ]
  },
  {
   "cell_type": "code",
   "execution_count": null,
   "metadata": {},
   "outputs": [
    {
     "data": {
      "text/plain": [
       "array([ 8, 10,  7])"
      ]
     },
     "execution_count": 26,
     "metadata": {},
     "output_type": "execute_result"
    }
   ],
   "source": [
    "\"\"\"28. Using boolean indexing, extract elements greater than 5 from the given NumPy array.\n",
    "        arr = np.array([3, 8, 2, 10, 5, 7])\n",
    "\n",
    "\"\"\"\n",
    "arr = np.array([3, 8, 2, 10, 5, 7])\n",
    "bool_filter = arr > 5\n",
    "arr[bool_filter]"
   ]
  },
  {
   "cell_type": "code",
   "execution_count": null,
   "metadata": {},
   "outputs": [
    {
     "data": {
      "text/plain": [
       "array([3, 4, 5, 6])"
      ]
     },
     "execution_count": 29,
     "metadata": {},
     "output_type": "execute_result"
    }
   ],
   "source": [
    "\"\"\"29. Perform basic slicing to extract elements from index 2 to 5 (inclusive) from the given NumPy array.\n",
    "        arr = np.array([1, 2, 3, 4, 5, 6, 7, 8, 9])\n",
    "\"\"\"\n",
    "arr = np.array([1, 2, 3, 4, 5, 6, 7, 8, 9])\n",
    "arr[2:6]"
   ]
  },
  {
   "cell_type": "code",
   "execution_count": null,
   "metadata": {},
   "outputs": [
    {
     "data": {
      "text/plain": [
       "array([[2, 3],\n",
       "       [5, 6]])"
      ]
     },
     "execution_count": 32,
     "metadata": {},
     "output_type": "execute_result"
    }
   ],
   "source": [
    "\"\"\"30. Slice the 2D NumPy array to extract the sub-array `[[2, 3], [5, 6]]` from the given array.\n",
    "\n",
    "        arr_2d = np.array([[1, 2, 3],\n",
    "                          [4, 5, 6],\n",
    "                          [7, 8, 9]])\"\"\"\n",
    "arr_2d = np.array([[1, 2, 3],\n",
    "                   [4, 5, 6],\n",
    "                   [7, 8, 9]])\n",
    "arr_2d[0:2, 1:3]"
   ]
  },
  {
   "cell_type": "code",
   "execution_count": null,
   "metadata": {},
   "outputs": [
    {
     "data": {
      "text/plain": [
       "array([ 7,  5, -9])"
      ]
     },
     "execution_count": 37,
     "metadata": {},
     "output_type": "execute_result"
    }
   ],
   "source": [
    "\"\"\"\n",
    "31.Write a NumPy function to extract elements in specific order from a given 2D array based on indices\n",
    "provided in another array.\n",
    "\"\"\"\n",
    "def extract_ele(a1, a2):\n",
    "    a1_f = a1.flatten()\n",
    "    return a1_f[a2]\n",
    "arr1 = np.array([[3,7,-2,5],[8,-4,-9,6]])\n",
    "arr2 = np.array([1,3,6])\n",
    "extract_ele(arr1,arr2)\n",
    "    "
   ]
  },
  {
   "cell_type": "code",
   "execution_count": null,
   "metadata": {},
   "outputs": [
    {
     "name": "stdout",
     "output_type": "stream",
     "text": [
      "[[6 4 6 6 9 1]]\n",
      "[9]\n"
     ]
    }
   ],
   "source": [
    "# 32. Create a NumPy function that filters elements greater than a threshold from a given 1D array using boolean indexing.\n",
    "def filter_threshold(a):\n",
    "    threshold = int(input())\n",
    "    return a[a > threshold]\n",
    "arr = np.random.randint(1,10,(1,6))\n",
    "print(arr)\n",
    "print(filter_threshold(arr))"
   ]
  },
  {
   "cell_type": "code",
   "execution_count": null,
   "metadata": {},
   "outputs": [
    {
     "name": "stdout",
     "output_type": "stream",
     "text": [
      "[5 4 4]\n"
     ]
    }
   ],
   "source": [
    "# 33. Develop a NumPy function that extracts specific elements from a 3D array using indices provided in three separate arrays for each dimension.\n",
    "def extract_elements(a,r,c,d):\n",
    "    return a[r,c,d]\n",
    "arr_3d = np.random.randint(1,10,(4,4,4))\n",
    "arr_row = [0,1,3]\n",
    "arr_col = [0,1,2]\n",
    "arr_dep = [1,2,3]\n",
    "print(extract_elements(arr_3d, arr_row, arr_col, arr_dep))"
   ]
  },
  {
   "cell_type": "code",
   "execution_count": null,
   "metadata": {},
   "outputs": [
    {
     "name": "stdout",
     "output_type": "stream",
     "text": [
      "[[9 4 8 8 7 3 9 6]]\n",
      "4\n",
      "7\n",
      "3\n",
      "6\n"
     ]
    }
   ],
   "source": [
    "# 34. Write a NumPy function that returns elements from an array where both two conditions are satisfied using boolean indexing.\n",
    "def filter_conditions(a,c1,c2):\n",
    "    filter = np.logical_and(c1, c2)\n",
    "    for i in a[filter]:\n",
    "        print(i)\n",
    "arr = np.random.randint(0,10,(1,8))\n",
    "print(arr)\n",
    "filter_conditions(arr, arr > 2, arr < 8)"
   ]
  },
  {
   "cell_type": "code",
   "execution_count": null,
   "metadata": {},
   "outputs": [
    {
     "name": "stdout",
     "output_type": "stream",
     "text": [
      "[[6 3 2 5 4]\n",
      " [7 1 1 8 7]\n",
      " [5 6 9 5 7]\n",
      " [7 8 9 2 4]\n",
      " [9 3 4 3 4]]\n",
      "[7 4]\n"
     ]
    }
   ],
   "source": [
    "# 35. Create a NumPy function that extracts elements from a 2D array using row and column indices provided in separate arrays.\n",
    "def extract_elements(a,r,c):\n",
    "    return a[r,c]\n",
    "arr_2d = np.random.randint(1,10,(5,5))\n",
    "arr_row = [1,3]\n",
    "arr_col = [0,4]\n",
    "print(arr_2d)\n",
    "print(extract_elements(arr_2d, arr_row, arr_col))"
   ]
  },
  {
   "cell_type": "code",
   "execution_count": null,
   "metadata": {},
   "outputs": [
    {
     "name": "stdout",
     "output_type": "stream",
     "text": [
      "[[ 1.44512692  0.67079071  0.68049892]\n",
      " [ 0.17908073  1.05662262 -0.65161795]\n",
      " [ 1.29860853  1.79338643  1.77301819]]\n",
      "[[6.44512692 5.67079071 5.68049892]\n",
      " [5.17908073 6.05662262 4.34838205]\n",
      " [6.29860853 6.79338643 6.77301819]]\n"
     ]
    }
   ],
   "source": [
    "# 36. Given an array arr of shape (3, 3), add a scalar value of 5 to each element using NumPy broadcasting.\n",
    "arr = np.random.randn(3,3)\n",
    "print(arr)\n",
    "print(arr + 5)"
   ]
  },
  {
   "cell_type": "code",
   "execution_count": null,
   "metadata": {},
   "outputs": [
    {
     "name": "stdout",
     "output_type": "stream",
     "text": [
      "[[7 4 2]]\n",
      "[[5 2 2]\n",
      " [8 8 2]\n",
      " [9 2 6]\n",
      " [4 4 8]]\n",
      "[[35  8  4]\n",
      " [56 32  4]\n",
      " [63  8 12]\n",
      " [28 16 16]]\n"
     ]
    }
   ],
   "source": [
    "\"\"\"\n",
    "37. Consider two arrays arr1 of shape (1, 3) and arr2 of shape (3, 4). Multiply each row of arr2 by the\n",
    "corresponding element in arr1 using NumPy broadcasting.\n",
    "\"\"\"\n",
    "arr1 = np.random.randint(1,10,(1,3))\n",
    "arr2 = np.random.randint(1,10,(4,3))\n",
    "print(arr1)\n",
    "print(arr2)\n",
    "print(arr1 * arr2)"
   ]
  },
  {
   "cell_type": "code",
   "execution_count": null,
   "metadata": {},
   "outputs": [
    {
     "name": "stdout",
     "output_type": "stream",
     "text": [
      "[[1 8 4 8]]\n",
      "[[2 3 6 1]\n",
      " [3 2 9 3]\n",
      " [5 6 4 5]]\n",
      "[[ 3 11 10  9]\n",
      " [ 4 10 13 11]\n",
      " [ 6 14  8 13]]\n"
     ]
    }
   ],
   "source": [
    "\"\"\"\n",
    "38. Given a 1D array arr1 of shape (1, 4) and a 2D array arr2 of shape (4, 3), add arr1 to each row of arr2 using\n",
    "NumPy broadcasting.\n",
    "\"\"\"\n",
    "arr1 = np.random.randint(1,10,(1,4))\n",
    "arr2 = np.random.randint(1,10,(3,4))\n",
    "print(arr1)\n",
    "print(arr2)\n",
    "print(arr1 + arr2)"
   ]
  },
  {
   "cell_type": "code",
   "execution_count": null,
   "metadata": {},
   "outputs": [
    {
     "name": "stdout",
     "output_type": "stream",
     "text": [
      "[[9]\n",
      " [7]\n",
      " [5]]\n",
      "[[2 8 2]]\n",
      "[[11 17 11]\n",
      " [ 9 15  9]\n",
      " [ 7 13  7]]\n"
     ]
    }
   ],
   "source": [
    "\"\"\"\n",
    "39. Consider two arrays arr1 of shape (3, 1) and arr2 of shape (1, 3). Add these arrays using NumPy\n",
    "broadcasting.\n",
    "\"\"\"\n",
    "arr1 = np.random.randint(1,10,(3,1))\n",
    "arr2 = np.random.randint(1,10,(1,3))\n",
    "print(arr1)\n",
    "print(arr2)\n",
    "print(arr1 + arr2)"
   ]
  },
  {
   "cell_type": "code",
   "execution_count": null,
   "metadata": {},
   "outputs": [
    {
     "name": "stdout",
     "output_type": "stream",
     "text": [
      "[[2 9 8]\n",
      " [8 1 2]]\n",
      "[[3 7]\n",
      " [3 4]]\n",
      "[[ 6 27 24 24  3  6]\n",
      " [14 63 56 56  7 14]\n",
      " [ 6 27 24 24  3  6]\n",
      " [ 8 36 32 32  4  8]]\n"
     ]
    }
   ],
   "source": [
    "\"\"\"\n",
    "40. Given arrays arr1 of shape (2, 3) and arr2 of shape (2, 2), perform multiplication using NumPy\n",
    "broadcasting. Handle the shape incompatibility.\n",
    "\"\"\"\n",
    "arr1 = np.random.randint(1,10,(2,3))\n",
    "arr2 = np.random.randint(1,10,(2,2))\n",
    "print(arr1)\n",
    "print(arr2)\n",
    "arr1 = arr1.reshape((1,6))\n",
    "arr2 = arr2.reshape((4,1))\n",
    "print(arr1 * arr2)"
   ]
  },
  {
   "cell_type": "code",
   "execution_count": null,
   "metadata": {},
   "outputs": [
    {
     "name": "stdout",
     "output_type": "stream",
     "text": [
      "[2.5 3.5 4.5]\n"
     ]
    }
   ],
   "source": [
    "\"\"\"\n",
    "41. Calculate column-wise mean for the given array:\n",
    "\n",
    "arr = np.array([[1, 2, 3], [4, 5, 6]])\n",
    "\"\"\"\n",
    "arr = np.array([[1, 2, 3], [4, 5, 6]])\n",
    "print(np.mean(arr, axis=0))"
   ]
  },
  {
   "cell_type": "code",
   "execution_count": null,
   "metadata": {},
   "outputs": [
    {
     "name": "stdout",
     "output_type": "stream",
     "text": [
      "[3 6]\n"
     ]
    }
   ],
   "source": [
    "\"\"\"42. Find maximum value in each row of the given array:\n",
    "\n",
    "arr = np.array([[1, 2, 3], [4, 5, 6]])\n",
    "\"\"\"\n",
    "arr = np.array([[1, 2, 3], [4, 5, 6]])\n",
    "print(np.max(arr, axis=1))"
   ]
  },
  {
   "cell_type": "code",
   "execution_count": null,
   "metadata": {},
   "outputs": [
    {
     "name": "stdout",
     "output_type": "stream",
     "text": [
      "[4 5 6]\n"
     ]
    }
   ],
   "source": [
    "\"\"\"43. For the given array, find indices of maximum value in each column.\n",
    "\n",
    "arr = np.array([[1, 2, 3], [4, 5, 6]])\n",
    "\"\"\"\n",
    "arr = np.array([[1, 2, 3], [4, 5, 6]])\n",
    "print(np.max(arr, axis = 0))"
   ]
  },
  {
   "cell_type": "code",
   "execution_count": null,
   "metadata": {},
   "outputs": [
    {
     "name": "stdout",
     "output_type": "stream",
     "text": [
      "[[ 1  3  6]\n",
      " [ 4  9 15]]\n"
     ]
    }
   ],
   "source": [
    "\"\"\"44. For the given array, apply custom function to calculate moving sum along rows.\n",
    "\n",
    "arr = np.array([[1, 2, 3], [4, 5, 6]])\n",
    "\"\"\"\n",
    "arr = np.array([[1, 2, 3], [4, 5, 6]])\n",
    "print(np.cumsum(arr, axis=1))"
   ]
  },
  {
   "cell_type": "code",
   "execution_count": null,
   "metadata": {},
   "outputs": [
    {
     "name": "stdout",
     "output_type": "stream",
     "text": [
      "[False False False]\n"
     ]
    }
   ],
   "source": [
    "\"\"\"45. In the given array, check if all elements in each column are even.\n",
    "arr = np.array([[2, 4, 6], [3, 5, 7]])\n",
    "\"\"\"\n",
    "arr = np.array([[2, 4, 6], [3, 5, 7]])\n",
    "print(np.all(arr % 2 == 0, axis= 0))"
   ]
  },
  {
   "cell_type": "code",
   "execution_count": null,
   "metadata": {},
   "outputs": [
    {
     "name": "stdout",
     "output_type": "stream",
     "text": [
      "[[1 2 3]\n",
      " [4 5 6]]\n"
     ]
    }
   ],
   "source": [
    "\"\"\"46. Given a NumPy array arr, reshape it into a matrix of dimensions `m` rows and `n` columns. Return the\n",
    "reshaped matrix.\n",
    "original_array = np.array([1, 2, 3, 4, 5, 6])\n",
    "\n",
    "\"\"\"\n",
    "original_array = np.array([1, 2, 3, 4, 5, 6])\n",
    "reshaprd_array = original_array.reshape(2,3)\n",
    "print(reshaprd_array)"
   ]
  },
  {
   "cell_type": "code",
   "execution_count": null,
   "metadata": {},
   "outputs": [
    {
     "name": "stdout",
     "output_type": "stream",
     "text": [
      "[1 2 3 4 5 6]\n"
     ]
    }
   ],
   "source": [
    "\"\"\"47. Create a function that takes a matrix as input and returns the flattened array.\n",
    "input_matrix = np.array([[1, 2, 3], [4, 5, 6]])\n",
    "\n",
    "\"\"\"\n",
    "input_matrix = np.array([[1, 2, 3], [4, 5, 6]])\n",
    "flattened_array = input_matrix.flatten()\n",
    "print(flattened_array)"
   ]
  },
  {
   "cell_type": "code",
   "execution_count": null,
   "metadata": {},
   "outputs": [
    {
     "name": "stdout",
     "output_type": "stream",
     "text": [
      "[[1 2]\n",
      " [3 4]\n",
      " [5 6]\n",
      " [7 8]]\n"
     ]
    }
   ],
   "source": [
    "\"\"\"48. Write a function that concatenates two given arrays along a specified axis.\n",
    "\n",
    "array1 = np.array([[1, 2], [3, 4]])\n",
    "array2 = np.array([[5, 6], [7, 8]])\n",
    "\n",
    "\"\"\"\n",
    "array1 = np.array([[1, 2], [3, 4]])\n",
    "array2 = np.array([[5, 6], [7, 8]])\n",
    "concat_array = np.concatenate((array1, array2))\n",
    "print(concat_array)"
   ]
  },
  {
   "cell_type": "code",
   "execution_count": null,
   "metadata": {},
   "outputs": [
    {
     "name": "stdout",
     "output_type": "stream",
     "text": [
      "[array([[1, 2, 3]]), array([[4, 5, 6]]), array([[7, 8, 9]])]\n"
     ]
    }
   ],
   "source": [
    "\"\"\"49. Create a function that splits an array into multiple sub-arrays along a specified axis.\n",
    "\n",
    "original_array = np.array([[1, 2, 3], [4, 5, 6], [7, 8, 9]])\n",
    "\"\"\"\n",
    "original_array = np.array([[1, 2, 3], [4, 5, 6], [7, 8, 9]])\n",
    "print(np.split(original_array,3))"
   ]
  },
  {
   "cell_type": "code",
   "execution_count": null,
   "metadata": {},
   "outputs": [
    {
     "name": "stdout",
     "output_type": "stream",
     "text": [
      "[ 1  2 10  3  4 11  5]\n",
      "[ 1 10  4 11  5]\n"
     ]
    }
   ],
   "source": [
    "\"\"\"50. Write a function that inserts and then deletes elements from a given array at specified indices.\n",
    "original_array = np.array([1, 2, 3, 4, 5])\n",
    "indices_to_insert = [2, 4]\n",
    "values_to_insert = [10, 11]\n",
    "indices_to_delete = [1, 3]\n",
    "\"\"\"\n",
    "original_array = np.array([1, 2, 3, 4, 5])\n",
    "indices_to_insert = [2, 4]\n",
    "values_to_insert = [10, 11]\n",
    "indices_to_delete = [1, 3]\n",
    "new_array = np.insert(original_array,indices_to_insert,values_to_insert)\n",
    "print(new_array)\n",
    "new_modified_array = np.delete(new_array,indices_to_delete)\n",
    "print(new_modified_array)"
   ]
  },
  {
   "cell_type": "code",
   "execution_count": null,
   "metadata": {},
   "outputs": [
    {
     "name": "stdout",
     "output_type": "stream",
     "text": [
      "[[3 5 3 2 3 3 9 8 6 6]]\n",
      "[ 1  2  3  4  5  6  7  8  9 10]\n",
      "[[ 4  7  6  6  8  9 16 16 15 16]]\n"
     ]
    }
   ],
   "source": [
    "\"\"\"51. Create a NumPy array `arr1` with random integers and another array `arr2` with integers from 1 to 10.\n",
    "Perform element-wise addition between `arr1` and `arr2`.\n",
    "\"\"\"\n",
    "arr1 = np.random.randint(1,10,(1,10))\n",
    "arr2 = np.array([1,2,3,4,5,6,7,8,9,10])\n",
    "print(arr1)\n",
    "print(arr2)\n",
    "print(arr1 + arr2)"
   ]
  },
  {
   "cell_type": "code",
   "execution_count": null,
   "metadata": {},
   "outputs": [
    {
     "name": "stdout",
     "output_type": "stream",
     "text": [
      "[10  9  8  7  6  5  4  3  2  1]\n",
      "[[6 1 1 7 6 9 2 2 9 9]]\n",
      "[[ 4  8  7  0  0 -4  2  1 -7 -8]]\n"
     ]
    }
   ],
   "source": [
    "\"\"\"52. Generate a NumPy array `arr1` with sequential integers from 10 to 1 and another array `arr2` with integers\n",
    "from 1 to 10. Subtract `arr2` from `arr1` element-wise.\n",
    "\"\"\"\n",
    "arr1 = np.array([10,9,8,7,6,5,4,3,2,1])\n",
    "arr2 = np.random.randint(1,10,(1,10))\n",
    "print(arr1)\n",
    "print(arr2)\n",
    "print(arr1 - arr2)\n"
   ]
  },
  {
   "cell_type": "code",
   "execution_count": null,
   "metadata": {},
   "outputs": [
    {
     "name": "stdout",
     "output_type": "stream",
     "text": [
      "[1 2 3 4 5]\n",
      "[[5 3 9 9 5]]\n",
      "[[ 5  6 27 36 25]]\n"
     ]
    }
   ],
   "source": [
    "\"\"\"53. Create a NumPy array `arr1` with random integers and another array `arr2` with integers from 1 to 5.\n",
    "Perform element-wise multiplication between `arr1` and `arr2`.\n",
    "\"\"\"\n",
    "arr1 = np.array([1,2,3,4,5])\n",
    "arr2 = np.random.randint(1,10,(1,5))\n",
    "print(arr1)\n",
    "print(arr2)\n",
    "print(arr1 * arr2)"
   ]
  },
  {
   "cell_type": "code",
   "execution_count": null,
   "metadata": {},
   "outputs": [
    {
     "name": "stdout",
     "output_type": "stream",
     "text": [
      "[2. 2. 2. 2. 2.]\n"
     ]
    }
   ],
   "source": [
    "\"\"\"54. Generate a NumPy array `arr1` with even integers from 2 to 10 and another array `arr2` with integers from 1\n",
    "to 5. Perform element-wise division of `arr1` by `arr2`.\n",
    "\"\"\"\n",
    "arr1 = np.array([2,4,6,8,10])\n",
    "arr2 = np.array([1,2,3,4,5])\n",
    "print(arr1/arr2)"
   ]
  },
  {
   "cell_type": "code",
   "execution_count": null,
   "metadata": {},
   "outputs": [
    {
     "name": "stdout",
     "output_type": "stream",
     "text": [
      "[ 1 16 27 16  5]\n"
     ]
    }
   ],
   "source": [
    "\"\"\"55. Create a NumPy array `arr1` with integers from 1 to 5 and another array `arr2` with the same numbers\n",
    "reversed. Calculate the exponentiation of `arr1` raised to the power of `arr2` element-wise.\n",
    "\"\"\"\n",
    "arr1 = np.array([1,2,3,4,5])\n",
    "arr2 = np.array([5,4,3,2,1])\n",
    "print(arr1 ** arr2)\n"
   ]
  },
  {
   "cell_type": "code",
   "execution_count": null,
   "metadata": {},
   "outputs": [
    {
     "data": {
      "text/plain": [
       "array([1, 0, 1, 0, 1])"
      ]
     },
     "execution_count": 36,
     "metadata": {},
     "output_type": "execute_result"
    }
   ],
   "source": [
    "\"\"\"56. Write a function that counts the occurrences of a specific substring within a NumPy array of strings.\n",
    "arr = np.array(['hello', 'world', 'hello', 'numpy', 'hello'])\n",
    "\"\"\"\n",
    "def count_repete(array, string):\n",
    "    return np.char.count(array, string)\n",
    "arr = np.array(['hello', 'world', 'hello', 'numpy', 'hello'])\n",
    "count_repete(arr, 'hello')"
   ]
  },
  {
   "cell_type": "code",
   "execution_count": null,
   "metadata": {},
   "outputs": [
    {
     "data": {
      "text/plain": [
       "array(['GPT'], dtype='<U6')"
      ]
     },
     "execution_count": 37,
     "metadata": {},
     "output_type": "execute_result"
    }
   ],
   "source": [
    "\"\"\"57. Write a function that extracts uppercase characters from a NumPy array of strings.\n",
    "arr = np.array(['Hello', 'World', 'OpenAI', 'GPT'])\n",
    "\"\"\"\n",
    "def extract_upper(array):\n",
    "    return array[np.where(np.char.isupper(array))]\n",
    "arr = np.array(['Hello', 'World', 'OpenAI', 'GPT'])\n",
    "extract_upper(arr)"
   ]
  },
  {
   "cell_type": "code",
   "execution_count": null,
   "metadata": {},
   "outputs": [
    {
     "data": {
      "text/plain": [
       "array(['apple', 'lemon', 'grape', 'pineapple'], dtype='<U9')"
      ]
     },
     "execution_count": 38,
     "metadata": {},
     "output_type": "execute_result"
    }
   ],
   "source": [
    "\"\"\"58. Write a function that replaces occurrences of a substring in a NumPy array of strings with a new string.\n",
    "arr = np.array(['apple', 'banana', 'grape', 'pineapple'])\n",
    "\"\"\"\n",
    "def replace_str(array, oldval, newval):\n",
    "    return np.char.replace(array, old=oldval, new=newval)\n",
    "arr = np.array(['apple', 'banana', 'grape', 'pineapple'])\n",
    "replace_str(arr,'banana','lemon')"
   ]
  },
  {
   "cell_type": "code",
   "execution_count": null,
   "metadata": {},
   "outputs": [
    {
     "data": {
      "text/plain": [
       "array(['HelloOpen', 'WorldAI'], dtype='<U9')"
      ]
     },
     "execution_count": 39,
     "metadata": {},
     "output_type": "execute_result"
    }
   ],
   "source": [
    "\"\"\"59. Write a function that concatenates strings in a NumPy array element-wise.\n",
    "arr1 = np.array(['Hello', 'World'])\n",
    "arr2 = np.array(['Open', 'AI'])\n",
    "\"\"\"\n",
    "def concat_str(a1, a2):\n",
    "    return np.char.add(arr1, arr2)\n",
    "arr1 = np.array(['Hello', 'World'])\n",
    "arr2 = np.array(['Open', 'AI'])\n",
    "concat_str(arr1, arr2)"
   ]
  },
  {
   "cell_type": "code",
   "execution_count": null,
   "metadata": {},
   "outputs": [
    {
     "data": {
      "text/plain": [
       "9"
      ]
     },
     "execution_count": 40,
     "metadata": {},
     "output_type": "execute_result"
    }
   ],
   "source": [
    "\"\"\"60. Write a function that finds the length of the longest string in a NumPy array.\n",
    "\n",
    "arr = np.array(['apple', 'banana', 'grape', 'pineapple'])\n",
    "\"\"\"\n",
    "def max_length_str(array):\n",
    "    arr_lenstr = np.char.str_len(array)\n",
    "    return np.max(arr_lenstr)\n",
    "arr = np.array(['apple', 'banana', 'grape', 'pineapple'])\n",
    "max_length_str(arr)"
   ]
  },
  {
   "cell_type": "code",
   "execution_count": null,
   "metadata": {},
   "outputs": [
    {
     "name": "stdout",
     "output_type": "stream",
     "text": [
      "[[ 78 480 294 876 870 640 767 934 270 355 276 625 107 104 358 282 539 219\n",
      "  449 907 777 384 962 766 746 141   3 194 956 912 460 209 367  51 828 377\n",
      "   47  15 134 749 509 634 855 333  34 646 898 327 818 403 112 531 514 826\n",
      "  921 218 906 523 334 669 124  14 351 110 962 904 357 223 754 165 308 674\n",
      "  719 508 485 238 945 963 130 161 989 986 731 538 523 105 737 365 719  62\n",
      "  907  20 204 187 243 683 754  90 850 803]]\n",
      "Mean: 491.1\n",
      "Median: 482.5\n",
      "Varience: 95098.99000000002\n",
      "Standard Daviation: 308.3812413231389\n"
     ]
    }
   ],
   "source": [
    "\"\"\"61. Create a dataset of 100 random integers between 1 and 1000. Compute the mean, median, variance, and\n",
    "standard deviation of the dataset using NumPy's functions.\n",
    "\"\"\"\n",
    "arr = np.random.randint(1,1000,(1,100))\n",
    "print(arr)\n",
    "print(f\"Mean: {np.mean(arr)}\")\n",
    "print(f\"Median: {np.median(arr)}\")\n",
    "print(f\"Varience: {np.var(arr)}\")\n",
    "print(f\"Standard Daviation: {np.std(arr)}\")"
   ]
  },
  {
   "cell_type": "code",
   "execution_count": null,
   "metadata": {},
   "outputs": [
    {
     "name": "stdout",
     "output_type": "stream",
     "text": [
      "[[76  8 36 49 47  7 33  4 57  9 43  8 36 69 45 84 83  5 74 71 73 27 91 54\n",
      "  79 22 41 63 48  1 55 89 34 71 31 59 12 64 87 33 61 25 84 17 47 65  8 20\n",
      "  43 65]]\n",
      "25th percentile: 25.5\n",
      "25th percentile: 5.9\n"
     ]
    }
   ],
   "source": [
    "\"\"\"62. Generate an array of 50 random numbers between 1 and 100. Find the 25th and 75th percentiles of the\n",
    "dataset.\n",
    "\"\"\"\n",
    "arr = np.random.randint(1,100,(1,50))\n",
    "print(arr)\n",
    "print(f\"25th percentile: {np.percentile(arr, 25)}\")\n",
    "print(f\"25th percentile: {np.percentile(arr, 5)}\")"
   ]
  },
  {
   "cell_type": "code",
   "execution_count": null,
   "metadata": {},
   "outputs": [
    {
     "name": "stdout",
     "output_type": "stream",
     "text": [
      "[[2 2 4 3 3 3 4 6 3 2]]\n",
      "[[7 3 4 8 1 7 9 5 6 5]]\n",
      "[[1.         0.07484812]\n",
      " [0.07484812 1.        ]]\n"
     ]
    }
   ],
   "source": [
    "\"\"\"63. Create two arrays representing two sets of variables. Compute the correlation coefficient between these\n",
    "arrays using NumPy's `corrcoef` function.\n",
    "\n",
    "\"\"\"\n",
    "arr1 = np.random.randint(1,10,(1,10))\n",
    "arr2 = np.random.randint(1,10,(1,10))\n",
    "print(arr1)\n",
    "print(arr2)\n",
    "print(np.corrcoef(arr1, arr2))\n"
   ]
  },
  {
   "cell_type": "code",
   "execution_count": null,
   "metadata": {},
   "outputs": [
    {
     "name": "stdout",
     "output_type": "stream",
     "text": [
      "[[39 46 23]\n",
      " [68 79 40]\n",
      " [25 56 17]]\n"
     ]
    }
   ],
   "source": [
    "\"\"\"64. Create two matrices and perform matrix multiplication using NumPy's `dot` function.\n",
    "\n",
    "\"\"\"\n",
    "arr1 = np.random.randint(1,10,(3,2))\n",
    "arr2 = np.random.randint(1,10,(2,3))\n",
    "print(np.dot(arr1, arr2))"
   ]
  },
  {
   "cell_type": "code",
   "execution_count": null,
   "metadata": {},
   "outputs": [
    {
     "name": "stdout",
     "output_type": "stream",
     "text": [
      "[[283 610  87 861 367 311 576 789 402 951 550 593 559 151 366 215 813 868\n",
      "  707 849 127 332 957 438 790 473 965 255 565 760 156 210 288 435 737 505\n",
      "  236 843 780 396 601 305 273 264 887  58 863 453 450 870]]\n",
      "10th percentile: 204.60000000000002\n",
      "1st quartile: 292.25\n",
      "50th percentile: 489.0\n",
      "3rd quartile: 786.75\n",
      "90th percentile: 868.2\n"
     ]
    }
   ],
   "source": [
    "\"\"\"65. Create an array of 50 integers between 10 and 1000. Calculate the 10th, 50th (median), and 90th\n",
    "percentiles along with the first and third quartiles.\n",
    "\"\"\"\n",
    "arr = np.random.randint(10,1000,(1,50))\n",
    "print(arr)\n",
    "print(f\"10th percentile: {np.percentile(arr, 10)}\")\n",
    "print(f\"1st quartile: {np.percentile(arr, 25)}\")\n",
    "print(f\"50th percentile: {np.median(arr)}\")\n",
    "print(f\"3rd quartile: {np.percentile(arr, 75)}\")\n",
    "print(f\"90th percentile: {np.percentile(arr, 90)}\")"
   ]
  },
  {
   "cell_type": "code",
   "execution_count": null,
   "metadata": {},
   "outputs": [
    {
     "name": "stdout",
     "output_type": "stream",
     "text": [
      "(array([6], dtype=int64),)\n"
     ]
    }
   ],
   "source": [
    "\"\"\"66. Create a NumPy array of integers and find the index of a specific element.\n",
    "\"\"\"\n",
    "arr = np.array([6,8,3,1,9,2,5,10,7,4])\n",
    "print(np.where(arr == 5))"
   ]
  },
  {
   "cell_type": "code",
   "execution_count": null,
   "metadata": {},
   "outputs": [
    {
     "name": "stdout",
     "output_type": "stream",
     "text": [
      "[[41 28 22 16 19 38  4 49 38 28 22 35 49 17 25 11 28  5  4 23]]\n"
     ]
    },
    {
     "data": {
      "text/plain": [
       "array([[ 4,  4,  5, 11, 16, 17, 19, 22, 22, 23, 25, 28, 28, 28, 35, 38,\n",
       "        38, 41, 49, 49]])"
      ]
     },
     "execution_count": 5,
     "metadata": {},
     "output_type": "execute_result"
    }
   ],
   "source": [
    "\"\"\"67. Generate a random NumPy array and sort it in ascending order\"\"\"\n",
    "arr = np.random.randint(1,50,(1,20))\n",
    "print(arr)\n",
    "np.sort(arr)"
   ]
  },
  {
   "cell_type": "code",
   "execution_count": null,
   "metadata": {},
   "outputs": [
    {
     "name": "stdout",
     "output_type": "stream",
     "text": [
      "[25 42 30]\n"
     ]
    }
   ],
   "source": [
    "\"\"\"68. Filter elements >20 in the given NumPy array.\n",
    "arr = np.array([12, 25, 6, 42, 8, 30])\n",
    "\"\"\"\n",
    "arr = np.array([12, 25, 6, 42, 8, 30])\n",
    "print(arr[np.where(arr > 20)])"
   ]
  },
  {
   "cell_type": "code",
   "execution_count": null,
   "metadata": {},
   "outputs": [
    {
     "name": "stdout",
     "output_type": "stream",
     "text": [
      "[12 15]\n"
     ]
    }
   ],
   "source": [
    "\"\"\"69. Filter elements which are divisible by 3 from a given NumPy array.\n",
    "arr = np.array([1, 5, 8, 12, 15])\n",
    "\"\"\"\n",
    "arr = np.array([1, 5, 8, 12, 15])\n",
    "print(arr[np.where(arr % 3 == 0)])"
   ]
  },
  {
   "cell_type": "code",
   "execution_count": null,
   "metadata": {},
   "outputs": [
    {
     "name": "stdout",
     "output_type": "stream",
     "text": [
      "[20 30 40]\n"
     ]
    }
   ],
   "source": [
    "\"\"\"70. Filter elements which are ≥ 20 and ≤ 40 from a given NumPy array.\n",
    "arr = np.array([10, 20, 30, 40, 50])\n",
    "\"\"\"\n",
    "arr = np.array([10, 20, 30, 40, 50])\n",
    "print(arr[np.where(np.all((arr >= 20, arr <= 40), axis=0))])"
   ]
  },
  {
   "cell_type": "code",
   "execution_count": null,
   "metadata": {},
   "outputs": [
    {
     "name": "stdout",
     "output_type": "stream",
     "text": [
      "=\n"
     ]
    }
   ],
   "source": [
    "\"\"\"71. For the given NumPy array, check its byte order using the `dtype` attribute byteorder.\n",
    "arr = np.array([1, 2, 3])\n",
    "\"\"\"\n",
    "arr = np.array([1, 2, 3])\n",
    "print(arr.dtype.byteorder)"
   ]
  },
  {
   "cell_type": "code",
   "execution_count": null,
   "metadata": {},
   "outputs": [
    {
     "name": "stdout",
     "output_type": "stream",
     "text": [
      "[16777216 33554432 50331648]\n"
     ]
    }
   ],
   "source": [
    "\"\"\"72. For the given NumPy array, perform byte swapping in place using `byteswap()`.\n",
    "arr = np.array([1, 2, 3], dtype=np.int32)\n",
    "\"\"\"\n",
    "arr = np.array([1, 2, 3], dtype=np.int32)\n",
    "print(arr.byteswap())"
   ]
  },
  {
   "cell_type": "code",
   "execution_count": null,
   "metadata": {},
   "outputs": [
    {
     "name": "stdout",
     "output_type": "stream",
     "text": [
      "[16777216 33554432 50331648]\n"
     ]
    }
   ],
   "source": [
    "\"\"\"73. For the given NumPy array, swap its byte order without modifying the original array using\n",
    "`newbyteorder()`.\n",
    "arr = np.array([1, 2, 3], dtype=np.int32)\n",
    "\"\"\"\n",
    "arr = np.array([1, 2, 3], dtype=np.int32)\n",
    "print(arr.newbyteorder())"
   ]
  },
  {
   "cell_type": "code",
   "execution_count": null,
   "metadata": {},
   "outputs": [
    {
     "name": "stdout",
     "output_type": "stream",
     "text": [
      "[16777216 33554432 50331648]\n"
     ]
    }
   ],
   "source": [
    "\"\"\"74. For the given NumPy array and swap its byte order conditionally based on system endianness using\n",
    "`newbyteorder()`.\n",
    "arr = np.array([1, 2, 3], dtype=np.int32)\n",
    "\"\"\"\n",
    "arr = np.array([1, 2, 3], dtype=np.int32)\n",
    "print(arr.newbyteorder())"
   ]
  },
  {
   "cell_type": "code",
   "execution_count": null,
   "metadata": {},
   "outputs": [
    {
     "name": "stdout",
     "output_type": "stream",
     "text": [
      "[ 2  4  7  5  6  3  1  9 10  8]\n",
      "[ 2  4  7  5 15  3  1  9 10  8]\n"
     ]
    }
   ],
   "source": [
    "\"\"\"76. Create a NumPy array `arr1` with values from 1 to 10. Create a copy of `arr1` named `copy_arr` and modify\n",
    "an element in `copy_arr`. Check if modifying `copy_arr` affects `arr1`.\n",
    "\n",
    "\"\"\"\n",
    "arr = np.array([2,4,7,5,6,3,1,9,10,8])\n",
    "arr1 = arr.copy()\n",
    "arr1[4] = 15\n",
    "print(arr)\n",
    "print(arr1)"
   ]
  },
  {
   "cell_type": "code",
   "execution_count": null,
   "metadata": {},
   "outputs": [
    {
     "name": "stdout",
     "output_type": "stream",
     "text": [
      "[[7 4 4]\n",
      " [6 9 7]\n",
      " [5 5 7]]\n",
      "[[4 4]\n",
      " [9 7]]\n",
      "[[ 4  4]\n",
      " [15  7]]\n",
      "[[ 7  4  4]\n",
      " [ 6 15  7]\n",
      " [ 5  5  7]]\n"
     ]
    }
   ],
   "source": [
    "\"\"\"77. Create a 2D NumPy array `matrix` of shape (3, 3) with random integers. Extract a slice `view_slice` from\n",
    "the matrix. Modify an element in `view_slice` and observe if it changes the original `matrix`.\n",
    "\"\"\"\n",
    "matrix = np.random.randint(1,10,(3,3))\n",
    "view_slice = matrix[0:2, 1:3]\n",
    "print(matrix)\n",
    "print(view_slice)\n",
    "view_slice[1][0] = 15\n",
    "print(view_slice)\n",
    "print(matrix)"
   ]
  },
  {
   "cell_type": "code",
   "execution_count": null,
   "metadata": {},
   "outputs": [
    {
     "name": "stdout",
     "output_type": "stream",
     "text": [
      "[[ 4  5]\n",
      " [ 7  8]\n",
      " [10 11]]\n",
      "[[ 9 10]\n",
      " [12 13]\n",
      " [15 16]]\n",
      "[[ 1  2  3]\n",
      " [ 4  5  6]\n",
      " [ 7  8  9]\n",
      " [10 11 12]]\n"
     ]
    }
   ],
   "source": [
    "\"\"\"78. Create a NumPy array `array_a` of shape (4, 3) with sequential integers from 1 to 12. Extract a slice\n",
    "`view_b` from `array_a` and broadcast the addition of 5 to view_b. Check if it alters the original `array_a`.\n",
    "\"\"\"\n",
    "array_a = np.array([[1,2,3],[4,5,6],[7,8,9],[10,11,12]])\n",
    "view_b = array_a[1:4,0:2]\n",
    "print(view_b)\n",
    "view_b = view_b + 5\n",
    "print(view_b)\n",
    "print(array_a)"
   ]
  },
  {
   "cell_type": "code",
   "execution_count": null,
   "metadata": {},
   "outputs": [
    {
     "name": "stdout",
     "output_type": "stream",
     "text": [
      "[[1 2]\n",
      " [3 4]\n",
      " [5 6]\n",
      " [7 8]]\n",
      "[[ 1  2]\n",
      " [ 3 10]\n",
      " [ 5  6]\n",
      " [ 7  8]]\n",
      "[[ 1  2  3 10]\n",
      " [ 5  6  7  8]]\n"
     ]
    }
   ],
   "source": [
    "\"\"\"79. Create a NumPy array `orig_array` of shape (2, 4) with values from 1 to 8. Create a reshaped view\n",
    "`reshaped_view` of shape (4, 2) from orig_array. Modify an element in `reshaped_view` and check if it\n",
    "reflects changes in the original `orig_array`.\n",
    "\"\"\"\n",
    "orig_array = np.array([[1,2,3,4],[5,6,7,8]])\n",
    "reshaped_view = orig_array.reshape(4,2)\n",
    "print(reshaped_view)\n",
    "reshaped_view[1][1] = 10\n",
    "print(reshaped_view)\n",
    "print(orig_array)"
   ]
  },
  {
   "cell_type": "code",
   "execution_count": null,
   "metadata": {},
   "outputs": [
    {
     "name": "stdout",
     "output_type": "stream",
     "text": [
      "[[1 4 7 2]\n",
      " [9 7 1 1]\n",
      " [6 9 5 5]]\n",
      "[7 9 7 6 9]\n",
      "[ 7  9 20  6  9]\n",
      "[[1 4 7 2]\n",
      " [9 7 1 1]\n",
      " [6 9 5 5]]\n"
     ]
    }
   ],
   "source": [
    "\"\"\"80. Create a NumPy array `data` of shape (3, 4) with random integers. Extract a copy `data_copy` of\n",
    "elements greater than 5. Modify an element in `data_copy` and verify if it affects the original `data`.\n",
    "\"\"\"\n",
    "data = np.random.randint(1,10,(3,4))\n",
    "print(data)\n",
    "data_copy = data[np.where(data > 5)]\n",
    "print(data_copy)\n",
    "data_copy[2] = 20\n",
    "print(data_copy)\n",
    "print(data)"
   ]
  },
  {
   "cell_type": "code",
   "execution_count": null,
   "metadata": {},
   "outputs": [
    {
     "name": "stdout",
     "output_type": "stream",
     "text": [
      "[[ 2  3  2 14]\n",
      " [17  8  2  4]\n",
      " [ 5 12  2 19]]\n",
      "[[ 7 15  5  7]\n",
      " [17  3  7 19]\n",
      " [12 17  4  7]]\n",
      "A + B = [[ 9 18  7 21]\n",
      " [34 11  9 23]\n",
      " [17 29  6 26]]\n",
      "A - B = [[ -5 -12  -3   7]\n",
      " [  0   5  -5 -15]\n",
      " [ -7  -5  -2  12]]\n"
     ]
    }
   ],
   "source": [
    "\"\"\"81. Create two matrices A and B of identical shape containing integers and perform addition and subtraction\n",
    "operations between them.\n",
    "\"\"\"\n",
    "A = np.random.randint(1,20,(3,4))\n",
    "B = np.random.randint(1,20,(3,4))\n",
    "print(A)\n",
    "print(B)\n",
    "print(f\"A + B = {A + B}\")\n",
    "print(f\"A - B = {A - B}\")"
   ]
  },
  {
   "cell_type": "code",
   "execution_count": null,
   "metadata": {},
   "outputs": [
    {
     "name": "stdout",
     "output_type": "stream",
     "text": [
      "[[ 5  7]\n",
      " [15  3]\n",
      " [18  4]]\n",
      "[[ 4 19 18  3]\n",
      " [ 3  2 18  2]]\n",
      "[[ 41 109 216  29]\n",
      " [ 69 291 324  51]\n",
      " [ 84 350 396  62]]\n"
     ]
    }
   ],
   "source": [
    "\"\"\"82. Generate two matrices `C` (3x2) and `D` (2x4) and perform matrix multiplication.\n",
    "\"\"\"\n",
    "C = np.random.randint(1,20,(3,2))\n",
    "D = np.random.randint(1,20,(2,4))\n",
    "print(C)\n",
    "print(D)\n",
    "print(np.dot(C,D))"
   ]
  },
  {
   "cell_type": "code",
   "execution_count": null,
   "metadata": {},
   "outputs": [
    {
     "name": "stdout",
     "output_type": "stream",
     "text": [
      "[[ 8 10]\n",
      " [13  3]\n",
      " [17 13]]\n",
      "[[ 8 13 17]\n",
      " [10  3 13]]\n"
     ]
    }
   ],
   "source": [
    "\"\"\"83. Create a matrix `E` and find its transpose.\n",
    "\"\"\"\n",
    "E = np.random.randint(1,20,(3,2))\n",
    "print(E)\n",
    "print(E.T)"
   ]
  },
  {
   "cell_type": "code",
   "execution_count": 44,
   "metadata": {},
   "outputs": [
    {
     "name": "stdout",
     "output_type": "stream",
     "text": [
      "4171.999999999998\n"
     ]
    }
   ],
   "source": [
    "\"\"\"84. Generate a square matrix `F` and compute its determinant.\n",
    "\"\"\"\n",
    "F = np.random.randint(1,20,(3,3))\n",
    "print(np.linalg.det(F))"
   ]
  },
  {
   "cell_type": "code",
   "execution_count": 45,
   "metadata": {},
   "outputs": [
    {
     "name": "stdout",
     "output_type": "stream",
     "text": [
      "[[13  8  1]\n",
      " [ 8  7 18]\n",
      " [ 3 18  9]]\n",
      "[[ 0.07644991  0.01581722 -0.04012888]\n",
      " [ 0.00527241 -0.03339192  0.06619801]\n",
      " [-0.03602812  0.06151142 -0.00790861]]\n"
     ]
    }
   ],
   "source": [
    "\"\"\"85. Create a square matrix `G` and find its inverse.\n",
    "\"\"\"\n",
    "G = np.random.randint(1,20,(3,3))\n",
    "print(G)\n",
    "print(np.linalg.inv(G))"
   ]
  }
 ],
 "metadata": {
  "kernelspec": {
   "display_name": "Python 3",
   "language": "python",
   "name": "python3"
  },
  "language_info": {
   "codemirror_mode": {
    "name": "ipython",
    "version": 3
   },
   "file_extension": ".py",
   "mimetype": "text/x-python",
   "name": "python",
   "nbconvert_exporter": "python",
   "pygments_lexer": "ipython3",
   "version": "3.12.2"
  }
 },
 "nbformat": 4,
 "nbformat_minor": 2
}
