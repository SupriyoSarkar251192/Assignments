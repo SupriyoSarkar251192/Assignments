{
 "cells": [
  {
   "cell_type": "markdown",
   "metadata": {},
   "source": [
    "1. What is the primary purpose of a thesis statement in an essay?\n",
    "\n",
    "Ans: In general, a thesis statement expresses the purpose or main point of an essay. Additionally, the thesis may include the significance of or one's opinion on this topic. It is the commitment to the reader about the content, purpose, and organization of the paper."
   ]
  },
  {
   "cell_type": "markdown",
   "metadata": {},
   "source": [
    "2. Why is it important to cite your sources in academic writing?\n",
    "\n",
    "Ans: A thesis statement is important in academic writing for several reasons:\n",
    "        1. It gives the paper a direction and focus.\n",
    "        2. It tells the reader what to expect from the paper.\n",
    "        3. It identifies the topic of the paper and includes the points that will be discussed.\n",
    "        4. It tells the reader how the subject matter will be interpreted.\n",
    "        5. It introduces the main ideas of the paper in an orderly manner.\n",
    "        6. It helps relate the author's feelings or central argument to the reader.\n",
    "        7. It generates interest in the topic and encourages the audience to continue reading.\n",
    "        8. It makes a claim that others might dispute. \n"
   ]
  },
  {
   "cell_type": "markdown",
   "metadata": {},
   "source": [
    "3. What are the key differences between a hypothesis and a research question in a research study?\n",
    "\n",
    "Ans: Here are some differences between a hypothesis and a research question:\n",
    "        1. Format: A hypothesis is a predictive statement, while a research question is a question.\n",
    "        2. Purpose: A hypothesis is a predicted answer to a research question, based on literature. A research question presents the problems to be addressed in the study.\n",
    "        3. Knowledge required: A hypothesis requires a significant amount of knowledge, while a research question can be based on minimal knowledge.\n",
    "        4. Outcomes: A research question can have a broad range of outcomes, while a hypothesis has a narrow range.\n",
    "        5. Variables: A hypothesis includes variables, while a research question does not.\n",
    "        6. Testability: Only the null hypothesis can be tested statistically."
   ]
  },
  {
   "cell_type": "markdown",
   "metadata": {},
   "source": [
    "4. Explain the concept of \"critical thinking\" and its relevance in problem-solving.\n",
    "\n",
    "Ans: Problem solving and critical thinking refers to the ability to use knowledge, facts, and data to effectively solve problems.  This doesn’t mean to have an immediate answer, it means one have to be able to think on his/her feet, assess problems and find solutions. The ability to develop a well thought out solution within a reasonable time frame, however, is a skill that employers value greatly."
   ]
  },
  {
   "cell_type": "markdown",
   "metadata": {},
   "source": [
    "5. How does the concept of supply and demand influence the pricing of goods and services in a market economy?\n",
    "\n",
    "Ans: In a competitive market, supply and demand interact to determine prices. The law of supply and demand states that prices are determined by the relationship between supply and demand.\n",
    "Supply and demand are the willingness of consumers and producers to buy and sell. The price of a product is determined by the equilibrium price, which is the price at which demand and supply meet. The size of a price change is determined by the amount of the shift and the elasticity of demand or supply.\n",
    "The law of supply and demand centers on prices that change when either the supply of goods and services or the demand for them changes. Normally, when supply increases and demand doesn't, prices go down. If supply remains unchanged while demand increases, prices rise.\n"
   ]
  }
 ],
 "metadata": {
  "kernelspec": {
   "display_name": "Python 3",
   "language": "python",
   "name": "python3"
  },
  "language_info": {
   "codemirror_mode": {
    "name": "ipython",
    "version": 3
   },
   "file_extension": ".py",
   "mimetype": "text/x-python",
   "name": "python",
   "nbconvert_exporter": "python",
   "pygments_lexer": "ipython3",
   "version": "3.11.8"
  }
 },
 "nbformat": 4,
 "nbformat_minor": 2
}
